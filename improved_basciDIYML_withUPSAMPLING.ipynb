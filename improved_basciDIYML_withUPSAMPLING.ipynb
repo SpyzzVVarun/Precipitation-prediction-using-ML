{
 "cells": [
  {
   "cell_type": "markdown",
   "metadata": {},
   "source": [
    "# Introduction\n",
    "\n",
    "##### This is a basic project offered by the Coding Club of Indian Institute of Technology, Guwahati (IIT Guwahati). The main aim of this project was to get familiar with the workflow and various techniques involved in a Machine Learning project."
   ]
  },
  {
   "cell_type": "markdown",
   "metadata": {},
   "source": [
    "## Steps involved in this basic DIY Machine Learning Project are:\n",
    "1. Data Importing and Exploration\n",
    "2. Handling Class Imbalance and missing values\n",
    "3. Standardizing Data and Feature Selection\n",
    "4. Train Model Using different techniques\n",
    "5. Model Comparision"
   ]
  },
  {
   "cell_type": "markdown",
   "metadata": {},
   "source": [
    "# Data Importing and Exploration\n",
    "* We will use pandas framework to import the data and perform further analysis on it.\n",
    "* PRCP column in the dataframe will be our target feature in this model. We have to replace all values greater than 0 as 1 (representing precipitation will occur), and values that are equal to 0 representing precipitation will not occur."
   ]
  },
  {
   "cell_type": "markdown",
   "metadata": {},
   "source": [
    "## Importing Libraries"
   ]
  },
  {
   "cell_type": "code",
   "execution_count": 1,
   "metadata": {
    "execution": {
     "iopub.execute_input": "2022-01-22T10:24:53.019469Z",
     "iopub.status.busy": "2022-01-22T10:24:53.019138Z",
     "iopub.status.idle": "2022-01-22T10:24:53.027826Z",
     "shell.execute_reply": "2022-01-22T10:24:53.027112Z",
     "shell.execute_reply.started": "2022-01-22T10:24:53.019426Z"
    }
   },
   "outputs": [],
   "source": [
    "import numpy as np\n",
    "import pandas as pd\n",
    "import seaborn as sns\n",
    "import matplotlib.pyplot as plt\n",
    "%matplotlib inline\n",
    "import warnings\n",
    "warnings.filterwarnings('ignore')"
   ]
  },
  {
   "cell_type": "markdown",
   "metadata": {},
   "source": [
    "## Loading Dataset"
   ]
  },
  {
   "cell_type": "code",
   "execution_count": 2,
   "metadata": {
    "execution": {
     "iopub.execute_input": "2022-01-22T10:24:53.030320Z",
     "iopub.status.busy": "2022-01-22T10:24:53.029712Z",
     "iopub.status.idle": "2022-01-22T10:24:53.070715Z",
     "shell.execute_reply": "2022-01-22T10:24:53.070152Z",
     "shell.execute_reply.started": "2022-01-22T10:24:53.030273Z"
    }
   },
   "outputs": [
    {
     "data": {
      "text/html": [
       "<div>\n",
       "<style scoped>\n",
       "    .dataframe tbody tr th:only-of-type {\n",
       "        vertical-align: middle;\n",
       "    }\n",
       "\n",
       "    .dataframe tbody tr th {\n",
       "        vertical-align: top;\n",
       "    }\n",
       "\n",
       "    .dataframe thead th {\n",
       "        text-align: right;\n",
       "    }\n",
       "</style>\n",
       "<table border=\"1\" class=\"dataframe\">\n",
       "  <thead>\n",
       "    <tr style=\"text-align: right;\">\n",
       "      <th></th>\n",
       "      <th>STATION</th>\n",
       "      <th>NAME</th>\n",
       "      <th>DATE</th>\n",
       "      <th>AWND</th>\n",
       "      <th>PGTM</th>\n",
       "      <th>PRCP</th>\n",
       "      <th>TAVG</th>\n",
       "      <th>TMAX</th>\n",
       "      <th>TMIN</th>\n",
       "      <th>WDF2</th>\n",
       "      <th>WDF5</th>\n",
       "      <th>WSF2</th>\n",
       "      <th>WSF5</th>\n",
       "      <th>WT01</th>\n",
       "      <th>WT02</th>\n",
       "      <th>WT08</th>\n",
       "    </tr>\n",
       "  </thead>\n",
       "  <tbody>\n",
       "    <tr>\n",
       "      <th>0</th>\n",
       "      <td>USW00093134</td>\n",
       "      <td>LOS ANGELES DOWNTOWN USC, CA US</td>\n",
       "      <td>2016-01-01</td>\n",
       "      <td>2.46</td>\n",
       "      <td>NaN</td>\n",
       "      <td>0.00</td>\n",
       "      <td>NaN</td>\n",
       "      <td>64</td>\n",
       "      <td>43</td>\n",
       "      <td>10.0</td>\n",
       "      <td>30.0</td>\n",
       "      <td>8.1</td>\n",
       "      <td>11.0</td>\n",
       "      <td>NaN</td>\n",
       "      <td>NaN</td>\n",
       "      <td>1.0</td>\n",
       "    </tr>\n",
       "    <tr>\n",
       "      <th>1</th>\n",
       "      <td>USW00093134</td>\n",
       "      <td>LOS ANGELES DOWNTOWN USC, CA US</td>\n",
       "      <td>2016-01-02</td>\n",
       "      <td>2.01</td>\n",
       "      <td>NaN</td>\n",
       "      <td>0.00</td>\n",
       "      <td>NaN</td>\n",
       "      <td>65</td>\n",
       "      <td>47</td>\n",
       "      <td>270.0</td>\n",
       "      <td>30.0</td>\n",
       "      <td>6.0</td>\n",
       "      <td>8.9</td>\n",
       "      <td>NaN</td>\n",
       "      <td>NaN</td>\n",
       "      <td>NaN</td>\n",
       "    </tr>\n",
       "    <tr>\n",
       "      <th>2</th>\n",
       "      <td>USW00093134</td>\n",
       "      <td>LOS ANGELES DOWNTOWN USC, CA US</td>\n",
       "      <td>2016-01-03</td>\n",
       "      <td>0.67</td>\n",
       "      <td>NaN</td>\n",
       "      <td>0.00</td>\n",
       "      <td>NaN</td>\n",
       "      <td>62</td>\n",
       "      <td>44</td>\n",
       "      <td>150.0</td>\n",
       "      <td>150.0</td>\n",
       "      <td>10.1</td>\n",
       "      <td>14.1</td>\n",
       "      <td>NaN</td>\n",
       "      <td>NaN</td>\n",
       "      <td>NaN</td>\n",
       "    </tr>\n",
       "    <tr>\n",
       "      <th>3</th>\n",
       "      <td>USW00093134</td>\n",
       "      <td>LOS ANGELES DOWNTOWN USC, CA US</td>\n",
       "      <td>2016-01-04</td>\n",
       "      <td>1.34</td>\n",
       "      <td>NaN</td>\n",
       "      <td>0.01</td>\n",
       "      <td>NaN</td>\n",
       "      <td>69</td>\n",
       "      <td>55</td>\n",
       "      <td>270.0</td>\n",
       "      <td>280.0</td>\n",
       "      <td>8.1</td>\n",
       "      <td>14.1</td>\n",
       "      <td>NaN</td>\n",
       "      <td>NaN</td>\n",
       "      <td>NaN</td>\n",
       "    </tr>\n",
       "    <tr>\n",
       "      <th>4</th>\n",
       "      <td>USW00093134</td>\n",
       "      <td>LOS ANGELES DOWNTOWN USC, CA US</td>\n",
       "      <td>2016-01-05</td>\n",
       "      <td>2.46</td>\n",
       "      <td>NaN</td>\n",
       "      <td>1.61</td>\n",
       "      <td>NaN</td>\n",
       "      <td>59</td>\n",
       "      <td>49</td>\n",
       "      <td>140.0</td>\n",
       "      <td>140.0</td>\n",
       "      <td>10.1</td>\n",
       "      <td>16.1</td>\n",
       "      <td>1.0</td>\n",
       "      <td>1.0</td>\n",
       "      <td>NaN</td>\n",
       "    </tr>\n",
       "  </tbody>\n",
       "</table>\n",
       "</div>"
      ],
      "text/plain": [
       "       STATION                             NAME       DATE  AWND  PGTM  PRCP  \\\n",
       "0  USW00093134  LOS ANGELES DOWNTOWN USC, CA US 2016-01-01  2.46   NaN  0.00   \n",
       "1  USW00093134  LOS ANGELES DOWNTOWN USC, CA US 2016-01-02  2.01   NaN  0.00   \n",
       "2  USW00093134  LOS ANGELES DOWNTOWN USC, CA US 2016-01-03  0.67   NaN  0.00   \n",
       "3  USW00093134  LOS ANGELES DOWNTOWN USC, CA US 2016-01-04  1.34   NaN  0.01   \n",
       "4  USW00093134  LOS ANGELES DOWNTOWN USC, CA US 2016-01-05  2.46   NaN  1.61   \n",
       "\n",
       "   TAVG  TMAX  TMIN   WDF2   WDF5  WSF2  WSF5  WT01  WT02  WT08  \n",
       "0   NaN    64    43   10.0   30.0   8.1  11.0   NaN   NaN   1.0  \n",
       "1   NaN    65    47  270.0   30.0   6.0   8.9   NaN   NaN   NaN  \n",
       "2   NaN    62    44  150.0  150.0  10.1  14.1   NaN   NaN   NaN  \n",
       "3   NaN    69    55  270.0  280.0   8.1  14.1   NaN   NaN   NaN  \n",
       "4   NaN    59    49  140.0  140.0  10.1  16.1   1.0   1.0   NaN  "
      ]
     },
     "execution_count": 2,
     "metadata": {},
     "output_type": "execute_result"
    }
   ],
   "source": [
    "data = pd.read_csv(r'C:\\Users\\nagpa\\Downloads\\dataset.csv', parse_dates = ['DATE'])\n",
    "data.head()\n",
    "#data.DATE.dtype"
   ]
  },
  {
   "cell_type": "markdown",
   "metadata": {},
   "source": [
    "### Working on PRCP column (Target Column)"
   ]
  },
  {
   "cell_type": "code",
   "execution_count": 3,
   "metadata": {
    "execution": {
     "iopub.execute_input": "2022-01-22T10:24:53.072021Z",
     "iopub.status.busy": "2022-01-22T10:24:53.071707Z",
     "iopub.status.idle": "2022-01-22T10:24:53.077275Z",
     "shell.execute_reply": "2022-01-22T10:24:53.076432Z",
     "shell.execute_reply.started": "2022-01-22T10:24:53.071994Z"
    }
   },
   "outputs": [],
   "source": [
    "data.loc[data['PRCP'] > 0, 'PRCP'] = 1"
   ]
  },
  {
   "cell_type": "code",
   "execution_count": 4,
   "metadata": {
    "execution": {
     "iopub.execute_input": "2022-01-22T10:24:53.079529Z",
     "iopub.status.busy": "2022-01-22T10:24:53.079299Z",
     "iopub.status.idle": "2022-01-22T10:24:53.099358Z",
     "shell.execute_reply": "2022-01-22T10:24:53.098744Z",
     "shell.execute_reply.started": "2022-01-22T10:24:53.079500Z"
    }
   },
   "outputs": [
    {
     "name": "stdout",
     "output_type": "stream",
     "text": [
      "<class 'pandas.core.frame.DataFrame'>\n",
      "RangeIndex: 1827 entries, 0 to 1826\n",
      "Data columns (total 16 columns):\n",
      " #   Column   Non-Null Count  Dtype         \n",
      "---  ------   --------------  -----         \n",
      " 0   STATION  1827 non-null   object        \n",
      " 1   NAME     1827 non-null   object        \n",
      " 2   DATE     1827 non-null   datetime64[ns]\n",
      " 3   AWND     1823 non-null   float64       \n",
      " 4   PGTM     62 non-null     float64       \n",
      " 5   PRCP     1827 non-null   float64       \n",
      " 6   TAVG     0 non-null      float64       \n",
      " 7   TMAX     1827 non-null   int64         \n",
      " 8   TMIN     1827 non-null   int64         \n",
      " 9   WDF2     1822 non-null   float64       \n",
      " 10  WDF5     1809 non-null   float64       \n",
      " 11  WSF2     1823 non-null   float64       \n",
      " 12  WSF5     1809 non-null   float64       \n",
      " 13  WT01     551 non-null    float64       \n",
      " 14  WT02     39 non-null     float64       \n",
      " 15  WT08     861 non-null    float64       \n",
      "dtypes: datetime64[ns](1), float64(11), int64(2), object(2)\n",
      "memory usage: 228.5+ KB\n"
     ]
    }
   ],
   "source": [
    "data.info()"
   ]
  },
  {
   "cell_type": "code",
   "execution_count": 5,
   "metadata": {
    "execution": {
     "iopub.execute_input": "2022-01-22T10:24:53.100731Z",
     "iopub.status.busy": "2022-01-22T10:24:53.100401Z",
     "iopub.status.idle": "2022-01-22T10:24:53.105620Z",
     "shell.execute_reply": "2022-01-22T10:24:53.104900Z",
     "shell.execute_reply.started": "2022-01-22T10:24:53.100702Z"
    }
   },
   "outputs": [
    {
     "data": {
      "text/plain": [
       "(1827, 16)"
      ]
     },
     "execution_count": 5,
     "metadata": {},
     "output_type": "execute_result"
    }
   ],
   "source": [
    "data.shape"
   ]
  },
  {
   "cell_type": "code",
   "execution_count": 6,
   "metadata": {
    "execution": {
     "iopub.execute_input": "2022-01-22T10:24:53.107120Z",
     "iopub.status.busy": "2022-01-22T10:24:53.106761Z",
     "iopub.status.idle": "2022-01-22T10:24:53.158921Z",
     "shell.execute_reply": "2022-01-22T10:24:53.158180Z",
     "shell.execute_reply.started": "2022-01-22T10:24:53.107065Z"
    }
   },
   "outputs": [
    {
     "data": {
      "text/html": [
       "<div>\n",
       "<style scoped>\n",
       "    .dataframe tbody tr th:only-of-type {\n",
       "        vertical-align: middle;\n",
       "    }\n",
       "\n",
       "    .dataframe tbody tr th {\n",
       "        vertical-align: top;\n",
       "    }\n",
       "\n",
       "    .dataframe thead th {\n",
       "        text-align: right;\n",
       "    }\n",
       "</style>\n",
       "<table border=\"1\" class=\"dataframe\">\n",
       "  <thead>\n",
       "    <tr style=\"text-align: right;\">\n",
       "      <th></th>\n",
       "      <th>AWND</th>\n",
       "      <th>PGTM</th>\n",
       "      <th>PRCP</th>\n",
       "      <th>TAVG</th>\n",
       "      <th>TMAX</th>\n",
       "      <th>TMIN</th>\n",
       "      <th>WDF2</th>\n",
       "      <th>WDF5</th>\n",
       "      <th>WSF2</th>\n",
       "      <th>WSF5</th>\n",
       "      <th>WT01</th>\n",
       "      <th>WT02</th>\n",
       "      <th>WT08</th>\n",
       "    </tr>\n",
       "  </thead>\n",
       "  <tbody>\n",
       "    <tr>\n",
       "      <th>count</th>\n",
       "      <td>1823.000000</td>\n",
       "      <td>62.000000</td>\n",
       "      <td>1827.000000</td>\n",
       "      <td>0.0</td>\n",
       "      <td>1827.000000</td>\n",
       "      <td>1827.000000</td>\n",
       "      <td>1822.000000</td>\n",
       "      <td>1809.000000</td>\n",
       "      <td>1823.000000</td>\n",
       "      <td>1809.000000</td>\n",
       "      <td>551.0</td>\n",
       "      <td>39.0</td>\n",
       "      <td>861.0</td>\n",
       "    </tr>\n",
       "    <tr>\n",
       "      <th>mean</th>\n",
       "      <td>1.675710</td>\n",
       "      <td>1404.854839</td>\n",
       "      <td>0.091407</td>\n",
       "      <td>NaN</td>\n",
       "      <td>76.498632</td>\n",
       "      <td>58.120416</td>\n",
       "      <td>254.143798</td>\n",
       "      <td>256.428966</td>\n",
       "      <td>9.062095</td>\n",
       "      <td>14.721669</td>\n",
       "      <td>1.0</td>\n",
       "      <td>1.0</td>\n",
       "      <td>1.0</td>\n",
       "    </tr>\n",
       "    <tr>\n",
       "      <th>std</th>\n",
       "      <td>0.909434</td>\n",
       "      <td>350.813754</td>\n",
       "      <td>0.288265</td>\n",
       "      <td>NaN</td>\n",
       "      <td>9.133929</td>\n",
       "      <td>7.223756</td>\n",
       "      <td>54.756284</td>\n",
       "      <td>55.571902</td>\n",
       "      <td>2.016827</td>\n",
       "      <td>3.622257</td>\n",
       "      <td>0.0</td>\n",
       "      <td>0.0</td>\n",
       "      <td>0.0</td>\n",
       "    </tr>\n",
       "    <tr>\n",
       "      <th>min</th>\n",
       "      <td>0.000000</td>\n",
       "      <td>103.000000</td>\n",
       "      <td>0.000000</td>\n",
       "      <td>NaN</td>\n",
       "      <td>52.000000</td>\n",
       "      <td>38.000000</td>\n",
       "      <td>10.000000</td>\n",
       "      <td>10.000000</td>\n",
       "      <td>2.900000</td>\n",
       "      <td>6.000000</td>\n",
       "      <td>1.0</td>\n",
       "      <td>1.0</td>\n",
       "      <td>1.0</td>\n",
       "    </tr>\n",
       "    <tr>\n",
       "      <th>25%</th>\n",
       "      <td>1.120000</td>\n",
       "      <td>1337.500000</td>\n",
       "      <td>0.000000</td>\n",
       "      <td>NaN</td>\n",
       "      <td>70.000000</td>\n",
       "      <td>53.000000</td>\n",
       "      <td>260.000000</td>\n",
       "      <td>270.000000</td>\n",
       "      <td>8.100000</td>\n",
       "      <td>12.100000</td>\n",
       "      <td>1.0</td>\n",
       "      <td>1.0</td>\n",
       "      <td>1.0</td>\n",
       "    </tr>\n",
       "    <tr>\n",
       "      <th>50%</th>\n",
       "      <td>1.570000</td>\n",
       "      <td>1442.500000</td>\n",
       "      <td>0.000000</td>\n",
       "      <td>NaN</td>\n",
       "      <td>76.000000</td>\n",
       "      <td>58.000000</td>\n",
       "      <td>270.000000</td>\n",
       "      <td>270.000000</td>\n",
       "      <td>8.900000</td>\n",
       "      <td>14.100000</td>\n",
       "      <td>1.0</td>\n",
       "      <td>1.0</td>\n",
       "      <td>1.0</td>\n",
       "    </tr>\n",
       "    <tr>\n",
       "      <th>75%</th>\n",
       "      <td>2.010000</td>\n",
       "      <td>1545.000000</td>\n",
       "      <td>0.000000</td>\n",
       "      <td>NaN</td>\n",
       "      <td>83.000000</td>\n",
       "      <td>64.000000</td>\n",
       "      <td>270.000000</td>\n",
       "      <td>280.000000</td>\n",
       "      <td>10.100000</td>\n",
       "      <td>16.100000</td>\n",
       "      <td>1.0</td>\n",
       "      <td>1.0</td>\n",
       "      <td>1.0</td>\n",
       "    </tr>\n",
       "    <tr>\n",
       "      <th>max</th>\n",
       "      <td>8.050000</td>\n",
       "      <td>2314.000000</td>\n",
       "      <td>1.000000</td>\n",
       "      <td>NaN</td>\n",
       "      <td>111.000000</td>\n",
       "      <td>79.000000</td>\n",
       "      <td>360.000000</td>\n",
       "      <td>360.000000</td>\n",
       "      <td>21.000000</td>\n",
       "      <td>34.000000</td>\n",
       "      <td>1.0</td>\n",
       "      <td>1.0</td>\n",
       "      <td>1.0</td>\n",
       "    </tr>\n",
       "  </tbody>\n",
       "</table>\n",
       "</div>"
      ],
      "text/plain": [
       "              AWND         PGTM         PRCP  TAVG         TMAX         TMIN  \\\n",
       "count  1823.000000    62.000000  1827.000000   0.0  1827.000000  1827.000000   \n",
       "mean      1.675710  1404.854839     0.091407   NaN    76.498632    58.120416   \n",
       "std       0.909434   350.813754     0.288265   NaN     9.133929     7.223756   \n",
       "min       0.000000   103.000000     0.000000   NaN    52.000000    38.000000   \n",
       "25%       1.120000  1337.500000     0.000000   NaN    70.000000    53.000000   \n",
       "50%       1.570000  1442.500000     0.000000   NaN    76.000000    58.000000   \n",
       "75%       2.010000  1545.000000     0.000000   NaN    83.000000    64.000000   \n",
       "max       8.050000  2314.000000     1.000000   NaN   111.000000    79.000000   \n",
       "\n",
       "              WDF2         WDF5         WSF2         WSF5   WT01  WT02   WT08  \n",
       "count  1822.000000  1809.000000  1823.000000  1809.000000  551.0  39.0  861.0  \n",
       "mean    254.143798   256.428966     9.062095    14.721669    1.0   1.0    1.0  \n",
       "std      54.756284    55.571902     2.016827     3.622257    0.0   0.0    0.0  \n",
       "min      10.000000    10.000000     2.900000     6.000000    1.0   1.0    1.0  \n",
       "25%     260.000000   270.000000     8.100000    12.100000    1.0   1.0    1.0  \n",
       "50%     270.000000   270.000000     8.900000    14.100000    1.0   1.0    1.0  \n",
       "75%     270.000000   280.000000    10.100000    16.100000    1.0   1.0    1.0  \n",
       "max     360.000000   360.000000    21.000000    34.000000    1.0   1.0    1.0  "
      ]
     },
     "execution_count": 6,
     "metadata": {},
     "output_type": "execute_result"
    }
   ],
   "source": [
    "data.describe()"
   ]
  },
  {
   "cell_type": "markdown",
   "metadata": {},
   "source": [
    "# Visualizing Class Imbalance and  dealing with missing values\n",
    "* In our dataset, there is an imbalance between examples where precipitation occurs or not. We will use seaborn/matplotlib to visualize it.\n",
    "* Most of the ML algos used for classification were designed with the assumption of an equal no. of examples in each case. Therefore we need to balance it. This is done later using SMOTE to oversample the data.\n",
    "* We will check for null values. If any feature contains many null values, we will drop it. We will convert the rest of the null values with mode."
   ]
  },
  {
   "cell_type": "markdown",
   "metadata": {},
   "source": [
    "## Visualizing Class Imbalance"
   ]
  },
  {
   "cell_type": "code",
   "execution_count": 7,
   "metadata": {
    "execution": {
     "iopub.execute_input": "2022-01-22T10:24:53.160402Z",
     "iopub.status.busy": "2022-01-22T10:24:53.160189Z",
     "iopub.status.idle": "2022-01-22T10:24:53.296633Z",
     "shell.execute_reply": "2022-01-22T10:24:53.295623Z",
     "shell.execute_reply.started": "2022-01-22T10:24:53.160376Z"
    }
   },
   "outputs": [
    {
     "data": {
      "text/plain": [
       "<AxesSubplot:xlabel='PRCP', ylabel='count'>"
      ]
     },
     "execution_count": 7,
     "metadata": {},
     "output_type": "execute_result"
    },
    {
     "data": {
      "image/png": "[encoded data removed]",
      "text/plain": [
       "<Figure size 432x288 with 1 Axes>"
      ]
     },
     "metadata": {
      "needs_background": "light"
     },
     "output_type": "display_data"
    }
   ],
   "source": [
    "sns.countplot(x = 'PRCP',data = data)"
   ]
  },
  {
   "cell_type": "markdown",
   "metadata": {},
   "source": [
    "#### Here we can clearly see the number of samples for the case when precipitation occurs is much less than for the case when precipitation does not occur. Hence, there is class imbalance"
   ]
  },
  {
   "cell_type": "markdown",
   "metadata": {},
   "source": [
    "### Checking for Null Values"
   ]
  },
  {
   "cell_type": "code",
   "execution_count": 8,
   "metadata": {
    "execution": {
     "iopub.execute_input": "2022-01-22T10:24:53.298612Z",
     "iopub.status.busy": "2022-01-22T10:24:53.298309Z",
     "iopub.status.idle": "2022-01-22T10:24:53.712791Z",
     "shell.execute_reply": "2022-01-22T10:24:53.711819Z",
     "shell.execute_reply.started": "2022-01-22T10:24:53.298569Z"
    }
   },
   "outputs": [
    {
     "data": {
      "text/plain": [
       "<AxesSubplot:>"
      ]
     },
     "execution_count": 8,
     "metadata": {},
     "output_type": "execute_result"
    },
    {
     "data": {
      "image/png": "[encoded data removed]",
      "text/plain": [
       "<Figure size 432x288 with 2 Axes>"
      ]
     },
     "metadata": {
      "needs_background": "light"
     },
     "output_type": "display_data"
    }
   ],
   "source": [
    "sns.heatmap(data.isnull())"
   ]
  },
  {
   "cell_type": "markdown",
   "metadata": {},
   "source": [
    "#### Based on the heatmap, columns PGTM,TAVG have too many null values and shall be dropped. The rest of the cells with null values will be imputed with the mode value "
   ]
  },
  {
   "cell_type": "code",
   "execution_count": 9,
   "metadata": {
    "execution": {
     "iopub.execute_input": "2022-01-22T10:24:53.714828Z",
     "iopub.status.busy": "2022-01-22T10:24:53.714419Z",
     "iopub.status.idle": "2022-01-22T10:24:53.736334Z",
     "shell.execute_reply": "2022-01-22T10:24:53.735612Z",
     "shell.execute_reply.started": "2022-01-22T10:24:53.714781Z"
    }
   },
   "outputs": [
    {
     "data": {
      "text/html": [
       "<div>\n",
       "<style scoped>\n",
       "    .dataframe tbody tr th:only-of-type {\n",
       "        vertical-align: middle;\n",
       "    }\n",
       "\n",
       "    .dataframe tbody tr th {\n",
       "        vertical-align: top;\n",
       "    }\n",
       "\n",
       "    .dataframe thead th {\n",
       "        text-align: right;\n",
       "    }\n",
       "</style>\n",
       "<table border=\"1\" class=\"dataframe\">\n",
       "  <thead>\n",
       "    <tr style=\"text-align: right;\">\n",
       "      <th></th>\n",
       "      <th>STATION</th>\n",
       "      <th>NAME</th>\n",
       "      <th>DATE</th>\n",
       "      <th>AWND</th>\n",
       "      <th>PRCP</th>\n",
       "      <th>TMAX</th>\n",
       "      <th>TMIN</th>\n",
       "      <th>WDF2</th>\n",
       "      <th>WDF5</th>\n",
       "      <th>WSF2</th>\n",
       "      <th>WSF5</th>\n",
       "      <th>WT01</th>\n",
       "      <th>WT02</th>\n",
       "      <th>WT08</th>\n",
       "    </tr>\n",
       "  </thead>\n",
       "  <tbody>\n",
       "    <tr>\n",
       "      <th>0</th>\n",
       "      <td>USW00093134</td>\n",
       "      <td>LOS ANGELES DOWNTOWN USC, CA US</td>\n",
       "      <td>2016-01-01</td>\n",
       "      <td>2.46</td>\n",
       "      <td>0.0</td>\n",
       "      <td>64</td>\n",
       "      <td>43</td>\n",
       "      <td>10.0</td>\n",
       "      <td>30.0</td>\n",
       "      <td>8.1</td>\n",
       "      <td>11.0</td>\n",
       "      <td>NaN</td>\n",
       "      <td>NaN</td>\n",
       "      <td>1.0</td>\n",
       "    </tr>\n",
       "    <tr>\n",
       "      <th>1</th>\n",
       "      <td>USW00093134</td>\n",
       "      <td>LOS ANGELES DOWNTOWN USC, CA US</td>\n",
       "      <td>2016-01-02</td>\n",
       "      <td>2.01</td>\n",
       "      <td>0.0</td>\n",
       "      <td>65</td>\n",
       "      <td>47</td>\n",
       "      <td>270.0</td>\n",
       "      <td>30.0</td>\n",
       "      <td>6.0</td>\n",
       "      <td>8.9</td>\n",
       "      <td>NaN</td>\n",
       "      <td>NaN</td>\n",
       "      <td>NaN</td>\n",
       "    </tr>\n",
       "    <tr>\n",
       "      <th>2</th>\n",
       "      <td>USW00093134</td>\n",
       "      <td>LOS ANGELES DOWNTOWN USC, CA US</td>\n",
       "      <td>2016-01-03</td>\n",
       "      <td>0.67</td>\n",
       "      <td>0.0</td>\n",
       "      <td>62</td>\n",
       "      <td>44</td>\n",
       "      <td>150.0</td>\n",
       "      <td>150.0</td>\n",
       "      <td>10.1</td>\n",
       "      <td>14.1</td>\n",
       "      <td>NaN</td>\n",
       "      <td>NaN</td>\n",
       "      <td>NaN</td>\n",
       "    </tr>\n",
       "    <tr>\n",
       "      <th>3</th>\n",
       "      <td>USW00093134</td>\n",
       "      <td>LOS ANGELES DOWNTOWN USC, CA US</td>\n",
       "      <td>2016-01-04</td>\n",
       "      <td>1.34</td>\n",
       "      <td>1.0</td>\n",
       "      <td>69</td>\n",
       "      <td>55</td>\n",
       "      <td>270.0</td>\n",
       "      <td>280.0</td>\n",
       "      <td>8.1</td>\n",
       "      <td>14.1</td>\n",
       "      <td>NaN</td>\n",
       "      <td>NaN</td>\n",
       "      <td>NaN</td>\n",
       "    </tr>\n",
       "    <tr>\n",
       "      <th>4</th>\n",
       "      <td>USW00093134</td>\n",
       "      <td>LOS ANGELES DOWNTOWN USC, CA US</td>\n",
       "      <td>2016-01-05</td>\n",
       "      <td>2.46</td>\n",
       "      <td>1.0</td>\n",
       "      <td>59</td>\n",
       "      <td>49</td>\n",
       "      <td>140.0</td>\n",
       "      <td>140.0</td>\n",
       "      <td>10.1</td>\n",
       "      <td>16.1</td>\n",
       "      <td>1.0</td>\n",
       "      <td>1.0</td>\n",
       "      <td>NaN</td>\n",
       "    </tr>\n",
       "  </tbody>\n",
       "</table>\n",
       "</div>"
      ],
      "text/plain": [
       "       STATION                             NAME       DATE  AWND  PRCP  TMAX  \\\n",
       "0  USW00093134  LOS ANGELES DOWNTOWN USC, CA US 2016-01-01  2.46   0.0    64   \n",
       "1  USW00093134  LOS ANGELES DOWNTOWN USC, CA US 2016-01-02  2.01   0.0    65   \n",
       "2  USW00093134  LOS ANGELES DOWNTOWN USC, CA US 2016-01-03  0.67   0.0    62   \n",
       "3  USW00093134  LOS ANGELES DOWNTOWN USC, CA US 2016-01-04  1.34   1.0    69   \n",
       "4  USW00093134  LOS ANGELES DOWNTOWN USC, CA US 2016-01-05  2.46   1.0    59   \n",
       "\n",
       "   TMIN   WDF2   WDF5  WSF2  WSF5  WT01  WT02  WT08  \n",
       "0    43   10.0   30.0   8.1  11.0   NaN   NaN   1.0  \n",
       "1    47  270.0   30.0   6.0   8.9   NaN   NaN   NaN  \n",
       "2    44  150.0  150.0  10.1  14.1   NaN   NaN   NaN  \n",
       "3    55  270.0  280.0   8.1  14.1   NaN   NaN   NaN  \n",
       "4    49  140.0  140.0  10.1  16.1   1.0   1.0   NaN  "
      ]
     },
     "execution_count": 9,
     "metadata": {},
     "output_type": "execute_result"
    }
   ],
   "source": [
    "data = data.drop(['PGTM','TAVG'],axis = 'columns')\n",
    "data.head()"
   ]
  },
  {
   "cell_type": "markdown",
   "metadata": {},
   "source": [
    "### Performing some Exploratory Data Analysis on text and datetime features"
   ]
  },
  {
   "cell_type": "code",
   "execution_count": 10,
   "metadata": {
    "execution": {
     "iopub.execute_input": "2022-01-22T10:24:53.739236Z",
     "iopub.status.busy": "2022-01-22T10:24:53.738813Z",
     "iopub.status.idle": "2022-01-22T10:24:53.750516Z",
     "shell.execute_reply": "2022-01-22T10:24:53.749609Z",
     "shell.execute_reply.started": "2022-01-22T10:24:53.739193Z"
    }
   },
   "outputs": [],
   "source": [
    "#data.STATION.value_counts()\n",
    "#Since all have same value, dropping this feature\n",
    "data = data.drop(['STATION'],axis='columns')"
   ]
  },
  {
   "cell_type": "code",
   "execution_count": 11,
   "metadata": {
    "execution": {
     "iopub.execute_input": "2022-01-22T10:24:53.752578Z",
     "iopub.status.busy": "2022-01-22T10:24:53.751765Z",
     "iopub.status.idle": "2022-01-22T10:24:53.762019Z",
     "shell.execute_reply": "2022-01-22T10:24:53.761325Z",
     "shell.execute_reply.started": "2022-01-22T10:24:53.752537Z"
    }
   },
   "outputs": [],
   "source": [
    "#data.NAME.value_counts()\n",
    "#Since all have same value, dropping this feature\n",
    "data = data.drop(['NAME'],axis='columns')"
   ]
  },
  {
   "cell_type": "code",
   "execution_count": 12,
   "metadata": {
    "execution": {
     "iopub.execute_input": "2022-01-22T10:24:53.763958Z",
     "iopub.status.busy": "2022-01-22T10:24:53.763246Z",
     "iopub.status.idle": "2022-01-22T10:24:53.773961Z",
     "shell.execute_reply": "2022-01-22T10:24:53.773221Z",
     "shell.execute_reply.started": "2022-01-22T10:24:53.763924Z"
    }
   },
   "outputs": [],
   "source": [
    "#data.DATE.nunique()\n",
    "#Since all values are different, dropping this row for now since this is the basic version of the model.\n",
    "#Later, in the advanced version, will try to categorize based on d,m,y etc.\n",
    "data = data.drop(['DATE'],axis = 'columns')"
   ]
  },
  {
   "cell_type": "code",
   "execution_count": 13,
   "metadata": {
    "execution": {
     "iopub.execute_input": "2022-01-22T10:24:53.775612Z",
     "iopub.status.busy": "2022-01-22T10:24:53.775142Z",
     "iopub.status.idle": "2022-01-22T10:24:53.795615Z",
     "shell.execute_reply": "2022-01-22T10:24:53.794760Z",
     "shell.execute_reply.started": "2022-01-22T10:24:53.775575Z"
    }
   },
   "outputs": [],
   "source": [
    "#finding and dropping duplicates\n",
    "data.duplicated().sum()\n",
    "data.drop_duplicates(inplace = True)\n",
    "data.reset_index(drop=True, inplace=True)"
   ]
  },
  {
   "cell_type": "code",
   "execution_count": 14,
   "metadata": {
    "execution": {
     "iopub.execute_input": "2022-01-22T10:24:53.798134Z",
     "iopub.status.busy": "2022-01-22T10:24:53.797219Z",
     "iopub.status.idle": "2022-01-22T10:24:53.805683Z",
     "shell.execute_reply": "2022-01-22T10:24:53.804994Z",
     "shell.execute_reply.started": "2022-01-22T10:24:53.798080Z"
    }
   },
   "outputs": [
    {
     "data": {
      "text/plain": [
       "AWND     True\n",
       "PRCP    False\n",
       "TMAX    False\n",
       "TMIN    False\n",
       "WDF2     True\n",
       "WDF5     True\n",
       "WSF2     True\n",
       "WSF5     True\n",
       "WT01     True\n",
       "WT02     True\n",
       "WT08     True\n",
       "dtype: bool"
      ]
     },
     "execution_count": 14,
     "metadata": {},
     "output_type": "execute_result"
    }
   ],
   "source": [
    "#checking for remaining null values before performing simple imputation\n",
    "data.isnull().any()"
   ]
  },
  {
   "cell_type": "code",
   "execution_count": 15,
   "metadata": {
    "execution": {
     "iopub.execute_input": "2022-01-22T10:24:53.807648Z",
     "iopub.status.busy": "2022-01-22T10:24:53.807194Z",
     "iopub.status.idle": "2022-01-22T10:24:53.815436Z",
     "shell.execute_reply": "2022-01-22T10:24:53.814475Z",
     "shell.execute_reply.started": "2022-01-22T10:24:53.807580Z"
    }
   },
   "outputs": [],
   "source": [
    "data['WT01'].fillna(value = 0,inplace = True)\n",
    "data['WT02'].fillna(value = 0,inplace = True)\n",
    "data['WT08'].fillna(value = 0,inplace = True)"
   ]
  },
  {
   "cell_type": "code",
   "execution_count": 16,
   "metadata": {},
   "outputs": [
    {
     "data": {
      "text/html": [
       "<div>\n",
       "<style scoped>\n",
       "    .dataframe tbody tr th:only-of-type {\n",
       "        vertical-align: middle;\n",
       "    }\n",
       "\n",
       "    .dataframe tbody tr th {\n",
       "        vertical-align: top;\n",
       "    }\n",
       "\n",
       "    .dataframe thead th {\n",
       "        text-align: right;\n",
       "    }\n",
       "</style>\n",
       "<table border=\"1\" class=\"dataframe\">\n",
       "  <thead>\n",
       "    <tr style=\"text-align: right;\">\n",
       "      <th></th>\n",
       "      <th>AWND</th>\n",
       "      <th>PRCP</th>\n",
       "      <th>TMAX</th>\n",
       "      <th>TMIN</th>\n",
       "      <th>WDF2</th>\n",
       "      <th>WDF5</th>\n",
       "      <th>WSF2</th>\n",
       "      <th>WSF5</th>\n",
       "      <th>WT01</th>\n",
       "      <th>WT02</th>\n",
       "      <th>WT08</th>\n",
       "    </tr>\n",
       "  </thead>\n",
       "  <tbody>\n",
       "    <tr>\n",
       "      <th>0</th>\n",
       "      <td>2.46</td>\n",
       "      <td>0.0</td>\n",
       "      <td>64</td>\n",
       "      <td>43</td>\n",
       "      <td>10.0</td>\n",
       "      <td>30.0</td>\n",
       "      <td>8.1</td>\n",
       "      <td>11.0</td>\n",
       "      <td>0.0</td>\n",
       "      <td>0.0</td>\n",
       "      <td>1.0</td>\n",
       "    </tr>\n",
       "    <tr>\n",
       "      <th>1</th>\n",
       "      <td>2.01</td>\n",
       "      <td>0.0</td>\n",
       "      <td>65</td>\n",
       "      <td>47</td>\n",
       "      <td>270.0</td>\n",
       "      <td>30.0</td>\n",
       "      <td>6.0</td>\n",
       "      <td>8.9</td>\n",
       "      <td>0.0</td>\n",
       "      <td>0.0</td>\n",
       "      <td>0.0</td>\n",
       "    </tr>\n",
       "    <tr>\n",
       "      <th>2</th>\n",
       "      <td>0.67</td>\n",
       "      <td>0.0</td>\n",
       "      <td>62</td>\n",
       "      <td>44</td>\n",
       "      <td>150.0</td>\n",
       "      <td>150.0</td>\n",
       "      <td>10.1</td>\n",
       "      <td>14.1</td>\n",
       "      <td>0.0</td>\n",
       "      <td>0.0</td>\n",
       "      <td>0.0</td>\n",
       "    </tr>\n",
       "    <tr>\n",
       "      <th>3</th>\n",
       "      <td>1.34</td>\n",
       "      <td>1.0</td>\n",
       "      <td>69</td>\n",
       "      <td>55</td>\n",
       "      <td>270.0</td>\n",
       "      <td>280.0</td>\n",
       "      <td>8.1</td>\n",
       "      <td>14.1</td>\n",
       "      <td>0.0</td>\n",
       "      <td>0.0</td>\n",
       "      <td>0.0</td>\n",
       "    </tr>\n",
       "    <tr>\n",
       "      <th>4</th>\n",
       "      <td>2.46</td>\n",
       "      <td>1.0</td>\n",
       "      <td>59</td>\n",
       "      <td>49</td>\n",
       "      <td>140.0</td>\n",
       "      <td>140.0</td>\n",
       "      <td>10.1</td>\n",
       "      <td>16.1</td>\n",
       "      <td>1.0</td>\n",
       "      <td>1.0</td>\n",
       "      <td>0.0</td>\n",
       "    </tr>\n",
       "  </tbody>\n",
       "</table>\n",
       "</div>"
      ],
      "text/plain": [
       "   AWND  PRCP  TMAX  TMIN   WDF2   WDF5  WSF2  WSF5  WT01  WT02  WT08\n",
       "0  2.46   0.0    64    43   10.0   30.0   8.1  11.0   0.0   0.0   1.0\n",
       "1  2.01   0.0    65    47  270.0   30.0   6.0   8.9   0.0   0.0   0.0\n",
       "2  0.67   0.0    62    44  150.0  150.0  10.1  14.1   0.0   0.0   0.0\n",
       "3  1.34   1.0    69    55  270.0  280.0   8.1  14.1   0.0   0.0   0.0\n",
       "4  2.46   1.0    59    49  140.0  140.0  10.1  16.1   1.0   1.0   0.0"
      ]
     },
     "execution_count": 16,
     "metadata": {},
     "output_type": "execute_result"
    }
   ],
   "source": [
    "data.head()"
   ]
  },
  {
   "cell_type": "code",
   "execution_count": 17,
   "metadata": {
    "execution": {
     "iopub.execute_input": "2022-01-22T10:24:53.817363Z",
     "iopub.status.busy": "2022-01-22T10:24:53.816933Z",
     "iopub.status.idle": "2022-01-22T10:24:53.832933Z",
     "shell.execute_reply": "2022-01-22T10:24:53.831982Z",
     "shell.execute_reply.started": "2022-01-22T10:24:53.817324Z"
    }
   },
   "outputs": [],
   "source": [
    "#imputing the null values with mode\n",
    "for i in data.columns:\n",
    "    if data[i].isnull().any():\n",
    "        data[i].fillna(data[i].mode()[0], inplace=True)"
   ]
  },
  {
   "cell_type": "code",
   "execution_count": 18,
   "metadata": {
    "execution": {
     "iopub.execute_input": "2022-01-22T10:24:53.835218Z",
     "iopub.status.busy": "2022-01-22T10:24:53.834498Z",
     "iopub.status.idle": "2022-01-22T10:24:53.843125Z",
     "shell.execute_reply": "2022-01-22T10:24:53.842494Z",
     "shell.execute_reply.started": "2022-01-22T10:24:53.835179Z"
    }
   },
   "outputs": [
    {
     "data": {
      "text/plain": [
       "AWND    False\n",
       "PRCP    False\n",
       "TMAX    False\n",
       "TMIN    False\n",
       "WDF2    False\n",
       "WDF5    False\n",
       "WSF2    False\n",
       "WSF5    False\n",
       "WT01    False\n",
       "WT02    False\n",
       "WT08    False\n",
       "dtype: bool"
      ]
     },
     "execution_count": 18,
     "metadata": {},
     "output_type": "execute_result"
    }
   ],
   "source": [
    "#finally checking to see if all null values have been dealt with\n",
    "data.isnull().any()"
   ]
  },
  {
   "cell_type": "code",
   "execution_count": 19,
   "metadata": {},
   "outputs": [
    {
     "data": {
      "text/html": [
       "<div>\n",
       "<style scoped>\n",
       "    .dataframe tbody tr th:only-of-type {\n",
       "        vertical-align: middle;\n",
       "    }\n",
       "\n",
       "    .dataframe tbody tr th {\n",
       "        vertical-align: top;\n",
       "    }\n",
       "\n",
       "    .dataframe thead th {\n",
       "        text-align: right;\n",
       "    }\n",
       "</style>\n",
       "<table border=\"1\" class=\"dataframe\">\n",
       "  <thead>\n",
       "    <tr style=\"text-align: right;\">\n",
       "      <th></th>\n",
       "      <th>AWND</th>\n",
       "      <th>PRCP</th>\n",
       "      <th>TMAX</th>\n",
       "      <th>TMIN</th>\n",
       "      <th>WDF2</th>\n",
       "      <th>WDF5</th>\n",
       "      <th>WSF2</th>\n",
       "      <th>WSF5</th>\n",
       "      <th>WT01</th>\n",
       "      <th>WT02</th>\n",
       "      <th>WT08</th>\n",
       "    </tr>\n",
       "  </thead>\n",
       "  <tbody>\n",
       "    <tr>\n",
       "      <th>0</th>\n",
       "      <td>2.46</td>\n",
       "      <td>0.0</td>\n",
       "      <td>64</td>\n",
       "      <td>43</td>\n",
       "      <td>10.0</td>\n",
       "      <td>30.0</td>\n",
       "      <td>8.1</td>\n",
       "      <td>11.0</td>\n",
       "      <td>0.0</td>\n",
       "      <td>0.0</td>\n",
       "      <td>1.0</td>\n",
       "    </tr>\n",
       "    <tr>\n",
       "      <th>1</th>\n",
       "      <td>2.01</td>\n",
       "      <td>0.0</td>\n",
       "      <td>65</td>\n",
       "      <td>47</td>\n",
       "      <td>270.0</td>\n",
       "      <td>30.0</td>\n",
       "      <td>6.0</td>\n",
       "      <td>8.9</td>\n",
       "      <td>0.0</td>\n",
       "      <td>0.0</td>\n",
       "      <td>0.0</td>\n",
       "    </tr>\n",
       "    <tr>\n",
       "      <th>2</th>\n",
       "      <td>0.67</td>\n",
       "      <td>0.0</td>\n",
       "      <td>62</td>\n",
       "      <td>44</td>\n",
       "      <td>150.0</td>\n",
       "      <td>150.0</td>\n",
       "      <td>10.1</td>\n",
       "      <td>14.1</td>\n",
       "      <td>0.0</td>\n",
       "      <td>0.0</td>\n",
       "      <td>0.0</td>\n",
       "    </tr>\n",
       "    <tr>\n",
       "      <th>3</th>\n",
       "      <td>1.34</td>\n",
       "      <td>1.0</td>\n",
       "      <td>69</td>\n",
       "      <td>55</td>\n",
       "      <td>270.0</td>\n",
       "      <td>280.0</td>\n",
       "      <td>8.1</td>\n",
       "      <td>14.1</td>\n",
       "      <td>0.0</td>\n",
       "      <td>0.0</td>\n",
       "      <td>0.0</td>\n",
       "    </tr>\n",
       "    <tr>\n",
       "      <th>4</th>\n",
       "      <td>2.46</td>\n",
       "      <td>1.0</td>\n",
       "      <td>59</td>\n",
       "      <td>49</td>\n",
       "      <td>140.0</td>\n",
       "      <td>140.0</td>\n",
       "      <td>10.1</td>\n",
       "      <td>16.1</td>\n",
       "      <td>1.0</td>\n",
       "      <td>1.0</td>\n",
       "      <td>0.0</td>\n",
       "    </tr>\n",
       "  </tbody>\n",
       "</table>\n",
       "</div>"
      ],
      "text/plain": [
       "   AWND  PRCP  TMAX  TMIN   WDF2   WDF5  WSF2  WSF5  WT01  WT02  WT08\n",
       "0  2.46   0.0    64    43   10.0   30.0   8.1  11.0   0.0   0.0   1.0\n",
       "1  2.01   0.0    65    47  270.0   30.0   6.0   8.9   0.0   0.0   0.0\n",
       "2  0.67   0.0    62    44  150.0  150.0  10.1  14.1   0.0   0.0   0.0\n",
       "3  1.34   1.0    69    55  270.0  280.0   8.1  14.1   0.0   0.0   0.0\n",
       "4  2.46   1.0    59    49  140.0  140.0  10.1  16.1   1.0   1.0   0.0"
      ]
     },
     "execution_count": 19,
     "metadata": {},
     "output_type": "execute_result"
    }
   ],
   "source": [
    "data.head()"
   ]
  },
  {
   "cell_type": "code",
   "execution_count": 20,
   "metadata": {
    "execution": {
     "iopub.execute_input": "2022-01-22T10:24:53.844910Z",
     "iopub.status.busy": "2022-01-22T10:24:53.844178Z",
     "iopub.status.idle": "2022-01-22T10:24:54.239243Z",
     "shell.execute_reply": "2022-01-22T10:24:54.238050Z",
     "shell.execute_reply.started": "2022-01-22T10:24:53.844878Z"
    }
   },
   "outputs": [
    {
     "data": {
      "text/plain": [
       "<AxesSubplot:>"
      ]
     },
     "execution_count": 20,
     "metadata": {},
     "output_type": "execute_result"
    },
    {
     "data": {
      "image/png": "[encoded data removed]",
      "text/plain": [
       "<Figure size 432x288 with 2 Axes>"
      ]
     },
     "metadata": {
      "needs_background": "light"
     },
     "output_type": "display_data"
    }
   ],
   "source": [
    "#Showing that all null values have been dealt with\n",
    "sns.heatmap(data.isnull())"
   ]
  },
  {
   "cell_type": "markdown",
   "metadata": {},
   "source": [
    "# Feature Selection and normalization of data\n",
    "* Feature selection will be made using the chi-square test.\n",
    "* We will normalize the data using MinMaxScaler."
   ]
  },
  {
   "cell_type": "markdown",
   "metadata": {},
   "source": [
    "## Feature Selection (Selecting features based on statistical analysis)"
   ]
  },
  {
   "cell_type": "markdown",
   "metadata": {},
   "source": [
    "### Chi Square Test"
   ]
  },
  {
   "cell_type": "code",
   "execution_count": 21,
   "metadata": {
    "execution": {
     "iopub.execute_input": "2022-01-22T10:24:54.240964Z",
     "iopub.status.busy": "2022-01-22T10:24:54.240657Z",
     "iopub.status.idle": "2022-01-22T10:24:54.252360Z",
     "shell.execute_reply": "2022-01-22T10:24:54.251584Z",
     "shell.execute_reply.started": "2022-01-22T10:24:54.240922Z"
    }
   },
   "outputs": [
    {
     "data": {
      "text/plain": [
       "(array([7.89540059e+01, 3.18654327e+02, 5.39850740e+01, 2.30912516e+03,\n",
       "        1.82729950e+03, 3.21620420e+01, 8.36563191e+01, 1.45290636e+02,\n",
       "        9.97766923e-02, 9.96816253e+00]),\n",
       " array([6.35728987e-19, 2.84459091e-71, 2.02018428e-13, 0.00000000e+00,\n",
       "        0.00000000e+00, 1.41834857e-08, 5.88717711e-20, 1.85532939e-33,\n",
       "        7.52097777e-01, 1.59270363e-03]))"
      ]
     },
     "execution_count": 21,
     "metadata": {},
     "output_type": "execute_result"
    }
   ],
   "source": [
    "from sklearn.feature_selection import chi2\n",
    "X = data.drop(['PRCP'],axis='columns')\n",
    "y = data.PRCP\n",
    "chi_scores = chi2(X,y)\n",
    "chi_scores"
   ]
  },
  {
   "cell_type": "code",
   "execution_count": 22,
   "metadata": {
    "execution": {
     "iopub.execute_input": "2022-01-22T10:24:54.253784Z",
     "iopub.status.busy": "2022-01-22T10:24:54.253581Z",
     "iopub.status.idle": "2022-01-22T10:24:54.486347Z",
     "shell.execute_reply": "2022-01-22T10:24:54.485417Z",
     "shell.execute_reply.started": "2022-01-22T10:24:54.253760Z"
    }
   },
   "outputs": [
    {
     "data": {
      "text/plain": [
       "<AxesSubplot:>"
      ]
     },
     "execution_count": 22,
     "metadata": {},
     "output_type": "execute_result"
    },
    {
     "data": {
      "image/png": "[encoded data removed]",
      "text/plain": [
       "<Figure size 432x288 with 1 Axes>"
      ]
     },
     "metadata": {
      "needs_background": "light"
     },
     "output_type": "display_data"
    }
   ],
   "source": [
    "p_values = pd.Series(chi_scores[1],index = X.columns)\n",
    "p_values.sort_values(ascending = False , inplace = True)\n",
    "p_values.plot.bar()"
   ]
  },
  {
   "cell_type": "markdown",
   "metadata": {},
   "source": [
    "### Since WT02 has high p-value, it says that this variables is independent of the repsone and can not be considered for model training"
   ]
  },
  {
   "cell_type": "code",
   "execution_count": 23,
   "metadata": {
    "execution": {
     "iopub.execute_input": "2022-01-22T10:24:54.487768Z",
     "iopub.status.busy": "2022-01-22T10:24:54.487521Z",
     "iopub.status.idle": "2022-01-22T10:24:54.503693Z",
     "shell.execute_reply": "2022-01-22T10:24:54.502568Z",
     "shell.execute_reply.started": "2022-01-22T10:24:54.487739Z"
    }
   },
   "outputs": [
    {
     "data": {
      "text/html": [
       "<div>\n",
       "<style scoped>\n",
       "    .dataframe tbody tr th:only-of-type {\n",
       "        vertical-align: middle;\n",
       "    }\n",
       "\n",
       "    .dataframe tbody tr th {\n",
       "        vertical-align: top;\n",
       "    }\n",
       "\n",
       "    .dataframe thead th {\n",
       "        text-align: right;\n",
       "    }\n",
       "</style>\n",
       "<table border=\"1\" class=\"dataframe\">\n",
       "  <thead>\n",
       "    <tr style=\"text-align: right;\">\n",
       "      <th></th>\n",
       "      <th>AWND</th>\n",
       "      <th>TMAX</th>\n",
       "      <th>TMIN</th>\n",
       "      <th>WDF2</th>\n",
       "      <th>WDF5</th>\n",
       "      <th>WSF2</th>\n",
       "      <th>WSF5</th>\n",
       "      <th>WT01</th>\n",
       "      <th>WT08</th>\n",
       "    </tr>\n",
       "  </thead>\n",
       "  <tbody>\n",
       "    <tr>\n",
       "      <th>0</th>\n",
       "      <td>2.46</td>\n",
       "      <td>64</td>\n",
       "      <td>43</td>\n",
       "      <td>10.0</td>\n",
       "      <td>30.0</td>\n",
       "      <td>8.1</td>\n",
       "      <td>11.0</td>\n",
       "      <td>0.0</td>\n",
       "      <td>1.0</td>\n",
       "    </tr>\n",
       "    <tr>\n",
       "      <th>1</th>\n",
       "      <td>2.01</td>\n",
       "      <td>65</td>\n",
       "      <td>47</td>\n",
       "      <td>270.0</td>\n",
       "      <td>30.0</td>\n",
       "      <td>6.0</td>\n",
       "      <td>8.9</td>\n",
       "      <td>0.0</td>\n",
       "      <td>0.0</td>\n",
       "    </tr>\n",
       "    <tr>\n",
       "      <th>2</th>\n",
       "      <td>0.67</td>\n",
       "      <td>62</td>\n",
       "      <td>44</td>\n",
       "      <td>150.0</td>\n",
       "      <td>150.0</td>\n",
       "      <td>10.1</td>\n",
       "      <td>14.1</td>\n",
       "      <td>0.0</td>\n",
       "      <td>0.0</td>\n",
       "    </tr>\n",
       "    <tr>\n",
       "      <th>3</th>\n",
       "      <td>1.34</td>\n",
       "      <td>69</td>\n",
       "      <td>55</td>\n",
       "      <td>270.0</td>\n",
       "      <td>280.0</td>\n",
       "      <td>8.1</td>\n",
       "      <td>14.1</td>\n",
       "      <td>0.0</td>\n",
       "      <td>0.0</td>\n",
       "    </tr>\n",
       "    <tr>\n",
       "      <th>4</th>\n",
       "      <td>2.46</td>\n",
       "      <td>59</td>\n",
       "      <td>49</td>\n",
       "      <td>140.0</td>\n",
       "      <td>140.0</td>\n",
       "      <td>10.1</td>\n",
       "      <td>16.1</td>\n",
       "      <td>1.0</td>\n",
       "      <td>0.0</td>\n",
       "    </tr>\n",
       "  </tbody>\n",
       "</table>\n",
       "</div>"
      ],
      "text/plain": [
       "   AWND  TMAX  TMIN   WDF2   WDF5  WSF2  WSF5  WT01  WT08\n",
       "0  2.46    64    43   10.0   30.0   8.1  11.0   0.0   1.0\n",
       "1  2.01    65    47  270.0   30.0   6.0   8.9   0.0   0.0\n",
       "2  0.67    62    44  150.0  150.0  10.1  14.1   0.0   0.0\n",
       "3  1.34    69    55  270.0  280.0   8.1  14.1   0.0   0.0\n",
       "4  2.46    59    49  140.0  140.0  10.1  16.1   1.0   0.0"
      ]
     },
     "execution_count": 23,
     "metadata": {},
     "output_type": "execute_result"
    }
   ],
   "source": [
    "data = X.drop(['WT02'],axis = 'columns')\n",
    "data.head()"
   ]
  },
  {
   "cell_type": "code",
   "execution_count": 24,
   "metadata": {
    "execution": {
     "iopub.execute_input": "2022-01-22T10:24:54.506142Z",
     "iopub.status.busy": "2022-01-22T10:24:54.505616Z",
     "iopub.status.idle": "2022-01-22T10:24:54.513463Z",
     "shell.execute_reply": "2022-01-22T10:24:54.512783Z",
     "shell.execute_reply.started": "2022-01-22T10:24:54.506070Z"
    }
   },
   "outputs": [],
   "source": [
    "#pip install imblearn"
   ]
  },
  {
   "cell_type": "markdown",
   "metadata": {},
   "source": [
    "## Normalization (Setting a scale for all the features in the dataset)"
   ]
  },
  {
   "cell_type": "code",
   "execution_count": 25,
   "metadata": {
    "execution": {
     "iopub.execute_input": "2022-01-22T10:24:54.515256Z",
     "iopub.status.busy": "2022-01-22T10:24:54.514486Z",
     "iopub.status.idle": "2022-01-22T10:24:54.542635Z",
     "shell.execute_reply": "2022-01-22T10:24:54.541753Z",
     "shell.execute_reply.started": "2022-01-22T10:24:54.515217Z"
    }
   },
   "outputs": [],
   "source": [
    "from sklearn.preprocessing import MinMaxScaler\n",
    "from imblearn.over_sampling import SMOTE\n",
    "from sklearn.model_selection import train_test_split\n",
    "from sklearn import metrics\n",
    "from sklearn.metrics import accuracy_score,f1_score,roc_auc_score,precision_score,recall_score,confusion_matrix,classification_report\n",
    "X_train,X_test,y_train,y_test = train_test_split(data,y,train_size = 0.8,stratify = y)\n",
    "smote = SMOTE(random_state = 11)\n",
    "X_train, y_train = smote.fit_resample(X_train, y_train)\n",
    "scaler = MinMaxScaler()\n",
    "X_w_train = scaler.fit_transform(X_train)\n",
    "X_train_x = pd.DataFrame(X_w_train,columns = X_train.columns)\n",
    "X_w_test = scaler.transform(X_test)\n",
    "X_test_x = pd.DataFrame(X_w_test,columns = X_test.columns)"
   ]
  },
  {
   "cell_type": "markdown",
   "metadata": {},
   "source": [
    "### Defining Scoring Function"
   ]
  },
  {
   "cell_type": "code",
   "execution_count": 26,
   "metadata": {
    "execution": {
     "iopub.execute_input": "2022-01-22T10:24:54.544838Z",
     "iopub.status.busy": "2022-01-22T10:24:54.543999Z",
     "iopub.status.idle": "2022-01-22T10:24:54.554029Z",
     "shell.execute_reply": "2022-01-22T10:24:54.553130Z",
     "shell.execute_reply.started": "2022-01-22T10:24:54.544795Z"
    }
   },
   "outputs": [],
   "source": [
    "# defining a function to evaluate my models based on certain metrics(all proposed ones except roc_auc which has been done separately)\n",
    "def print_score(clf, X_train, y_train, X_test, y_test, train=True):\n",
    "    if train:\n",
    "        pred = clf.predict(X_train)\n",
    "        clf_report = pd.DataFrame(classification_report(y_train, pred, output_dict=True))\n",
    "        print(\"Train Result:\\n================================================\")\n",
    "        print(f\"Accuracy Score: {accuracy_score(y_train, pred) * 100:.2f}%\")\n",
    "        print(\"_______________________________________________\")\n",
    "        print(f\"CLASSIFICATION REPORT:\\n{clf_report}\")\n",
    "        print(\"_______________________________________________\")\n",
    "        print(f\"Confusion Matrix: \\n {confusion_matrix(y_train, pred)}\\n\")        \n",
    "    elif train==False:\n",
    "        pred = clf.predict(X_test)\n",
    "        clf_report = pd.DataFrame(classification_report(y_test, pred, output_dict=True))\n",
    "        print(\"Test Result:\\n================================================\")        \n",
    "        print(f\"Accuracy Score: {accuracy_score(y_test, pred) * 100:.2f}%\")\n",
    "        print(\"_______________________________________________\")\n",
    "        print(f\"CLASSIFICATION REPORT:\\n{clf_report}\")\n",
    "        print(\"_______________________________________________\")\n",
    "        print(f\"Confusion Matrix: \\n {confusion_matrix(y_test, pred)}\\n\")"
   ]
  },
  {
   "cell_type": "markdown",
   "metadata": {},
   "source": [
    "# Implementing Different Models"
   ]
  },
  {
   "cell_type": "markdown",
   "metadata": {},
   "source": [
    "### Logistic Regression"
   ]
  },
  {
   "cell_type": "code",
   "execution_count": 27,
   "metadata": {
    "execution": {
     "iopub.execute_input": "2022-01-22T10:24:54.555943Z",
     "iopub.status.busy": "2022-01-22T10:24:54.555297Z",
     "iopub.status.idle": "2022-01-22T10:25:01.467467Z",
     "shell.execute_reply": "2022-01-22T10:25:01.466038Z",
     "shell.execute_reply.started": "2022-01-22T10:24:54.555889Z"
    }
   },
   "outputs": [
    {
     "name": "stdout",
     "output_type": "stream",
     "text": [
      "Best params: {'C': 24.420530945486497, 'penalty': 'l2'}\n",
      "ROC_AUC score is : 0.9668674698795181\n",
      "Test Result:\n",
      "================================================\n",
      "Accuracy Score: 90.68%\n",
      "_______________________________________________\n",
      "CLASSIFICATION REPORT:\n",
      "                  0.0        1.0  accuracy   macro avg  weighted avg\n",
      "precision    0.986928   0.491525  0.906849    0.739227      0.942138\n",
      "recall       0.909639   0.878788  0.906849    0.894213      0.906849\n",
      "f1-score     0.946708   0.630435  0.906849    0.788572      0.918114\n",
      "support    332.000000  33.000000  0.906849  365.000000    365.000000\n",
      "_______________________________________________\n",
      "Confusion Matrix: \n",
      " [[302  30]\n",
      " [  4  29]]\n",
      "\n"
     ]
    },
    {
     "data": {
      "image/png": "[encoded data removed]",
      "text/plain": [
       "<Figure size 432x288 with 1 Axes>"
      ]
     },
     "metadata": {
      "needs_background": "light"
     },
     "output_type": "display_data"
    },
    {
     "data": {
      "text/plain": [
       "<AxesSubplot:>"
      ]
     },
     "execution_count": 27,
     "metadata": {},
     "output_type": "execute_result"
    },
    {
     "data": {
      "image/png": "[encoded data removed]",
      "text/plain": [
       "<Figure size 432x288 with 2 Axes>"
      ]
     },
     "metadata": {
      "needs_background": "light"
     },
     "output_type": "display_data"
    }
   ],
   "source": [
    "from sklearn.linear_model import LogisticRegression\n",
    "from sklearn.model_selection import GridSearchCV\n",
    "param_grid = {'C' : np.logspace(-4, 4, 50),'penalty' :['l2']} \n",
    "\n",
    "grid = GridSearchCV(LogisticRegression(), param_grid, cv=5,scoring = 'roc_auc')\n",
    "grid.fit(X_train_x, y_train)\n",
    "\n",
    "best_params = grid.best_params_\n",
    "print(f\"Best params: {best_params}\")\n",
    "\n",
    "lr = LogisticRegression(**best_params)\n",
    "lr.fit(X_train_x,y_train)\n",
    "y_preds = lr.predict_proba(X_test_x)\n",
    "print(\"ROC_AUC score is :\",end = ' ')\n",
    "print(roc_auc_score(y_test,y_preds[:,1]))\n",
    "print_score(lr, X_train_x, y_train, X_test_x, y_test,train = False)\n",
    "fpr, tpr, threshold = metrics.roc_curve(y_test, y_preds[:,1])\n",
    "roc_auc = metrics.auc(fpr, tpr)\n",
    "plt.title('Receiver Operating Characteristic')\n",
    "plt.plot(fpr, tpr, 'b', label = 'AUC = %0.2f' % roc_auc)\n",
    "plt.legend(loc = 'lower right')\n",
    "plt.plot([0, 1], [0, 1],'r--')\n",
    "plt.xlim([0, 1])\n",
    "plt.ylim([0, 1])\n",
    "plt.ylabel('True Positive Rate')\n",
    "plt.xlabel('False Positive Rate')\n",
    "plt.show()\n",
    "labels = [\"True Neg\",\"False Pos\",\"False Neg\",\"True Pos\"]\n",
    "labels = np.asarray(labels).reshape(2,2)\n",
    "sns.heatmap(confusion_matrix(y_test, lr.predict(X_test_x)),annot = labels,fmt='',cmap = \"YlGnBu\")"
   ]
  },
  {
   "cell_type": "markdown",
   "metadata": {},
   "source": [
    "### Support Vector Classifier"
   ]
  },
  {
   "cell_type": "code",
   "execution_count": 28,
   "metadata": {
    "execution": {
     "iopub.execute_input": "2022-01-22T10:25:01.469357Z",
     "iopub.status.busy": "2022-01-22T10:25:01.469074Z",
     "iopub.status.idle": "2022-01-22T10:25:58.873937Z",
     "shell.execute_reply": "2022-01-22T10:25:58.873028Z",
     "shell.execute_reply.started": "2022-01-22T10:25:01.469326Z"
    }
   },
   "outputs": [
    {
     "name": "stdout",
     "output_type": "stream",
     "text": [
      "Best params: {'C': 100, 'gamma': 1, 'kernel': 'rbf'}\n",
      "ROC_AUC score is : 0.9373859072654254\n",
      "Test Result:\n",
      "================================================\n",
      "Accuracy Score: 95.62%\n",
      "_______________________________________________\n",
      "CLASSIFICATION REPORT:\n",
      "                  0.0        1.0  accuracy   macro avg  weighted avg\n",
      "precision    0.978788   0.742857  0.956164    0.860823      0.957457\n",
      "recall       0.972892   0.787879  0.956164    0.880385      0.956164\n",
      "f1-score     0.975831   0.764706  0.956164    0.870268      0.956743\n",
      "support    332.000000  33.000000  0.956164  365.000000    365.000000\n",
      "_______________________________________________\n",
      "Confusion Matrix: \n",
      " [[323   9]\n",
      " [  7  26]]\n",
      "\n"
     ]
    },
    {
     "data": {
      "image/png": "[encoded data removed]",
      "text/plain": [
       "<Figure size 432x288 with 1 Axes>"
      ]
     },
     "metadata": {
      "needs_background": "light"
     },
     "output_type": "display_data"
    },
    {
     "data": {
      "text/plain": [
       "<AxesSubplot:>"
      ]
     },
     "execution_count": 28,
     "metadata": {},
     "output_type": "execute_result"
    },
    {
     "data": {
      "image/png": "[encoded data removed]",
      "text/plain": [
       "<Figure size 432x288 with 2 Axes>"
      ]
     },
     "metadata": {
      "needs_background": "light"
     },
     "output_type": "display_data"
    }
   ],
   "source": [
    "from sklearn.model_selection import GridSearchCV\n",
    "from sklearn.svm import SVC\n",
    "param_grid = {'C': [0.01, 0.1, 0.5, 1, 10, 100], \n",
    "              'gamma': [1, 0.75, 0.5, 0.25, 0.1, 0.01, 0.001], \n",
    "              'kernel': ['rbf', 'poly', 'linear']} \n",
    "\n",
    "grid = GridSearchCV(SVC(), param_grid,cv=5)\n",
    "grid.fit(X_train_x, y_train)\n",
    "\n",
    "best_params = grid.best_params_\n",
    "print(f\"Best params: {best_params}\")\n",
    "\n",
    "svm = SVC(**best_params,probability = True)\n",
    "svm.fit(X_train_x, y_train)\n",
    "y_preds = svm.predict_proba(X_test_x)\n",
    "print(\"ROC_AUC score is :\",end = ' ')\n",
    "print(roc_auc_score(y_test,y_preds[:,1]))\n",
    "print_score(svm, X_train_x, y_train, X_test_x, y_test,train = False)\n",
    "fpr, tpr, threshold = metrics.roc_curve(y_test, y_preds[:,1])\n",
    "roc_auc = metrics.auc(fpr, tpr)\n",
    "plt.title('Receiver Operating Characteristic')\n",
    "plt.plot(fpr, tpr, 'b', label = 'AUC = %0.2f' % roc_auc)\n",
    "plt.legend(loc = 'lower right')\n",
    "plt.plot([0, 1], [0, 1],'r--')\n",
    "plt.xlim([0, 1])\n",
    "plt.ylim([0, 1])\n",
    "plt.ylabel('True Positive Rate')\n",
    "plt.xlabel('False Positive Rate')\n",
    "plt.show()\n",
    "labels = [\"True Neg\",\"False Pos\",\"False Neg\",\"True Pos\"]\n",
    "labels = np.asarray(labels).reshape(2,2)\n",
    "sns.heatmap(confusion_matrix(y_test, svm.predict(X_test_x)),annot = labels,fmt='',cmap = 'YlGnBu')"
   ]
  },
  {
   "cell_type": "markdown",
   "metadata": {},
   "source": [
    "### Decision Tree Classifier"
   ]
  },
  {
   "cell_type": "code",
   "execution_count": 29,
   "metadata": {
    "execution": {
     "iopub.execute_input": "2022-01-22T10:25:58.876124Z",
     "iopub.status.busy": "2022-01-22T10:25:58.875785Z",
     "iopub.status.idle": "2022-01-22T10:25:59.212005Z",
     "shell.execute_reply": "2022-01-22T10:25:59.211172Z",
     "shell.execute_reply.started": "2022-01-22T10:25:58.876062Z"
    }
   },
   "outputs": [
    {
     "name": "stdout",
     "output_type": "stream",
     "text": [
      "ROC_AUC score is : 0.8395399780941949\n",
      "Test Result:\n",
      "================================================\n",
      "Accuracy Score: 93.15%\n",
      "_______________________________________________\n",
      "CLASSIFICATION REPORT:\n",
      "                  0.0        1.0  accuracy   macro avg  weighted avg\n",
      "precision    0.972308   0.600000  0.931507    0.786154      0.938647\n",
      "recall       0.951807   0.727273  0.931507    0.839540      0.931507\n",
      "f1-score     0.961948   0.657534  0.931507    0.809741      0.934426\n",
      "support    332.000000  33.000000  0.931507  365.000000    365.000000\n",
      "_______________________________________________\n",
      "Confusion Matrix: \n",
      " [[316  16]\n",
      " [  9  24]]\n",
      "\n"
     ]
    },
    {
     "data": {
      "image/png": "[encoded data removed]",
      "text/plain": [
       "<Figure size 432x288 with 1 Axes>"
      ]
     },
     "metadata": {
      "needs_background": "light"
     },
     "output_type": "display_data"
    },
    {
     "data": {
      "text/plain": [
       "<AxesSubplot:>"
      ]
     },
     "execution_count": 29,
     "metadata": {},
     "output_type": "execute_result"
    },
    {
     "data": {
      "image/png": "[encoded data removed]",
      "text/plain": [
       "<Figure size 432x288 with 2 Axes>"
      ]
     },
     "metadata": {
      "needs_background": "light"
     },
     "output_type": "display_data"
    }
   ],
   "source": [
    "from sklearn.model_selection import GridSearchCV\n",
    "from sklearn.tree import DecisionTreeClassifier\n",
    "# param_grid = {} \n",
    "\n",
    "# grid = GridSearchCV(DecisionTreeClassifier(), param_grid,cv=5)\n",
    "# grid.fit(X_train_x, y_train)\n",
    "\n",
    "# best_params = grid.best_params_\n",
    "# print(f\"Best params: {best_params}\")\n",
    "\n",
    "dt = DecisionTreeClassifier()\n",
    "dt.fit(X_train_x, y_train)\n",
    "y_preds = dt.predict_proba(X_test_x)\n",
    "print(\"ROC_AUC score is :\",end = ' ')\n",
    "print(roc_auc_score(y_test,y_preds[:,1]))\n",
    "print_score(dt, X_train_x, y_train, X_test_x, y_test,train = False)\n",
    "fpr, tpr, threshold = metrics.roc_curve(y_test, y_preds[:,1])\n",
    "roc_auc = metrics.auc(fpr, tpr)\n",
    "plt.title('Receiver Operating Characteristic')\n",
    "plt.plot(fpr, tpr, 'b', label = 'AUC = %0.2f' % roc_auc)\n",
    "plt.legend(loc = 'lower right')\n",
    "plt.plot([0, 1], [0, 1],'r--')\n",
    "plt.xlim([0, 1])\n",
    "plt.ylim([0, 1])\n",
    "plt.ylabel('True Positive Rate')\n",
    "plt.xlabel('False Positive Rate')\n",
    "plt.show()\n",
    "labels = [\"True Neg\",\"False Pos\",\"False Neg\",\"True Pos\"]\n",
    "labels = np.asarray(labels).reshape(2,2)\n",
    "sns.heatmap(confusion_matrix(y_test, dt.predict(X_test_x)),annot = labels,fmt='',cmap = 'YlGnBu')"
   ]
  },
  {
   "cell_type": "markdown",
   "metadata": {},
   "source": [
    "### Gaussian Naive Bayes"
   ]
  },
  {
   "cell_type": "code",
   "execution_count": 30,
   "metadata": {
    "execution": {
     "iopub.execute_input": "2022-01-22T10:25:59.217124Z",
     "iopub.status.busy": "2022-01-22T10:25:59.216420Z",
     "iopub.status.idle": "2022-01-22T10:25:59.537956Z",
     "shell.execute_reply": "2022-01-22T10:25:59.537307Z",
     "shell.execute_reply.started": "2022-01-22T10:25:59.217073Z"
    }
   },
   "outputs": [
    {
     "name": "stdout",
     "output_type": "stream",
     "text": [
      "ROC_AUC score is : 0.9184921504198613\n",
      "Test Result:\n",
      "================================================\n",
      "Accuracy Score: 88.22%\n",
      "_______________________________________________\n",
      "CLASSIFICATION REPORT:\n",
      "                  0.0        1.0  accuracy   macro avg  weighted avg\n",
      "precision    0.964630   0.407407  0.882192    0.686019      0.914251\n",
      "recall       0.903614   0.666667  0.882192    0.785141      0.882192\n",
      "f1-score     0.933126   0.505747  0.882192    0.719437      0.894486\n",
      "support    332.000000  33.000000  0.882192  365.000000    365.000000\n",
      "_______________________________________________\n",
      "Confusion Matrix: \n",
      " [[300  32]\n",
      " [ 11  22]]\n",
      "\n"
     ]
    },
    {
     "data": {
      "image/png": "[encoded data removed]",
      "text/plain": [
       "<Figure size 432x288 with 1 Axes>"
      ]
     },
     "metadata": {
      "needs_background": "light"
     },
     "output_type": "display_data"
    },
    {
     "data": {
      "text/plain": [
       "<AxesSubplot:>"
      ]
     },
     "execution_count": 30,
     "metadata": {},
     "output_type": "execute_result"
    },
    {
     "data": {
      "image/png": "[encoded data removed]",
      "text/plain": [
       "<Figure size 432x288 with 2 Axes>"
      ]
     },
     "metadata": {
      "needs_background": "light"
     },
     "output_type": "display_data"
    }
   ],
   "source": [
    "from sklearn.model_selection import GridSearchCV\n",
    "from sklearn.naive_bayes import GaussianNB\n",
    "# param_grid = {} \n",
    "\n",
    "# grid = GridSearchCV(GaussianNB(), param_grid,cv=5)\n",
    "# grid.fit(X_train_x, y_train)\n",
    "\n",
    "# best_params = grid.best_params_\n",
    "# print(f\"Best params: {best_params}\")\n",
    "\n",
    "gnb = GaussianNB()\n",
    "gnb.fit(X_train_x, y_train)\n",
    "y_preds = gnb.predict_proba(X_test_x)\n",
    "print(\"ROC_AUC score is :\",end = ' ')\n",
    "print(roc_auc_score(y_test,y_preds[:,1]))\n",
    "print_score(gnb, X_train_x, y_train, X_test_x, y_test,train = False)\n",
    "fpr, tpr, threshold = metrics.roc_curve(y_test, y_preds[:,1])\n",
    "roc_auc = metrics.auc(fpr, tpr)\n",
    "plt.title('Receiver Operating Characteristic')\n",
    "plt.plot(fpr, tpr, 'b', label = 'AUC = %0.2f' % roc_auc)\n",
    "plt.legend(loc = 'lower right')\n",
    "plt.plot([0, 1], [0, 1],'r--')\n",
    "plt.xlim([0, 1])\n",
    "plt.ylim([0, 1])\n",
    "plt.ylabel('True Positive Rate')\n",
    "plt.xlabel('False Positive Rate')\n",
    "plt.show()\n",
    "labels = [\"True Neg\",\"False Pos\",\"False Neg\",\"True Pos\"]\n",
    "labels = np.asarray(labels).reshape(2,2)\n",
    "sns.heatmap(confusion_matrix(y_test, gnb.predict(X_test_x)),annot = labels,fmt='',cmap = 'YlGnBu')"
   ]
  },
  {
   "cell_type": "markdown",
   "metadata": {},
   "source": [
    "### Gradient Boosting Classifier"
   ]
  },
  {
   "cell_type": "code",
   "execution_count": 31,
   "metadata": {
    "execution": {
     "iopub.execute_input": "2022-01-22T10:25:59.540416Z",
     "iopub.status.busy": "2022-01-22T10:25:59.539459Z",
     "iopub.status.idle": "2022-01-22T10:26:00.283258Z",
     "shell.execute_reply": "2022-01-22T10:26:00.282364Z",
     "shell.execute_reply.started": "2022-01-22T10:25:59.540371Z"
    }
   },
   "outputs": [
    {
     "name": "stdout",
     "output_type": "stream",
     "text": [
      "ROC_AUC score is : 0.9439576487769258\n",
      "Test Result:\n",
      "================================================\n",
      "Accuracy Score: 94.25%\n",
      "_______________________________________________\n",
      "CLASSIFICATION REPORT:\n",
      "                  0.0        1.0  accuracy   macro avg  weighted avg\n",
      "precision    0.966967   0.687500  0.942466    0.827233      0.941700\n",
      "recall       0.969880   0.666667  0.942466    0.818273      0.942466\n",
      "f1-score     0.968421   0.676923  0.942466    0.822672      0.942066\n",
      "support    332.000000  33.000000  0.942466  365.000000    365.000000\n",
      "_______________________________________________\n",
      "Confusion Matrix: \n",
      " [[322  10]\n",
      " [ 11  22]]\n",
      "\n"
     ]
    },
    {
     "data": {
      "image/png": "[encoded data removed]",
      "text/plain": [
       "<Figure size 432x288 with 1 Axes>"
      ]
     },
     "metadata": {
      "needs_background": "light"
     },
     "output_type": "display_data"
    },
    {
     "data": {
      "text/plain": [
       "<AxesSubplot:>"
      ]
     },
     "execution_count": 31,
     "metadata": {},
     "output_type": "execute_result"
    },
    {
     "data": {
      "image/png": "[encoded data removed]",
      "text/plain": [
       "<Figure size 432x288 with 2 Axes>"
      ]
     },
     "metadata": {
      "needs_background": "light"
     },
     "output_type": "display_data"
    }
   ],
   "source": [
    "from sklearn.model_selection import GridSearchCV\n",
    "from sklearn.ensemble import GradientBoostingClassifier\n",
    "# param_grid = {} \n",
    "\n",
    "# grid = GridSearchCV(GradientBoostingClassifier(), param_grid,cv=5)\n",
    "# grid.fit(X_train_x, y_train)\n",
    "\n",
    "# best_params = grid.best_params_\n",
    "# print(f\"Best params: {best_params}\")\n",
    "\n",
    "gb = GradientBoostingClassifier()\n",
    "gb.fit(X_train_x, y_train)\n",
    "y_preds = gb.predict_proba(X_test_x)\n",
    "print(\"ROC_AUC score is :\",end = ' ')\n",
    "print(roc_auc_score(y_test,y_preds[:,1]))\n",
    "print_score(gb, X_train_x, y_train, X_test_x, y_test,train = False)\n",
    "fpr, tpr, threshold = metrics.roc_curve(y_test, y_preds[:,1])\n",
    "roc_auc = metrics.auc(fpr, tpr)\n",
    "plt.title('Receiver Operating Characteristic')\n",
    "plt.plot(fpr, tpr, 'b', label = 'AUC = %0.2f' % roc_auc)\n",
    "plt.legend(loc = 'lower right')\n",
    "plt.plot([0, 1], [0, 1],'r--')\n",
    "plt.xlim([0, 1])\n",
    "plt.ylim([0, 1])\n",
    "plt.ylabel('True Positive Rate')\n",
    "plt.xlabel('False Positive Rate')\n",
    "plt.show()\n",
    "labels = [\"True Neg\",\"False Pos\",\"False Neg\",\"True Pos\"]\n",
    "labels = np.asarray(labels).reshape(2,2)\n",
    "sns.heatmap(confusion_matrix(y_test, dt.predict(X_test_x)),annot = labels,fmt='',cmap = 'YlGnBu')"
   ]
  },
  {
   "cell_type": "markdown",
   "metadata": {},
   "source": [
    "### Random Forest Classifier"
   ]
  },
  {
   "cell_type": "code",
   "execution_count": 32,
   "metadata": {
    "execution": {
     "iopub.execute_input": "2022-01-22T10:26:00.286296Z",
     "iopub.status.busy": "2022-01-22T10:26:00.286021Z",
     "iopub.status.idle": "2022-01-22T10:26:01.060995Z",
     "shell.execute_reply": "2022-01-22T10:26:01.060102Z",
     "shell.execute_reply.started": "2022-01-22T10:26:00.286266Z"
    }
   },
   "outputs": [
    {
     "name": "stdout",
     "output_type": "stream",
     "text": [
      "ROC_AUC score is : 0.9669587440671779\n",
      "Test Result:\n",
      "================================================\n",
      "Accuracy Score: 94.79%\n",
      "_______________________________________________\n",
      "CLASSIFICATION REPORT:\n",
      "                  0.0        1.0  accuracy   macro avg  weighted avg\n",
      "precision    0.967164   0.733333  0.947945    0.850249      0.946023\n",
      "recall       0.975904   0.666667  0.947945    0.821285      0.947945\n",
      "f1-score     0.971514   0.698413  0.947945    0.834963      0.946823\n",
      "support    332.000000  33.000000  0.947945  365.000000    365.000000\n",
      "_______________________________________________\n",
      "Confusion Matrix: \n",
      " [[324   8]\n",
      " [ 11  22]]\n",
      "\n"
     ]
    },
    {
     "data": {
      "image/png": "[encoded data removed]",
      "text/plain": [
       "<Figure size 432x288 with 1 Axes>"
      ]
     },
     "metadata": {
      "needs_background": "light"
     },
     "output_type": "display_data"
    },
    {
     "data": {
      "text/plain": [
       "<AxesSubplot:>"
      ]
     },
     "execution_count": 32,
     "metadata": {},
     "output_type": "execute_result"
    },
    {
     "data": {
      "image/png": "[encoded data removed]",
      "text/plain": [
       "<Figure size 432x288 with 2 Axes>"
      ]
     },
     "metadata": {
      "needs_background": "light"
     },
     "output_type": "display_data"
    }
   ],
   "source": [
    "from sklearn.model_selection import GridSearchCV\n",
    "from sklearn.ensemble import RandomForestClassifier\n",
    "# param_grid = {} \n",
    "\n",
    "# grid = GridSearchCV(DecisionTreeClassifier(), param_grid,cv=5)\n",
    "# grid.fit(X_train_x, y_train)\n",
    "\n",
    "# best_params = grid.best_params_\n",
    "# print(f\"Best params: {best_params}\")\n",
    "\n",
    "rf = RandomForestClassifier()\n",
    "rf.fit(X_train_x, y_train)\n",
    "y_preds = rf.predict_proba(X_test_x)\n",
    "print(\"ROC_AUC score is :\",end = ' ')\n",
    "print(roc_auc_score(y_test,y_preds[:,1]))\n",
    "print_score(rf, X_train_x, y_train, X_test_x, y_test,train = False)\n",
    "fpr, tpr, threshold = metrics.roc_curve(y_test, y_preds[:,1])\n",
    "roc_auc = metrics.auc(fpr, tpr)\n",
    "plt.title('Receiver Operating Characteristic')\n",
    "plt.plot(fpr, tpr, 'b', label = 'AUC = %0.2f' % roc_auc)\n",
    "plt.legend(loc = 'lower right')\n",
    "plt.plot([0, 1], [0, 1],'r--')\n",
    "plt.xlim([0, 1])\n",
    "plt.ylim([0, 1])\n",
    "plt.ylabel('True Positive Rate')\n",
    "plt.xlabel('False Positive Rate')\n",
    "plt.show()\n",
    "labels = [\"True Neg\",\"False Pos\",\"False Neg\",\"True Pos\"]\n",
    "labels = np.asarray(labels).reshape(2,2)\n",
    "sns.heatmap(confusion_matrix(y_test, dt.predict(X_test_x)),annot = labels,fmt='',cmap = 'YlGnBu')"
   ]
  },
  {
   "cell_type": "markdown",
   "metadata": {},
   "source": [
    "### XGB Classifier"
   ]
  },
  {
   "cell_type": "code",
   "execution_count": 33,
   "metadata": {
    "execution": {
     "iopub.execute_input": "2022-01-22T10:26:01.062426Z",
     "iopub.status.busy": "2022-01-22T10:26:01.062135Z",
     "iopub.status.idle": "2022-01-22T10:26:01.887589Z",
     "shell.execute_reply": "2022-01-22T10:26:01.886679Z",
     "shell.execute_reply.started": "2022-01-22T10:26:01.062396Z"
    }
   },
   "outputs": [
    {
     "name": "stdout",
     "output_type": "stream",
     "text": [
      "ROC_AUC score is : 0.9669587440671779\n",
      "Test Result:\n",
      "================================================\n",
      "Accuracy Score: 95.62%\n",
      "_______________________________________________\n",
      "CLASSIFICATION REPORT:\n",
      "                  0.0        1.0  accuracy   macro avg  weighted avg\n",
      "precision    0.973054   0.774194  0.956164    0.873624      0.955075\n",
      "recall       0.978916   0.727273  0.956164    0.853094      0.956164\n",
      "f1-score     0.975976   0.750000  0.956164    0.862988      0.955545\n",
      "support    332.000000  33.000000  0.956164  365.000000    365.000000\n",
      "_______________________________________________\n",
      "Confusion Matrix: \n",
      " [[325   7]\n",
      " [  9  24]]\n",
      "\n"
     ]
    },
    {
     "data": {
      "image/png": "[encoded data removed]",
      "text/plain": [
       "<Figure size 432x288 with 1 Axes>"
      ]
     },
     "metadata": {
      "needs_background": "light"
     },
     "output_type": "display_data"
    },
    {
     "data": {
      "text/plain": [
       "<AxesSubplot:>"
      ]
     },
     "execution_count": 33,
     "metadata": {},
     "output_type": "execute_result"
    },
    {
     "data": {
      "image/png": "[encoded data removed]",
      "text/plain": [
       "<Figure size 432x288 with 2 Axes>"
      ]
     },
     "metadata": {
      "needs_background": "light"
     },
     "output_type": "display_data"
    }
   ],
   "source": [
    "from xgboost import XGBClassifier\n",
    "# param_grid = {} \n",
    "\n",
    "# grid = GridSearchCV(DecisionTreeClassifier(), param_grid,cv=5)\n",
    "# grid.fit(X_train_x, y_train)\n",
    "\n",
    "# best_params = grid.best_params_\n",
    "# print(f\"Best params: {best_params}\")\n",
    "\n",
    "xgb = XGBClassifier(use_label_encoder=False, eval_metric = 'error')\n",
    "xgb.fit(X_train_x, y_train)\n",
    "y_preds = rf.predict_proba(X_test_x)\n",
    "print(\"ROC_AUC score is :\",end = ' ')\n",
    "print(roc_auc_score(y_test,y_preds[:,1]))\n",
    "print_score(xgb, X_train_x, y_train, X_test_x, y_test,train = False)\n",
    "fpr, tpr, threshold = metrics.roc_curve(y_test, y_preds[:,1])\n",
    "roc_auc = metrics.auc(fpr, tpr)\n",
    "plt.title('Receiver Operating Characteristic')\n",
    "plt.plot(fpr, tpr, 'b', label = 'AUC = %0.2f' % roc_auc)\n",
    "plt.legend(loc = 'lower right')\n",
    "plt.plot([0, 1], [0, 1],'r--')\n",
    "plt.xlim([0, 1])\n",
    "plt.ylim([0, 1])\n",
    "plt.ylabel('True Positive Rate')\n",
    "plt.xlabel('False Positive Rate')\n",
    "plt.show()\n",
    "labels = [\"True Neg\",\"False Pos\",\"False Neg\",\"True Pos\"]\n",
    "labels = np.asarray(labels).reshape(2,2)\n",
    "sns.heatmap(confusion_matrix(y_test, dt.predict(X_test_x)),annot = labels,fmt='',cmap = 'YlGnBu')"
   ]
  },
  {
   "cell_type": "markdown",
   "metadata": {},
   "source": [
    "### Cat Boost Classifier"
   ]
  },
  {
   "cell_type": "code",
   "execution_count": 34,
   "metadata": {
    "execution": {
     "iopub.execute_input": "2022-01-22T10:26:01.888974Z",
     "iopub.status.busy": "2022-01-22T10:26:01.888754Z",
     "iopub.status.idle": "2022-01-22T10:26:04.200098Z",
     "shell.execute_reply": "2022-01-22T10:26:04.199222Z",
     "shell.execute_reply.started": "2022-01-22T10:26:01.888944Z"
    }
   },
   "outputs": [
    {
     "name": "stdout",
     "output_type": "stream",
     "text": [
      "ROC_AUC score is : 0.9669587440671779\n",
      "Test Result:\n",
      "================================================\n",
      "Accuracy Score: 95.34%\n",
      "_______________________________________________\n",
      "CLASSIFICATION REPORT:\n",
      "                  0.0        1.0  accuracy   macro avg  weighted avg\n",
      "precision    0.967359   0.785714  0.953425    0.876537      0.950936\n",
      "recall       0.981928   0.666667  0.953425    0.824297      0.953425\n",
      "f1-score     0.974589   0.721311  0.953425    0.847950      0.951690\n",
      "support    332.000000  33.000000  0.953425  365.000000    365.000000\n",
      "_______________________________________________\n",
      "Confusion Matrix: \n",
      " [[326   6]\n",
      " [ 11  22]]\n",
      "\n"
     ]
    },
    {
     "data": {
      "image/png": "[encoded data removed]",
      "text/plain": [
       "<Figure size 432x288 with 1 Axes>"
      ]
     },
     "metadata": {
      "needs_background": "light"
     },
     "output_type": "display_data"
    },
    {
     "data": {
      "text/plain": [
       "<AxesSubplot:>"
      ]
     },
     "execution_count": 34,
     "metadata": {},
     "output_type": "execute_result"
    },
    {
     "data": {
      "image/png": "[encoded data removed]",
      "text/plain": [
       "<Figure size 432x288 with 2 Axes>"
      ]
     },
     "metadata": {
      "needs_background": "light"
     },
     "output_type": "display_data"
    }
   ],
   "source": [
    "from catboost import CatBoostClassifier\n",
    "# param_grid = {} \n",
    "\n",
    "# grid = GridSearchCV(DecisionTreeClassifier(), param_grid,cv=5)\n",
    "# grid.fit(X_train_x, y_train)\n",
    "\n",
    "# best_params = grid.best_params_\n",
    "# print(f\"Best params: {best_params}\")\n",
    "\n",
    "cat = CatBoostClassifier(logging_level='Silent')\n",
    "cat.fit(X_train_x, y_train)\n",
    "y_preds = rf.predict_proba(X_test_x)\n",
    "print(\"ROC_AUC score is :\",end = ' ')\n",
    "print(roc_auc_score(y_test,y_preds[:,1]))\n",
    "print_score(cat, X_train_x, y_train, X_test_x, y_test,train = False)\n",
    "fpr, tpr, threshold = metrics.roc_curve(y_test, y_preds[:,1])\n",
    "roc_auc = metrics.auc(fpr, tpr)\n",
    "plt.title('Receiver Operating Characteristic')\n",
    "plt.plot(fpr, tpr, 'b', label = 'AUC = %0.2f' % roc_auc)\n",
    "plt.legend(loc = 'lower right')\n",
    "plt.plot([0, 1], [0, 1],'r--')\n",
    "plt.xlim([0, 1])\n",
    "plt.ylim([0, 1])\n",
    "plt.ylabel('True Positive Rate')\n",
    "plt.xlabel('False Positive Rate')\n",
    "plt.show()\n",
    "labels = [\"True Neg\",\"False Pos\",\"False Neg\",\"True Pos\"]\n",
    "labels = np.asarray(labels).reshape(2,2)\n",
    "sns.heatmap(confusion_matrix(y_test, dt.predict(X_test_x)),annot = labels,fmt='',cmap = 'YlGnBu')"
   ]
  },
  {
   "cell_type": "markdown",
   "metadata": {},
   "source": [
    "#### Applied Hyperparameter training for all models but it did not result in any significant improvement in most cases."
   ]
  },
  {
   "cell_type": "markdown",
   "metadata": {},
   "source": [
    "# Model Comparision"
   ]
  },
  {
   "cell_type": "code",
   "execution_count": 35,
   "metadata": {
    "execution": {
     "iopub.execute_input": "2022-01-22T10:26:04.201987Z",
     "iopub.status.busy": "2022-01-22T10:26:04.201510Z",
     "iopub.status.idle": "2022-01-22T10:26:04.207460Z",
     "shell.execute_reply": "2022-01-22T10:26:04.206657Z",
     "shell.execute_reply.started": "2022-01-22T10:26:04.201942Z"
    }
   },
   "outputs": [],
   "source": [
    "MLA = [lr,dt,gnb,svm,gb,rf,xgb,cat]"
   ]
  },
  {
   "cell_type": "code",
   "execution_count": 36,
   "metadata": {
    "execution": {
     "iopub.execute_input": "2022-01-22T10:26:04.208778Z",
     "iopub.status.busy": "2022-01-22T10:26:04.208577Z",
     "iopub.status.idle": "2022-01-22T10:26:08.060110Z",
     "shell.execute_reply": "2022-01-22T10:26:08.059254Z",
     "shell.execute_reply.started": "2022-01-22T10:26:04.208752Z"
    }
   },
   "outputs": [
    {
     "data": {
      "text/html": [
       "<div>\n",
       "<style scoped>\n",
       "    .dataframe tbody tr th:only-of-type {\n",
       "        vertical-align: middle;\n",
       "    }\n",
       "\n",
       "    .dataframe tbody tr th {\n",
       "        vertical-align: top;\n",
       "    }\n",
       "\n",
       "    .dataframe thead th {\n",
       "        text-align: right;\n",
       "    }\n",
       "</style>\n",
       "<table border=\"1\" class=\"dataframe\">\n",
       "  <thead>\n",
       "    <tr style=\"text-align: right;\">\n",
       "      <th></th>\n",
       "      <th>MLA Name</th>\n",
       "      <th>MLA Train Accuracy</th>\n",
       "      <th>MLA Test Accuracy</th>\n",
       "      <th>MLA Precission</th>\n",
       "      <th>MLA Recall</th>\n",
       "      <th>MLA AUC</th>\n",
       "    </tr>\n",
       "  </thead>\n",
       "  <tbody>\n",
       "    <tr>\n",
       "      <th>3</th>\n",
       "      <td>SVC</td>\n",
       "      <td>0.9679</td>\n",
       "      <td>0.9562</td>\n",
       "      <td>0.742857</td>\n",
       "      <td>0.787879</td>\n",
       "      <td>0.880385</td>\n",
       "    </tr>\n",
       "    <tr>\n",
       "      <th>6</th>\n",
       "      <td>XGBClassifier</td>\n",
       "      <td>1.0000</td>\n",
       "      <td>0.9562</td>\n",
       "      <td>0.774194</td>\n",
       "      <td>0.727273</td>\n",
       "      <td>0.853094</td>\n",
       "    </tr>\n",
       "    <tr>\n",
       "      <th>7</th>\n",
       "      <td>CatBoostClassifier</td>\n",
       "      <td>0.9970</td>\n",
       "      <td>0.9534</td>\n",
       "      <td>0.785714</td>\n",
       "      <td>0.666667</td>\n",
       "      <td>0.824297</td>\n",
       "    </tr>\n",
       "    <tr>\n",
       "      <th>5</th>\n",
       "      <td>RandomForestClassifier</td>\n",
       "      <td>1.0000</td>\n",
       "      <td>0.9452</td>\n",
       "      <td>0.724138</td>\n",
       "      <td>0.636364</td>\n",
       "      <td>0.806134</td>\n",
       "    </tr>\n",
       "    <tr>\n",
       "      <th>4</th>\n",
       "      <td>GradientBoostingClassifier</td>\n",
       "      <td>0.9823</td>\n",
       "      <td>0.9425</td>\n",
       "      <td>0.687500</td>\n",
       "      <td>0.666667</td>\n",
       "      <td>0.818273</td>\n",
       "    </tr>\n",
       "    <tr>\n",
       "      <th>1</th>\n",
       "      <td>DecisionTreeClassifier</td>\n",
       "      <td>1.0000</td>\n",
       "      <td>0.9288</td>\n",
       "      <td>0.589744</td>\n",
       "      <td>0.696970</td>\n",
       "      <td>0.824388</td>\n",
       "    </tr>\n",
       "    <tr>\n",
       "      <th>0</th>\n",
       "      <td>LogisticRegression</td>\n",
       "      <td>0.8963</td>\n",
       "      <td>0.9068</td>\n",
       "      <td>0.491525</td>\n",
       "      <td>0.878788</td>\n",
       "      <td>0.894213</td>\n",
       "    </tr>\n",
       "    <tr>\n",
       "      <th>2</th>\n",
       "      <td>GaussianNB</td>\n",
       "      <td>0.8250</td>\n",
       "      <td>0.8822</td>\n",
       "      <td>0.407407</td>\n",
       "      <td>0.666667</td>\n",
       "      <td>0.785141</td>\n",
       "    </tr>\n",
       "  </tbody>\n",
       "</table>\n",
       "</div>"
      ],
      "text/plain": [
       "                     MLA Name  MLA Train Accuracy  MLA Test Accuracy  \\\n",
       "3                         SVC              0.9679             0.9562   \n",
       "6               XGBClassifier              1.0000             0.9562   \n",
       "7          CatBoostClassifier              0.9970             0.9534   \n",
       "5      RandomForestClassifier              1.0000             0.9452   \n",
       "4  GradientBoostingClassifier              0.9823             0.9425   \n",
       "1      DecisionTreeClassifier              1.0000             0.9288   \n",
       "0          LogisticRegression              0.8963             0.9068   \n",
       "2                  GaussianNB              0.8250             0.8822   \n",
       "\n",
       "   MLA Precission  MLA Recall   MLA AUC  \n",
       "3        0.742857    0.787879  0.880385  \n",
       "6        0.774194    0.727273  0.853094  \n",
       "7        0.785714    0.666667  0.824297  \n",
       "5        0.724138    0.636364  0.806134  \n",
       "4        0.687500    0.666667  0.818273  \n",
       "1        0.589744    0.696970  0.824388  \n",
       "0        0.491525    0.878788  0.894213  \n",
       "2        0.407407    0.666667  0.785141  "
      ]
     },
     "execution_count": 36,
     "metadata": {},
     "output_type": "execute_result"
    }
   ],
   "source": [
    "MLA_columns = []\n",
    "MLA_compare = pd.DataFrame(columns = MLA_columns)\n",
    "index = 0\n",
    "for alg in MLA:\n",
    "    predicted = alg.fit(X_train_x, y_train).predict(X_test_x)\n",
    "    fp, tp, th = metrics.roc_curve(y_test, predicted)\n",
    "    MLA_name = alg.__class__.__name__\n",
    "    MLA_compare.loc[index,'MLA Name'] = MLA_name\n",
    "    MLA_compare.loc[index, 'MLA Train Accuracy'] = round(alg.score(X_train_x, y_train), 4)\n",
    "    MLA_compare.loc[index, 'MLA Test Accuracy'] = round(alg.score(X_test_x, y_test), 4)\n",
    "    MLA_compare.loc[index, 'MLA Precission'] = precision_score(y_test, predicted)\n",
    "    MLA_compare.loc[index, 'MLA Recall'] = recall_score(y_test, predicted)\n",
    "    MLA_compare.loc[index, 'MLA AUC'] = metrics.auc(fp, tp)\n",
    "    index+=1\n",
    "MLA_compare.sort_values(by = ['MLA Test Accuracy'], ascending = False, inplace = True)    \n",
    "MLA_compare"
   ]
  },
  {
   "cell_type": "code",
   "execution_count": 37,
   "metadata": {
    "execution": {
     "iopub.execute_input": "2022-01-22T10:26:08.062274Z",
     "iopub.status.busy": "2022-01-22T10:26:08.061422Z",
     "iopub.status.idle": "2022-01-22T10:26:08.261938Z",
     "shell.execute_reply": "2022-01-22T10:26:08.260873Z",
     "shell.execute_reply.started": "2022-01-22T10:26:08.062234Z"
    }
   },
   "outputs": [
    {
     "data": {
      "image/png": "[encoded data removed]",
      "text/plain": [
       "<Figure size 1080x432 with 1 Axes>"
      ]
     },
     "metadata": {
      "needs_background": "light"
     },
     "output_type": "display_data"
    }
   ],
   "source": [
    "plt.subplots(figsize=(15,6))\n",
    "sns.barplot(x=\"MLA Name\", y=\"MLA Train Accuracy\",data=MLA_compare,palette='hot')\n",
    "plt.xticks(rotation=90)\n",
    "plt.title('MLA Train Accuracy Comparison')\n",
    "plt.show()"
   ]
  },
  {
   "cell_type": "code",
   "execution_count": 38,
   "metadata": {
    "execution": {
     "iopub.execute_input": "2022-01-22T10:26:08.263450Z",
     "iopub.status.busy": "2022-01-22T10:26:08.263218Z",
     "iopub.status.idle": "2022-01-22T10:26:08.471045Z",
     "shell.execute_reply": "2022-01-22T10:26:08.470153Z",
     "shell.execute_reply.started": "2022-01-22T10:26:08.263422Z"
    }
   },
   "outputs": [
    {
     "data": {
      "image/png": "[encoded data removed]",
      "text/plain": [
       "<Figure size 1080x432 with 1 Axes>"
      ]
     },
     "metadata": {
      "needs_background": "light"
     },
     "output_type": "display_data"
    }
   ],
   "source": [
    "plt.subplots(figsize=(15,6))\n",
    "sns.barplot(x=\"MLA Name\", y=\"MLA Test Accuracy\",data=MLA_compare,palette='hot',edgecolor=sns.color_palette('dark',7))\n",
    "plt.xticks(rotation=90)\n",
    "plt.title('MLA Test Accuracy Comparison')\n",
    "plt.show()"
   ]
  },
  {
   "cell_type": "code",
   "execution_count": 39,
   "metadata": {
    "execution": {
     "iopub.execute_input": "2022-01-22T10:26:08.474908Z",
     "iopub.status.busy": "2022-01-22T10:26:08.474145Z",
     "iopub.status.idle": "2022-01-22T10:26:08.682245Z",
     "shell.execute_reply": "2022-01-22T10:26:08.681256Z",
     "shell.execute_reply.started": "2022-01-22T10:26:08.474868Z"
    }
   },
   "outputs": [
    {
     "data": {
      "image/png": "[encoded data removed]",
      "text/plain": [
       "<Figure size 1080x432 with 1 Axes>"
      ]
     },
     "metadata": {
      "needs_background": "light"
     },
     "output_type": "display_data"
    }
   ],
   "source": [
    "plt.subplots(figsize=(15,6))\n",
    "sns.barplot(x=\"MLA Name\", y=\"MLA Precission\",data=MLA_compare,palette='hot',edgecolor=sns.color_palette('dark',7))\n",
    "plt.xticks(rotation=90)\n",
    "plt.title('MLA Precission Comparison')\n",
    "plt.show()"
   ]
  },
  {
   "cell_type": "code",
   "execution_count": 40,
   "metadata": {
    "execution": {
     "iopub.execute_input": "2022-01-22T10:26:08.684440Z",
     "iopub.status.busy": "2022-01-22T10:26:08.683721Z",
     "iopub.status.idle": "2022-01-22T10:26:08.884797Z",
     "shell.execute_reply": "2022-01-22T10:26:08.883839Z",
     "shell.execute_reply.started": "2022-01-22T10:26:08.684399Z"
    }
   },
   "outputs": [
    {
     "data": {
      "image/png": "[encoded data removed]",
      "text/plain": [
       "<Figure size 1152x432 with 1 Axes>"
      ]
     },
     "metadata": {
      "needs_background": "light"
     },
     "output_type": "display_data"
    }
   ],
   "source": [
    "plt.subplots(figsize=(16,6))\n",
    "sns.barplot(x=\"MLA Name\", y=\"MLA Recall\",data=MLA_compare,palette='hot',edgecolor=sns.color_palette('dark',7))\n",
    "plt.xticks(rotation=90)\n",
    "plt.title('MLA Recall Comparison')\n",
    "plt.show()"
   ]
  },
  {
   "cell_type": "code",
   "execution_count": 41,
   "metadata": {
    "execution": {
     "iopub.execute_input": "2022-01-22T10:26:08.887026Z",
     "iopub.status.busy": "2022-01-22T10:26:08.886722Z",
     "iopub.status.idle": "2022-01-22T10:26:09.082844Z",
     "shell.execute_reply": "2022-01-22T10:26:09.081818Z",
     "shell.execute_reply.started": "2022-01-22T10:26:08.886983Z"
    }
   },
   "outputs": [
    {
     "data": {
      "image/png": "[encoded data removed]",
      "text/plain": [
       "<Figure size 1152x432 with 1 Axes>"
      ]
     },
     "metadata": {
      "needs_background": "light"
     },
     "output_type": "display_data"
    }
   ],
   "source": [
    "plt.subplots(figsize=(16,6))\n",
    "sns.barplot(x=\"MLA Name\", y=\"MLA AUC\",data=MLA_compare,palette='hot',edgecolor=sns.color_palette('dark',7))\n",
    "plt.xticks(rotation = 90)\n",
    "plt.title('MLA AUC Comparison')\n",
    "plt.show()"
   ]
  },
  {
   "cell_type": "code",
   "execution_count": 42,
   "metadata": {
    "execution": {
     "iopub.execute_input": "2022-01-22T10:26:09.084409Z",
     "iopub.status.busy": "2022-01-22T10:26:09.084054Z",
     "iopub.status.idle": "2022-01-22T10:26:12.907500Z",
     "shell.execute_reply": "2022-01-22T10:26:12.906390Z",
     "shell.execute_reply.started": "2022-01-22T10:26:09.084374Z"
    }
   },
   "outputs": [
    {
     "data": {
      "image/png": "[encoded data removed]",
      "text/plain": [
       "<Figure size 432x288 with 1 Axes>"
      ]
     },
     "metadata": {
      "needs_background": "light"
     },
     "output_type": "display_data"
    }
   ],
   "source": [
    "index = 1\n",
    "for alg in MLA:\n",
    "    \n",
    "    \n",
    "    predicted = alg.fit(X_train_x, y_train).predict(X_test_x)\n",
    "    fp, tp, th = metrics.roc_curve(y_test, predicted)\n",
    "    roc_auc_mla = metrics.auc(fp, tp)\n",
    "    MLA_name = alg.__class__.__name__\n",
    "    plt.plot(fp, tp, lw=2, alpha=0.3, label='ROC %s (AUC = %0.2f)'  % (MLA_name, roc_auc_mla))\n",
    "   \n",
    "    index+=1\n",
    "\n",
    "plt.title('ROC Curve comparison')\n",
    "plt.legend(bbox_to_anchor=(1.05, 1), loc=2)\n",
    "plt.plot([0,1],[0,1],'r--')\n",
    "plt.xlim([0,1])\n",
    "plt.ylim([0,1])\n",
    "plt.ylabel('True Positive Rate')\n",
    "plt.xlabel('False Positive Rate')    \n",
    "plt.show()"
   ]
  }
 ],
 "metadata": {
  "kernelspec": {
   "display_name": "Python 3 (ipykernel)",
   "language": "python",
   "name": "python3"
  },
  "language_info": {
   "codemirror_mode": {
    "name": "ipython",
    "version": 3
   },
   "file_extension": ".py",
   "mimetype": "text/x-python",
   "name": "python",
   "nbconvert_exporter": "python",
   "pygments_lexer": "ipython3",
   "version": "3.9.7"
  }
 },
 "nbformat": 4,
 "nbformat_minor": 4
}
