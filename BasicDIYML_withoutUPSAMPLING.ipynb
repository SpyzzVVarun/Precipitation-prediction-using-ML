{
 "cells": [
  {
   "cell_type": "markdown",
   "id": "d4a57a84",
   "metadata": {},
   "source": [
    "## Importing Libraries"
   ]
  },
  {
   "cell_type": "code",
   "execution_count": 37,
   "id": "313ca3e6",
   "metadata": {},
   "outputs": [],
   "source": [
    "import numpy as np\n",
    "import pandas as pd\n",
    "import seaborn as sns\n",
    "import matplotlib.pyplot as plt\n",
    "%matplotlib inline\n",
    "import warnings\n",
    "warnings.filterwarnings('ignore')"
   ]
  },
  {
   "cell_type": "markdown",
   "id": "e7863713",
   "metadata": {},
   "source": [
    "## Loading Dataset"
   ]
  },
  {
   "cell_type": "code",
   "execution_count": 2,
   "id": "8475d9f2",
   "metadata": {},
   "outputs": [
    {
     "data": {
      "text/html": [
       "<div>\n",
       "<style scoped>\n",
       "    .dataframe tbody tr th:only-of-type {\n",
       "        vertical-align: middle;\n",
       "    }\n",
       "\n",
       "    .dataframe tbody tr th {\n",
       "        vertical-align: top;\n",
       "    }\n",
       "\n",
       "    .dataframe thead th {\n",
       "        text-align: right;\n",
       "    }\n",
       "</style>\n",
       "<table border=\"1\" class=\"dataframe\">\n",
       "  <thead>\n",
       "    <tr style=\"text-align: right;\">\n",
       "      <th></th>\n",
       "      <th>STATION</th>\n",
       "      <th>NAME</th>\n",
       "      <th>DATE</th>\n",
       "      <th>AWND</th>\n",
       "      <th>PGTM</th>\n",
       "      <th>PRCP</th>\n",
       "      <th>TAVG</th>\n",
       "      <th>TMAX</th>\n",
       "      <th>TMIN</th>\n",
       "      <th>WDF2</th>\n",
       "      <th>WDF5</th>\n",
       "      <th>WSF2</th>\n",
       "      <th>WSF5</th>\n",
       "      <th>WT01</th>\n",
       "      <th>WT02</th>\n",
       "      <th>WT08</th>\n",
       "    </tr>\n",
       "  </thead>\n",
       "  <tbody>\n",
       "    <tr>\n",
       "      <th>0</th>\n",
       "      <td>USW00093134</td>\n",
       "      <td>LOS ANGELES DOWNTOWN USC, CA US</td>\n",
       "      <td>2016-01-01</td>\n",
       "      <td>2.46</td>\n",
       "      <td>NaN</td>\n",
       "      <td>0.00</td>\n",
       "      <td>NaN</td>\n",
       "      <td>64</td>\n",
       "      <td>43</td>\n",
       "      <td>10.0</td>\n",
       "      <td>30.0</td>\n",
       "      <td>8.1</td>\n",
       "      <td>11.0</td>\n",
       "      <td>NaN</td>\n",
       "      <td>NaN</td>\n",
       "      <td>1.0</td>\n",
       "    </tr>\n",
       "    <tr>\n",
       "      <th>1</th>\n",
       "      <td>USW00093134</td>\n",
       "      <td>LOS ANGELES DOWNTOWN USC, CA US</td>\n",
       "      <td>2016-01-02</td>\n",
       "      <td>2.01</td>\n",
       "      <td>NaN</td>\n",
       "      <td>0.00</td>\n",
       "      <td>NaN</td>\n",
       "      <td>65</td>\n",
       "      <td>47</td>\n",
       "      <td>270.0</td>\n",
       "      <td>30.0</td>\n",
       "      <td>6.0</td>\n",
       "      <td>8.9</td>\n",
       "      <td>NaN</td>\n",
       "      <td>NaN</td>\n",
       "      <td>NaN</td>\n",
       "    </tr>\n",
       "    <tr>\n",
       "      <th>2</th>\n",
       "      <td>USW00093134</td>\n",
       "      <td>LOS ANGELES DOWNTOWN USC, CA US</td>\n",
       "      <td>2016-01-03</td>\n",
       "      <td>0.67</td>\n",
       "      <td>NaN</td>\n",
       "      <td>0.00</td>\n",
       "      <td>NaN</td>\n",
       "      <td>62</td>\n",
       "      <td>44</td>\n",
       "      <td>150.0</td>\n",
       "      <td>150.0</td>\n",
       "      <td>10.1</td>\n",
       "      <td>14.1</td>\n",
       "      <td>NaN</td>\n",
       "      <td>NaN</td>\n",
       "      <td>NaN</td>\n",
       "    </tr>\n",
       "    <tr>\n",
       "      <th>3</th>\n",
       "      <td>USW00093134</td>\n",
       "      <td>LOS ANGELES DOWNTOWN USC, CA US</td>\n",
       "      <td>2016-01-04</td>\n",
       "      <td>1.34</td>\n",
       "      <td>NaN</td>\n",
       "      <td>0.01</td>\n",
       "      <td>NaN</td>\n",
       "      <td>69</td>\n",
       "      <td>55</td>\n",
       "      <td>270.0</td>\n",
       "      <td>280.0</td>\n",
       "      <td>8.1</td>\n",
       "      <td>14.1</td>\n",
       "      <td>NaN</td>\n",
       "      <td>NaN</td>\n",
       "      <td>NaN</td>\n",
       "    </tr>\n",
       "    <tr>\n",
       "      <th>4</th>\n",
       "      <td>USW00093134</td>\n",
       "      <td>LOS ANGELES DOWNTOWN USC, CA US</td>\n",
       "      <td>2016-01-05</td>\n",
       "      <td>2.46</td>\n",
       "      <td>NaN</td>\n",
       "      <td>1.61</td>\n",
       "      <td>NaN</td>\n",
       "      <td>59</td>\n",
       "      <td>49</td>\n",
       "      <td>140.0</td>\n",
       "      <td>140.0</td>\n",
       "      <td>10.1</td>\n",
       "      <td>16.1</td>\n",
       "      <td>1.0</td>\n",
       "      <td>1.0</td>\n",
       "      <td>NaN</td>\n",
       "    </tr>\n",
       "  </tbody>\n",
       "</table>\n",
       "</div>"
      ],
      "text/plain": [
       "       STATION                             NAME       DATE  AWND  PGTM  PRCP  \\\n",
       "0  USW00093134  LOS ANGELES DOWNTOWN USC, CA US 2016-01-01  2.46   NaN  0.00   \n",
       "1  USW00093134  LOS ANGELES DOWNTOWN USC, CA US 2016-01-02  2.01   NaN  0.00   \n",
       "2  USW00093134  LOS ANGELES DOWNTOWN USC, CA US 2016-01-03  0.67   NaN  0.00   \n",
       "3  USW00093134  LOS ANGELES DOWNTOWN USC, CA US 2016-01-04  1.34   NaN  0.01   \n",
       "4  USW00093134  LOS ANGELES DOWNTOWN USC, CA US 2016-01-05  2.46   NaN  1.61   \n",
       "\n",
       "   TAVG  TMAX  TMIN   WDF2   WDF5  WSF2  WSF5  WT01  WT02  WT08  \n",
       "0   NaN    64    43   10.0   30.0   8.1  11.0   NaN   NaN   1.0  \n",
       "1   NaN    65    47  270.0   30.0   6.0   8.9   NaN   NaN   NaN  \n",
       "2   NaN    62    44  150.0  150.0  10.1  14.1   NaN   NaN   NaN  \n",
       "3   NaN    69    55  270.0  280.0   8.1  14.1   NaN   NaN   NaN  \n",
       "4   NaN    59    49  140.0  140.0  10.1  16.1   1.0   1.0   NaN  "
      ]
     },
     "execution_count": 2,
     "metadata": {},
     "output_type": "execute_result"
    }
   ],
   "source": [
    "data = pd.read_csv(r'C:\\Users\\nagpa\\OneDrive\\Desktop\\dataset.csv', parse_dates = ['DATE'])\n",
    "data.head()\n",
    "#data.DATE.dtype"
   ]
  },
  {
   "cell_type": "markdown",
   "id": "9041fdda",
   "metadata": {},
   "source": [
    "### Working on PRCP column"
   ]
  },
  {
   "cell_type": "code",
   "execution_count": 3,
   "id": "f8b57ec1",
   "metadata": {},
   "outputs": [],
   "source": [
    "data.loc[data['PRCP'] > 0, 'PRCP'] = 1"
   ]
  },
  {
   "cell_type": "markdown",
   "id": "6f8d6a31",
   "metadata": {},
   "source": [
    "## Data Cleaning and Exploration"
   ]
  },
  {
   "cell_type": "code",
   "execution_count": 4,
   "id": "ada9bd03",
   "metadata": {},
   "outputs": [
    {
     "name": "stdout",
     "output_type": "stream",
     "text": [
      "<class 'pandas.core.frame.DataFrame'>\n",
      "RangeIndex: 1827 entries, 0 to 1826\n",
      "Data columns (total 16 columns):\n",
      " #   Column   Non-Null Count  Dtype         \n",
      "---  ------   --------------  -----         \n",
      " 0   STATION  1827 non-null   object        \n",
      " 1   NAME     1827 non-null   object        \n",
      " 2   DATE     1827 non-null   datetime64[ns]\n",
      " 3   AWND     1823 non-null   float64       \n",
      " 4   PGTM     62 non-null     float64       \n",
      " 5   PRCP     1827 non-null   float64       \n",
      " 6   TAVG     0 non-null      float64       \n",
      " 7   TMAX     1827 non-null   int64         \n",
      " 8   TMIN     1827 non-null   int64         \n",
      " 9   WDF2     1822 non-null   float64       \n",
      " 10  WDF5     1809 non-null   float64       \n",
      " 11  WSF2     1823 non-null   float64       \n",
      " 12  WSF5     1809 non-null   float64       \n",
      " 13  WT01     551 non-null    float64       \n",
      " 14  WT02     39 non-null     float64       \n",
      " 15  WT08     861 non-null    float64       \n",
      "dtypes: datetime64[ns](1), float64(11), int64(2), object(2)\n",
      "memory usage: 228.5+ KB\n"
     ]
    }
   ],
   "source": [
    "data.info()"
   ]
  },
  {
   "cell_type": "code",
   "execution_count": 5,
   "id": "8894af5a",
   "metadata": {},
   "outputs": [
    {
     "data": {
      "text/plain": [
       "(1827, 16)"
      ]
     },
     "execution_count": 5,
     "metadata": {},
     "output_type": "execute_result"
    }
   ],
   "source": [
    "data.shape"
   ]
  },
  {
   "cell_type": "code",
   "execution_count": 6,
   "id": "373c621b",
   "metadata": {},
   "outputs": [
    {
     "data": {
      "text/html": [
       "<div>\n",
       "<style scoped>\n",
       "    .dataframe tbody tr th:only-of-type {\n",
       "        vertical-align: middle;\n",
       "    }\n",
       "\n",
       "    .dataframe tbody tr th {\n",
       "        vertical-align: top;\n",
       "    }\n",
       "\n",
       "    .dataframe thead th {\n",
       "        text-align: right;\n",
       "    }\n",
       "</style>\n",
       "<table border=\"1\" class=\"dataframe\">\n",
       "  <thead>\n",
       "    <tr style=\"text-align: right;\">\n",
       "      <th></th>\n",
       "      <th>AWND</th>\n",
       "      <th>PGTM</th>\n",
       "      <th>PRCP</th>\n",
       "      <th>TAVG</th>\n",
       "      <th>TMAX</th>\n",
       "      <th>TMIN</th>\n",
       "      <th>WDF2</th>\n",
       "      <th>WDF5</th>\n",
       "      <th>WSF2</th>\n",
       "      <th>WSF5</th>\n",
       "      <th>WT01</th>\n",
       "      <th>WT02</th>\n",
       "      <th>WT08</th>\n",
       "    </tr>\n",
       "  </thead>\n",
       "  <tbody>\n",
       "    <tr>\n",
       "      <th>count</th>\n",
       "      <td>1823.000000</td>\n",
       "      <td>62.000000</td>\n",
       "      <td>1827.000000</td>\n",
       "      <td>0.0</td>\n",
       "      <td>1827.000000</td>\n",
       "      <td>1827.000000</td>\n",
       "      <td>1822.000000</td>\n",
       "      <td>1809.000000</td>\n",
       "      <td>1823.000000</td>\n",
       "      <td>1809.000000</td>\n",
       "      <td>551.0</td>\n",
       "      <td>39.0</td>\n",
       "      <td>861.0</td>\n",
       "    </tr>\n",
       "    <tr>\n",
       "      <th>mean</th>\n",
       "      <td>1.675710</td>\n",
       "      <td>1404.854839</td>\n",
       "      <td>0.091407</td>\n",
       "      <td>NaN</td>\n",
       "      <td>76.498632</td>\n",
       "      <td>58.120416</td>\n",
       "      <td>254.143798</td>\n",
       "      <td>256.428966</td>\n",
       "      <td>9.062095</td>\n",
       "      <td>14.721669</td>\n",
       "      <td>1.0</td>\n",
       "      <td>1.0</td>\n",
       "      <td>1.0</td>\n",
       "    </tr>\n",
       "    <tr>\n",
       "      <th>std</th>\n",
       "      <td>0.909434</td>\n",
       "      <td>350.813754</td>\n",
       "      <td>0.288265</td>\n",
       "      <td>NaN</td>\n",
       "      <td>9.133929</td>\n",
       "      <td>7.223756</td>\n",
       "      <td>54.756284</td>\n",
       "      <td>55.571902</td>\n",
       "      <td>2.016827</td>\n",
       "      <td>3.622257</td>\n",
       "      <td>0.0</td>\n",
       "      <td>0.0</td>\n",
       "      <td>0.0</td>\n",
       "    </tr>\n",
       "    <tr>\n",
       "      <th>min</th>\n",
       "      <td>0.000000</td>\n",
       "      <td>103.000000</td>\n",
       "      <td>0.000000</td>\n",
       "      <td>NaN</td>\n",
       "      <td>52.000000</td>\n",
       "      <td>38.000000</td>\n",
       "      <td>10.000000</td>\n",
       "      <td>10.000000</td>\n",
       "      <td>2.900000</td>\n",
       "      <td>6.000000</td>\n",
       "      <td>1.0</td>\n",
       "      <td>1.0</td>\n",
       "      <td>1.0</td>\n",
       "    </tr>\n",
       "    <tr>\n",
       "      <th>25%</th>\n",
       "      <td>1.120000</td>\n",
       "      <td>1337.500000</td>\n",
       "      <td>0.000000</td>\n",
       "      <td>NaN</td>\n",
       "      <td>70.000000</td>\n",
       "      <td>53.000000</td>\n",
       "      <td>260.000000</td>\n",
       "      <td>270.000000</td>\n",
       "      <td>8.100000</td>\n",
       "      <td>12.100000</td>\n",
       "      <td>1.0</td>\n",
       "      <td>1.0</td>\n",
       "      <td>1.0</td>\n",
       "    </tr>\n",
       "    <tr>\n",
       "      <th>50%</th>\n",
       "      <td>1.570000</td>\n",
       "      <td>1442.500000</td>\n",
       "      <td>0.000000</td>\n",
       "      <td>NaN</td>\n",
       "      <td>76.000000</td>\n",
       "      <td>58.000000</td>\n",
       "      <td>270.000000</td>\n",
       "      <td>270.000000</td>\n",
       "      <td>8.900000</td>\n",
       "      <td>14.100000</td>\n",
       "      <td>1.0</td>\n",
       "      <td>1.0</td>\n",
       "      <td>1.0</td>\n",
       "    </tr>\n",
       "    <tr>\n",
       "      <th>75%</th>\n",
       "      <td>2.010000</td>\n",
       "      <td>1545.000000</td>\n",
       "      <td>0.000000</td>\n",
       "      <td>NaN</td>\n",
       "      <td>83.000000</td>\n",
       "      <td>64.000000</td>\n",
       "      <td>270.000000</td>\n",
       "      <td>280.000000</td>\n",
       "      <td>10.100000</td>\n",
       "      <td>16.100000</td>\n",
       "      <td>1.0</td>\n",
       "      <td>1.0</td>\n",
       "      <td>1.0</td>\n",
       "    </tr>\n",
       "    <tr>\n",
       "      <th>max</th>\n",
       "      <td>8.050000</td>\n",
       "      <td>2314.000000</td>\n",
       "      <td>1.000000</td>\n",
       "      <td>NaN</td>\n",
       "      <td>111.000000</td>\n",
       "      <td>79.000000</td>\n",
       "      <td>360.000000</td>\n",
       "      <td>360.000000</td>\n",
       "      <td>21.000000</td>\n",
       "      <td>34.000000</td>\n",
       "      <td>1.0</td>\n",
       "      <td>1.0</td>\n",
       "      <td>1.0</td>\n",
       "    </tr>\n",
       "  </tbody>\n",
       "</table>\n",
       "</div>"
      ],
      "text/plain": [
       "              AWND         PGTM         PRCP  TAVG         TMAX         TMIN  \\\n",
       "count  1823.000000    62.000000  1827.000000   0.0  1827.000000  1827.000000   \n",
       "mean      1.675710  1404.854839     0.091407   NaN    76.498632    58.120416   \n",
       "std       0.909434   350.813754     0.288265   NaN     9.133929     7.223756   \n",
       "min       0.000000   103.000000     0.000000   NaN    52.000000    38.000000   \n",
       "25%       1.120000  1337.500000     0.000000   NaN    70.000000    53.000000   \n",
       "50%       1.570000  1442.500000     0.000000   NaN    76.000000    58.000000   \n",
       "75%       2.010000  1545.000000     0.000000   NaN    83.000000    64.000000   \n",
       "max       8.050000  2314.000000     1.000000   NaN   111.000000    79.000000   \n",
       "\n",
       "              WDF2         WDF5         WSF2         WSF5   WT01  WT02   WT08  \n",
       "count  1822.000000  1809.000000  1823.000000  1809.000000  551.0  39.0  861.0  \n",
       "mean    254.143798   256.428966     9.062095    14.721669    1.0   1.0    1.0  \n",
       "std      54.756284    55.571902     2.016827     3.622257    0.0   0.0    0.0  \n",
       "min      10.000000    10.000000     2.900000     6.000000    1.0   1.0    1.0  \n",
       "25%     260.000000   270.000000     8.100000    12.100000    1.0   1.0    1.0  \n",
       "50%     270.000000   270.000000     8.900000    14.100000    1.0   1.0    1.0  \n",
       "75%     270.000000   280.000000    10.100000    16.100000    1.0   1.0    1.0  \n",
       "max     360.000000   360.000000    21.000000    34.000000    1.0   1.0    1.0  "
      ]
     },
     "execution_count": 6,
     "metadata": {},
     "output_type": "execute_result"
    }
   ],
   "source": [
    "data.describe()"
   ]
  },
  {
   "cell_type": "markdown",
   "id": "0b352592",
   "metadata": {},
   "source": [
    "## Visualizing Class Imbalance"
   ]
  },
  {
   "cell_type": "code",
   "execution_count": 7,
   "id": "2dadf131",
   "metadata": {},
   "outputs": [
    {
     "data": {
      "text/plain": [
       "<AxesSubplot:xlabel='PRCP', ylabel='count'>"
      ]
     },
     "execution_count": 7,
     "metadata": {},
     "output_type": "execute_result"
    },
    {
     "data": {
      "image/png": "[encoded data removed]",
      "text/plain": [
       "<Figure size 432x288 with 1 Axes>"
      ]
     },
     "metadata": {
      "needs_background": "light"
     },
     "output_type": "display_data"
    }
   ],
   "source": [
    "sns.countplot(x = 'PRCP',data = data)"
   ]
  },
  {
   "cell_type": "markdown",
   "id": "b66580bb",
   "metadata": {},
   "source": [
    "#### Here we can clearly see the number of samples for the case when precipitation occurs is much less than for the case when precipitation does not occur. Hence, there is class imbalance"
   ]
  },
  {
   "cell_type": "markdown",
   "id": "6df5a8f8",
   "metadata": {},
   "source": [
    "### Checking for Null Values"
   ]
  },
  {
   "cell_type": "code",
   "execution_count": 8,
   "id": "b483ae30",
   "metadata": {},
   "outputs": [
    {
     "data": {
      "text/plain": [
       "<AxesSubplot:>"
      ]
     },
     "execution_count": 8,
     "metadata": {},
     "output_type": "execute_result"
    },
    {
     "data": {
      "image/png": "[encoded data removed]",
      "text/plain": [
       "<Figure size 432x288 with 2 Axes>"
      ]
     },
     "metadata": {
      "needs_background": "light"
     },
     "output_type": "display_data"
    }
   ],
   "source": [
    "sns.heatmap(data.isnull())"
   ]
  },
  {
   "cell_type": "markdown",
   "id": "a3ba439f",
   "metadata": {},
   "source": [
    "#### Based on the heatmap, columns PGTM,TAVG,WT01,WT02,WT08 have too many null values and shall be dropped. The rest of the cells with null values will be imputed with the mode value "
   ]
  },
  {
   "cell_type": "code",
   "execution_count": 9,
   "id": "b1e4de40",
   "metadata": {},
   "outputs": [
    {
     "data": {
      "text/html": [
       "<div>\n",
       "<style scoped>\n",
       "    .dataframe tbody tr th:only-of-type {\n",
       "        vertical-align: middle;\n",
       "    }\n",
       "\n",
       "    .dataframe tbody tr th {\n",
       "        vertical-align: top;\n",
       "    }\n",
       "\n",
       "    .dataframe thead th {\n",
       "        text-align: right;\n",
       "    }\n",
       "</style>\n",
       "<table border=\"1\" class=\"dataframe\">\n",
       "  <thead>\n",
       "    <tr style=\"text-align: right;\">\n",
       "      <th></th>\n",
       "      <th>STATION</th>\n",
       "      <th>NAME</th>\n",
       "      <th>DATE</th>\n",
       "      <th>AWND</th>\n",
       "      <th>PRCP</th>\n",
       "      <th>TMAX</th>\n",
       "      <th>TMIN</th>\n",
       "      <th>WDF2</th>\n",
       "      <th>WDF5</th>\n",
       "      <th>WSF2</th>\n",
       "      <th>WSF5</th>\n",
       "    </tr>\n",
       "  </thead>\n",
       "  <tbody>\n",
       "    <tr>\n",
       "      <th>0</th>\n",
       "      <td>USW00093134</td>\n",
       "      <td>LOS ANGELES DOWNTOWN USC, CA US</td>\n",
       "      <td>2016-01-01</td>\n",
       "      <td>2.46</td>\n",
       "      <td>0.0</td>\n",
       "      <td>64</td>\n",
       "      <td>43</td>\n",
       "      <td>10.0</td>\n",
       "      <td>30.0</td>\n",
       "      <td>8.1</td>\n",
       "      <td>11.0</td>\n",
       "    </tr>\n",
       "    <tr>\n",
       "      <th>1</th>\n",
       "      <td>USW00093134</td>\n",
       "      <td>LOS ANGELES DOWNTOWN USC, CA US</td>\n",
       "      <td>2016-01-02</td>\n",
       "      <td>2.01</td>\n",
       "      <td>0.0</td>\n",
       "      <td>65</td>\n",
       "      <td>47</td>\n",
       "      <td>270.0</td>\n",
       "      <td>30.0</td>\n",
       "      <td>6.0</td>\n",
       "      <td>8.9</td>\n",
       "    </tr>\n",
       "    <tr>\n",
       "      <th>2</th>\n",
       "      <td>USW00093134</td>\n",
       "      <td>LOS ANGELES DOWNTOWN USC, CA US</td>\n",
       "      <td>2016-01-03</td>\n",
       "      <td>0.67</td>\n",
       "      <td>0.0</td>\n",
       "      <td>62</td>\n",
       "      <td>44</td>\n",
       "      <td>150.0</td>\n",
       "      <td>150.0</td>\n",
       "      <td>10.1</td>\n",
       "      <td>14.1</td>\n",
       "    </tr>\n",
       "    <tr>\n",
       "      <th>3</th>\n",
       "      <td>USW00093134</td>\n",
       "      <td>LOS ANGELES DOWNTOWN USC, CA US</td>\n",
       "      <td>2016-01-04</td>\n",
       "      <td>1.34</td>\n",
       "      <td>1.0</td>\n",
       "      <td>69</td>\n",
       "      <td>55</td>\n",
       "      <td>270.0</td>\n",
       "      <td>280.0</td>\n",
       "      <td>8.1</td>\n",
       "      <td>14.1</td>\n",
       "    </tr>\n",
       "    <tr>\n",
       "      <th>4</th>\n",
       "      <td>USW00093134</td>\n",
       "      <td>LOS ANGELES DOWNTOWN USC, CA US</td>\n",
       "      <td>2016-01-05</td>\n",
       "      <td>2.46</td>\n",
       "      <td>1.0</td>\n",
       "      <td>59</td>\n",
       "      <td>49</td>\n",
       "      <td>140.0</td>\n",
       "      <td>140.0</td>\n",
       "      <td>10.1</td>\n",
       "      <td>16.1</td>\n",
       "    </tr>\n",
       "  </tbody>\n",
       "</table>\n",
       "</div>"
      ],
      "text/plain": [
       "       STATION                             NAME       DATE  AWND  PRCP  TMAX  \\\n",
       "0  USW00093134  LOS ANGELES DOWNTOWN USC, CA US 2016-01-01  2.46   0.0    64   \n",
       "1  USW00093134  LOS ANGELES DOWNTOWN USC, CA US 2016-01-02  2.01   0.0    65   \n",
       "2  USW00093134  LOS ANGELES DOWNTOWN USC, CA US 2016-01-03  0.67   0.0    62   \n",
       "3  USW00093134  LOS ANGELES DOWNTOWN USC, CA US 2016-01-04  1.34   1.0    69   \n",
       "4  USW00093134  LOS ANGELES DOWNTOWN USC, CA US 2016-01-05  2.46   1.0    59   \n",
       "\n",
       "   TMIN   WDF2   WDF5  WSF2  WSF5  \n",
       "0    43   10.0   30.0   8.1  11.0  \n",
       "1    47  270.0   30.0   6.0   8.9  \n",
       "2    44  150.0  150.0  10.1  14.1  \n",
       "3    55  270.0  280.0   8.1  14.1  \n",
       "4    49  140.0  140.0  10.1  16.1  "
      ]
     },
     "execution_count": 9,
     "metadata": {},
     "output_type": "execute_result"
    }
   ],
   "source": [
    "data = data.drop(['PGTM','TAVG','WT01','WT02','WT08'],axis = 'columns')\n",
    "data.head()"
   ]
  },
  {
   "cell_type": "markdown",
   "id": "cff8c37b",
   "metadata": {},
   "source": [
    "### Performing some EDA on text and datetime features"
   ]
  },
  {
   "cell_type": "code",
   "execution_count": 10,
   "id": "aeacf677",
   "metadata": {},
   "outputs": [],
   "source": [
    "#data.STATION.value_counts()\n",
    "#Since all have same value, dropping this feature\n",
    "data = data.drop(['STATION'],axis='columns')"
   ]
  },
  {
   "cell_type": "code",
   "execution_count": 11,
   "id": "85c73a74",
   "metadata": {},
   "outputs": [],
   "source": [
    "#data.NAME.value_counts()\n",
    "#Since all have same value, dropping this feature\n",
    "data = data.drop(['NAME'],axis='columns')"
   ]
  },
  {
   "cell_type": "code",
   "execution_count": 12,
   "id": "fbc222dc",
   "metadata": {},
   "outputs": [],
   "source": [
    "#data.DATE.nunique()\n",
    "#Since all values are different, dropping this row for now since this is the basic version of the model.\n",
    "#Later, in the advanced version, will try to categorize based on d,m,y etc.\n",
    "data = data.drop(['DATE'],axis = 'columns')"
   ]
  },
  {
   "cell_type": "code",
   "execution_count": 13,
   "id": "7e80a6f7",
   "metadata": {},
   "outputs": [],
   "source": [
    "#finding and dropping duplicates\n",
    "data.duplicated().sum()\n",
    "data.drop_duplicates(inplace = True)\n",
    "data.reset_index(drop=True, inplace=True)"
   ]
  },
  {
   "cell_type": "code",
   "execution_count": 14,
   "id": "83cef992",
   "metadata": {},
   "outputs": [
    {
     "data": {
      "text/plain": [
       "AWND     True\n",
       "PRCP    False\n",
       "TMAX    False\n",
       "TMIN    False\n",
       "WDF2     True\n",
       "WDF5     True\n",
       "WSF2     True\n",
       "WSF5     True\n",
       "dtype: bool"
      ]
     },
     "execution_count": 14,
     "metadata": {},
     "output_type": "execute_result"
    }
   ],
   "source": [
    "#checking for remaining null values before performing simple imputation\n",
    "data.isnull().any()"
   ]
  },
  {
   "cell_type": "code",
   "execution_count": 15,
   "id": "889be200",
   "metadata": {},
   "outputs": [],
   "source": [
    "#imputing the null values with mode\n",
    "for i in data.columns:\n",
    "    if data[i].isnull().any():\n",
    "        data[i].fillna(data[i].mode()[0], inplace=True)"
   ]
  },
  {
   "cell_type": "code",
   "execution_count": 16,
   "id": "6091bf5f",
   "metadata": {},
   "outputs": [
    {
     "data": {
      "text/plain": [
       "AWND    False\n",
       "PRCP    False\n",
       "TMAX    False\n",
       "TMIN    False\n",
       "WDF2    False\n",
       "WDF5    False\n",
       "WSF2    False\n",
       "WSF5    False\n",
       "dtype: bool"
      ]
     },
     "execution_count": 16,
     "metadata": {},
     "output_type": "execute_result"
    }
   ],
   "source": [
    "#finally checking to see if all null values have been dealt with\n",
    "data.isnull().any()"
   ]
  },
  {
   "cell_type": "markdown",
   "id": "43acbd0b",
   "metadata": {},
   "source": [
    "## Feature Selection"
   ]
  },
  {
   "cell_type": "markdown",
   "id": "c1074a09",
   "metadata": {},
   "source": [
    "### Chi Square Test"
   ]
  },
  {
   "cell_type": "code",
   "execution_count": 17,
   "id": "323e5957",
   "metadata": {},
   "outputs": [
    {
     "data": {
      "text/plain": [
       "(array([  78.99217899,  318.97057904,   53.99434374, 2307.72024401,\n",
       "        1826.18067938,   32.22783028,   83.7298769 ]),\n",
       " array([6.23563041e-19, 2.42735069e-71, 2.01067594e-13, 0.00000000e+00,\n",
       "        0.00000000e+00, 1.37112662e-08, 5.67214961e-20]))"
      ]
     },
     "execution_count": 17,
     "metadata": {},
     "output_type": "execute_result"
    }
   ],
   "source": [
    "from sklearn.feature_selection import chi2\n",
    "X = data.drop(['PRCP'],axis='columns')\n",
    "y = data.PRCP\n",
    "chi_scores = chi2(X,y)\n",
    "chi_scores"
   ]
  },
  {
   "cell_type": "code",
   "execution_count": 18,
   "id": "fda03780",
   "metadata": {},
   "outputs": [
    {
     "data": {
      "text/plain": [
       "<AxesSubplot:>"
      ]
     },
     "execution_count": 18,
     "metadata": {},
     "output_type": "execute_result"
    },
    {
     "data": {
      "image/png": "[encoded data removed]",
      "text/plain": [
       "<Figure size 432x288 with 1 Axes>"
      ]
     },
     "metadata": {
      "needs_background": "light"
     },
     "output_type": "display_data"
    }
   ],
   "source": [
    "p_values = pd.Series(chi_scores[1],index = X.columns)\n",
    "p_values.sort_values(ascending = False , inplace = True)\n",
    "p_values.plot.bar()"
   ]
  },
  {
   "cell_type": "markdown",
   "id": "5bf88303",
   "metadata": {},
   "source": [
    "### Since WSF2 has high p-value, it says that this variables is independent of the repsone and can not be considered for model training"
   ]
  },
  {
   "cell_type": "code",
   "execution_count": 19,
   "id": "79868c32",
   "metadata": {},
   "outputs": [
    {
     "data": {
      "text/html": [
       "<div>\n",
       "<style scoped>\n",
       "    .dataframe tbody tr th:only-of-type {\n",
       "        vertical-align: middle;\n",
       "    }\n",
       "\n",
       "    .dataframe tbody tr th {\n",
       "        vertical-align: top;\n",
       "    }\n",
       "\n",
       "    .dataframe thead th {\n",
       "        text-align: right;\n",
       "    }\n",
       "</style>\n",
       "<table border=\"1\" class=\"dataframe\">\n",
       "  <thead>\n",
       "    <tr style=\"text-align: right;\">\n",
       "      <th></th>\n",
       "      <th>AWND</th>\n",
       "      <th>TMAX</th>\n",
       "      <th>TMIN</th>\n",
       "      <th>WDF2</th>\n",
       "      <th>WDF5</th>\n",
       "      <th>WSF5</th>\n",
       "    </tr>\n",
       "  </thead>\n",
       "  <tbody>\n",
       "    <tr>\n",
       "      <th>0</th>\n",
       "      <td>2.46</td>\n",
       "      <td>64</td>\n",
       "      <td>43</td>\n",
       "      <td>10.0</td>\n",
       "      <td>30.0</td>\n",
       "      <td>11.0</td>\n",
       "    </tr>\n",
       "    <tr>\n",
       "      <th>1</th>\n",
       "      <td>2.01</td>\n",
       "      <td>65</td>\n",
       "      <td>47</td>\n",
       "      <td>270.0</td>\n",
       "      <td>30.0</td>\n",
       "      <td>8.9</td>\n",
       "    </tr>\n",
       "    <tr>\n",
       "      <th>2</th>\n",
       "      <td>0.67</td>\n",
       "      <td>62</td>\n",
       "      <td>44</td>\n",
       "      <td>150.0</td>\n",
       "      <td>150.0</td>\n",
       "      <td>14.1</td>\n",
       "    </tr>\n",
       "    <tr>\n",
       "      <th>3</th>\n",
       "      <td>1.34</td>\n",
       "      <td>69</td>\n",
       "      <td>55</td>\n",
       "      <td>270.0</td>\n",
       "      <td>280.0</td>\n",
       "      <td>14.1</td>\n",
       "    </tr>\n",
       "    <tr>\n",
       "      <th>4</th>\n",
       "      <td>2.46</td>\n",
       "      <td>59</td>\n",
       "      <td>49</td>\n",
       "      <td>140.0</td>\n",
       "      <td>140.0</td>\n",
       "      <td>16.1</td>\n",
       "    </tr>\n",
       "  </tbody>\n",
       "</table>\n",
       "</div>"
      ],
      "text/plain": [
       "   AWND  TMAX  TMIN   WDF2   WDF5  WSF5\n",
       "0  2.46    64    43   10.0   30.0  11.0\n",
       "1  2.01    65    47  270.0   30.0   8.9\n",
       "2  0.67    62    44  150.0  150.0  14.1\n",
       "3  1.34    69    55  270.0  280.0  14.1\n",
       "4  2.46    59    49  140.0  140.0  16.1"
      ]
     },
     "execution_count": 19,
     "metadata": {},
     "output_type": "execute_result"
    }
   ],
   "source": [
    "data = X.drop(['WSF2'],axis = 'columns')\n",
    "data.head()"
   ]
  },
  {
   "cell_type": "markdown",
   "id": "f69d6f1b",
   "metadata": {},
   "source": [
    "## Normalization"
   ]
  },
  {
   "cell_type": "code",
   "execution_count": 20,
   "id": "b3f78caf",
   "metadata": {},
   "outputs": [],
   "source": [
    "from sklearn.preprocessing import MinMaxScaler\n",
    "from sklearn.model_selection import train_test_split\n",
    "from sklearn import metrics\n",
    "from sklearn.metrics import accuracy_score,f1_score,roc_auc_score,precision_score,recall_score,confusion_matrix,classification_report\n",
    "X_train,X_test,y_train,y_test = train_test_split(data,y,train_size = 0.8)\n",
    "scaler = MinMaxScaler()\n",
    "X_w_train = scaler.fit_transform(X_train)\n",
    "X_train_x = pd.DataFrame(X_w_train,columns = X_train.columns)\n",
    "X_w_test = scaler.transform(X_test)\n",
    "X_test_x = pd.DataFrame(X_w_test,columns = X_test.columns)"
   ]
  },
  {
   "cell_type": "code",
   "execution_count": 21,
   "id": "bff3c594",
   "metadata": {},
   "outputs": [],
   "source": [
    "# defining a function to evaluate my models based on certain metrics(all proposed ones except roc_auc which has been done separately)\n",
    "def print_score(clf, X_train, y_train, X_test, y_test, train=True):\n",
    "    if train:\n",
    "        pred = clf.predict(X_train)\n",
    "        clf_report = pd.DataFrame(classification_report(y_train, pred, output_dict=True))\n",
    "        print(\"Train Result:\\n================================================\")\n",
    "        print(f\"Accuracy Score: {accuracy_score(y_train, pred) * 100:.2f}%\")\n",
    "        print(\"_______________________________________________\")\n",
    "        print(f\"CLASSIFICATION REPORT:\\n{clf_report}\")\n",
    "        print(\"_______________________________________________\")\n",
    "        print(f\"Confusion Matrix: \\n {confusion_matrix(y_train, pred)}\\n\")        \n",
    "    elif train==False:\n",
    "        pred = clf.predict(X_test)\n",
    "        clf_report = pd.DataFrame(classification_report(y_test, pred, output_dict=True))\n",
    "        print(\"Test Result:\\n================================================\")        \n",
    "        print(f\"Accuracy Score: {accuracy_score(y_test, pred) * 100:.2f}%\")\n",
    "        print(\"_______________________________________________\")\n",
    "        print(f\"CLASSIFICATION REPORT:\\n{clf_report}\")\n",
    "        print(\"_______________________________________________\")\n",
    "        print(f\"Confusion Matrix: \\n {confusion_matrix(y_test, pred)}\\n\")"
   ]
  },
  {
   "cell_type": "markdown",
   "id": "b4c680ad",
   "metadata": {},
   "source": [
    "## Implementing Different Models"
   ]
  },
  {
   "cell_type": "markdown",
   "id": "929a3187",
   "metadata": {},
   "source": [
    "### Logistic Regression"
   ]
  },
  {
   "cell_type": "code",
   "execution_count": 22,
   "id": "d026c51c",
   "metadata": {},
   "outputs": [
    {
     "name": "stdout",
     "output_type": "stream",
     "text": [
      "Best params: {'C': 11.513953993264458, 'penalty': 'l2'}\n",
      "ROC_AUC score is : 0.897778383535505\n",
      "Test Result:\n",
      "================================================\n",
      "Accuracy Score: 91.23%\n",
      "_______________________________________________\n",
      "CLASSIFICATION REPORT:\n",
      "                  0.0        1.0  accuracy   macro avg  weighted avg\n",
      "precision    0.918367   0.818182  0.912329    0.868275      0.905741\n",
      "recall       0.987461   0.391304  0.912329    0.689383      0.912329\n",
      "f1-score     0.951662   0.529412  0.912329    0.740537      0.898447\n",
      "support    319.000000  46.000000  0.912329  365.000000    365.000000\n",
      "_______________________________________________\n",
      "Confusion Matrix: \n",
      " [[315   4]\n",
      " [ 28  18]]\n",
      "\n"
     ]
    },
    {
     "data": {
      "image/png": "[encoded data removed]",
      "text/plain": [
       "<Figure size 432x288 with 1 Axes>"
      ]
     },
     "metadata": {
      "needs_background": "light"
     },
     "output_type": "display_data"
    },
    {
     "data": {
      "text/plain": [
       "<AxesSubplot:>"
      ]
     },
     "execution_count": 22,
     "metadata": {},
     "output_type": "execute_result"
    },
    {
     "data": {
      "image/png": "[encoded data removed]",
      "text/plain": [
       "<Figure size 432x288 with 2 Axes>"
      ]
     },
     "metadata": {
      "needs_background": "light"
     },
     "output_type": "display_data"
    }
   ],
   "source": [
    "from sklearn.linear_model import LogisticRegression\n",
    "from sklearn.model_selection import GridSearchCV\n",
    "param_grid = {'C' : np.logspace(-4, 4, 50),'penalty' :['l2']} \n",
    "\n",
    "grid = GridSearchCV(LogisticRegression(), param_grid, cv=5,scoring = 'roc_auc')\n",
    "grid.fit(X_train_x, y_train)\n",
    "\n",
    "best_params = grid.best_params_\n",
    "print(f\"Best params: {best_params}\")\n",
    "\n",
    "lr = LogisticRegression(**best_params)\n",
    "lr.fit(X_train_x,y_train)\n",
    "y_preds = lr.predict_proba(X_test_x)\n",
    "print(\"ROC_AUC score is :\",end = ' ')\n",
    "print(roc_auc_score(y_test,y_preds[:,1]))\n",
    "print_score(lr, X_train_x, y_train, X_test_x, y_test,train = False)\n",
    "fpr, tpr, threshold = metrics.roc_curve(y_test, y_preds[:,1])\n",
    "roc_auc = metrics.auc(fpr, tpr)\n",
    "plt.title('Receiver Operating Characteristic')\n",
    "plt.plot(fpr, tpr, 'b', label = 'AUC = %0.2f' % roc_auc)\n",
    "plt.legend(loc = 'lower right')\n",
    "plt.plot([0, 1], [0, 1],'r--')\n",
    "plt.xlim([0, 1])\n",
    "plt.ylim([0, 1])\n",
    "plt.ylabel('True Positive Rate')\n",
    "plt.xlabel('False Positive Rate')\n",
    "plt.show()\n",
    "labels = [\"True Neg\",\"False Pos\",\"False Neg\",\"True Pos\"]\n",
    "labels = np.asarray(labels).reshape(2,2)\n",
    "sns.heatmap(confusion_matrix(y_test, lr.predict(X_test_x)),annot = labels,fmt='',cmap = \"YlGnBu\")"
   ]
  },
  {
   "cell_type": "markdown",
   "id": "550e1ee4",
   "metadata": {},
   "source": [
    "### Support Vector Classifier"
   ]
  },
  {
   "cell_type": "code",
   "execution_count": 23,
   "id": "b06fd804",
   "metadata": {},
   "outputs": [
    {
     "name": "stdout",
     "output_type": "stream",
     "text": [
      "Best params: {'C': 100, 'gamma': 0.25, 'kernel': 'rbf'}\n",
      "ROC_AUC score is : 0.9011176230066785\n",
      "Test Result:\n",
      "================================================\n",
      "Accuracy Score: 91.23%\n",
      "_______________________________________________\n",
      "CLASSIFICATION REPORT:\n",
      "                  0.0        1.0  accuracy   macro avg  weighted avg\n",
      "precision    0.915942   0.850000  0.912329    0.882971      0.907632\n",
      "recall       0.990596   0.369565  0.912329    0.680080      0.912329\n",
      "f1-score     0.951807   0.515152  0.912329    0.733479      0.896777\n",
      "support    319.000000  46.000000  0.912329  365.000000    365.000000\n",
      "_______________________________________________\n",
      "Confusion Matrix: \n",
      " [[316   3]\n",
      " [ 29  17]]\n",
      "\n"
     ]
    },
    {
     "data": {
      "image/png": "[encoded data removed]",
      "text/plain": [
       "<Figure size 432x288 with 1 Axes>"
      ]
     },
     "metadata": {
      "needs_background": "light"
     },
     "output_type": "display_data"
    },
    {
     "data": {
      "text/plain": [
       "<AxesSubplot:>"
      ]
     },
     "execution_count": 23,
     "metadata": {},
     "output_type": "execute_result"
    },
    {
     "data": {
      "image/png": "[encoded data removed]",
      "text/plain": [
       "<Figure size 432x288 with 2 Axes>"
      ]
     },
     "metadata": {
      "needs_background": "light"
     },
     "output_type": "display_data"
    }
   ],
   "source": [
    "from sklearn.model_selection import GridSearchCV\n",
    "from sklearn.svm import SVC\n",
    "param_grid = {'C': [0.01, 0.1, 0.5, 1, 10, 100], \n",
    "              'gamma': [1, 0.75, 0.5, 0.25, 0.1, 0.01, 0.001], \n",
    "              'kernel': ['rbf', 'poly', 'linear']} \n",
    "\n",
    "grid = GridSearchCV(SVC(), param_grid,cv=5)\n",
    "grid.fit(X_train_x, y_train)\n",
    "\n",
    "best_params = grid.best_params_\n",
    "print(f\"Best params: {best_params}\")\n",
    "\n",
    "svm = SVC(**best_params,probability = True)\n",
    "svm.fit(X_train_x, y_train)\n",
    "y_preds = svm.predict_proba(X_test_x)\n",
    "print(\"ROC_AUC score is :\",end = ' ')\n",
    "print(roc_auc_score(y_test,y_preds[:,1]))\n",
    "print_score(svm, X_train_x, y_train, X_test_x, y_test,train = False)\n",
    "fpr, tpr, threshold = metrics.roc_curve(y_test, y_preds[:,1])\n",
    "roc_auc = metrics.auc(fpr, tpr)\n",
    "plt.title('Receiver Operating Characteristic')\n",
    "plt.plot(fpr, tpr, 'b', label = 'AUC = %0.2f' % roc_auc)\n",
    "plt.legend(loc = 'lower right')\n",
    "plt.plot([0, 1], [0, 1],'r--')\n",
    "plt.xlim([0, 1])\n",
    "plt.ylim([0, 1])\n",
    "plt.ylabel('True Positive Rate')\n",
    "plt.xlabel('False Positive Rate')\n",
    "plt.show()\n",
    "labels = [\"True Neg\",\"False Pos\",\"False Neg\",\"True Pos\"]\n",
    "labels = np.asarray(labels).reshape(2,2)\n",
    "sns.heatmap(confusion_matrix(y_test, svm.predict(X_test_x)),annot = labels,fmt='',cmap = 'YlGnBu')"
   ]
  },
  {
   "cell_type": "markdown",
   "id": "a68af6f7",
   "metadata": {},
   "source": [
    "### Decision Tree Classifier"
   ]
  },
  {
   "cell_type": "code",
   "execution_count": 24,
   "id": "8d4ddabe",
   "metadata": {},
   "outputs": [
    {
     "name": "stdout",
     "output_type": "stream",
     "text": [
      "ROC_AUC score is : 0.7280564263322884\n",
      "Test Result:\n",
      "================================================\n",
      "Accuracy Score: 89.86%\n",
      "_______________________________________________\n",
      "CLASSIFICATION REPORT:\n",
      "                  0.0        1.0  accuracy   macro avg  weighted avg\n",
      "precision    0.929878   0.621622   0.89863    0.775750      0.891029\n",
      "recall       0.956113   0.500000   0.89863    0.728056      0.898630\n",
      "f1-score     0.942813   0.554217   0.89863    0.748515      0.893839\n",
      "support    319.000000  46.000000   0.89863  365.000000    365.000000\n",
      "_______________________________________________\n",
      "Confusion Matrix: \n",
      " [[305  14]\n",
      " [ 23  23]]\n",
      "\n"
     ]
    },
    {
     "data": {
      "image/png": "[encoded data removed]",
      "text/plain": [
       "<Figure size 432x288 with 1 Axes>"
      ]
     },
     "metadata": {
      "needs_background": "light"
     },
     "output_type": "display_data"
    },
    {
     "data": {
      "text/plain": [
       "<AxesSubplot:>"
      ]
     },
     "execution_count": 24,
     "metadata": {},
     "output_type": "execute_result"
    },
    {
     "data": {
      "image/png": "[encoded data removed]",
      "text/plain": [
       "<Figure size 432x288 with 2 Axes>"
      ]
     },
     "metadata": {
      "needs_background": "light"
     },
     "output_type": "display_data"
    }
   ],
   "source": [
    "from sklearn.model_selection import GridSearchCV\n",
    "from sklearn.tree import DecisionTreeClassifier\n",
    "# param_grid = {} \n",
    "\n",
    "# grid = GridSearchCV(DecisionTreeClassifier(), param_grid,cv=5)\n",
    "# grid.fit(X_train_x, y_train)\n",
    "\n",
    "# best_params = grid.best_params_\n",
    "# print(f\"Best params: {best_params}\")\n",
    "\n",
    "dt = DecisionTreeClassifier()\n",
    "dt.fit(X_train_x, y_train)\n",
    "y_preds = dt.predict_proba(X_test_x)\n",
    "print(\"ROC_AUC score is :\",end = ' ')\n",
    "print(roc_auc_score(y_test,y_preds[:,1]))\n",
    "print_score(dt, X_train_x, y_train, X_test_x, y_test,train = False)\n",
    "fpr, tpr, threshold = metrics.roc_curve(y_test, y_preds[:,1])\n",
    "roc_auc = metrics.auc(fpr, tpr)\n",
    "plt.title('Receiver Operating Characteristic')\n",
    "plt.plot(fpr, tpr, 'b', label = 'AUC = %0.2f' % roc_auc)\n",
    "plt.legend(loc = 'lower right')\n",
    "plt.plot([0, 1], [0, 1],'r--')\n",
    "plt.xlim([0, 1])\n",
    "plt.ylim([0, 1])\n",
    "plt.ylabel('True Positive Rate')\n",
    "plt.xlabel('False Positive Rate')\n",
    "plt.show()\n",
    "labels = [\"True Neg\",\"False Pos\",\"False Neg\",\"True Pos\"]\n",
    "labels = np.asarray(labels).reshape(2,2)\n",
    "sns.heatmap(confusion_matrix(y_test, dt.predict(X_test_x)),annot = labels,fmt='',cmap = 'YlGnBu')"
   ]
  },
  {
   "cell_type": "markdown",
   "id": "20955ef1",
   "metadata": {},
   "source": [
    "### Gaussian Naive Bayes"
   ]
  },
  {
   "cell_type": "code",
   "execution_count": 25,
   "id": "dd4dd3a7",
   "metadata": {},
   "outputs": [
    {
     "name": "stdout",
     "output_type": "stream",
     "text": [
      "ROC_AUC score is : 0.8496660760528827\n",
      "Test Result:\n",
      "================================================\n",
      "Accuracy Score: 86.03%\n",
      "_______________________________________________\n",
      "CLASSIFICATION REPORT:\n",
      "                  0.0        1.0  accuracy   macro avg  weighted avg\n",
      "precision    0.929487   0.452830  0.860274    0.691159      0.869415\n",
      "recall       0.909091   0.521739  0.860274    0.715415      0.860274\n",
      "f1-score     0.919176   0.484848  0.860274    0.702012      0.864439\n",
      "support    319.000000  46.000000  0.860274  365.000000    365.000000\n",
      "_______________________________________________\n",
      "Confusion Matrix: \n",
      " [[290  29]\n",
      " [ 22  24]]\n",
      "\n"
     ]
    },
    {
     "data": {
      "image/png": "[encoded data removed]",
      "text/plain": [
       "<Figure size 432x288 with 1 Axes>"
      ]
     },
     "metadata": {
      "needs_background": "light"
     },
     "output_type": "display_data"
    },
    {
     "data": {
      "text/plain": [
       "<AxesSubplot:>"
      ]
     },
     "execution_count": 25,
     "metadata": {},
     "output_type": "execute_result"
    },
    {
     "data": {
      "image/png": "[encoded data removed]",
      "text/plain": [
       "<Figure size 432x288 with 2 Axes>"
      ]
     },
     "metadata": {
      "needs_background": "light"
     },
     "output_type": "display_data"
    }
   ],
   "source": [
    "from sklearn.model_selection import GridSearchCV\n",
    "from sklearn.naive_bayes import GaussianNB\n",
    "# param_grid = {} \n",
    "\n",
    "# grid = GridSearchCV(GaussianNB(), param_grid,cv=5)\n",
    "# grid.fit(X_train_x, y_train)\n",
    "\n",
    "# best_params = grid.best_params_\n",
    "# print(f\"Best params: {best_params}\")\n",
    "\n",
    "gnb = GaussianNB()\n",
    "gnb.fit(X_train_x, y_train)\n",
    "y_preds = gnb.predict_proba(X_test_x)\n",
    "print(\"ROC_AUC score is :\",end = ' ')\n",
    "print(roc_auc_score(y_test,y_preds[:,1]))\n",
    "print_score(gnb, X_train_x, y_train, X_test_x, y_test,train = False)\n",
    "fpr, tpr, threshold = metrics.roc_curve(y_test, y_preds[:,1])\n",
    "roc_auc = metrics.auc(fpr, tpr)\n",
    "plt.title('Receiver Operating Characteristic')\n",
    "plt.plot(fpr, tpr, 'b', label = 'AUC = %0.2f' % roc_auc)\n",
    "plt.legend(loc = 'lower right')\n",
    "plt.plot([0, 1], [0, 1],'r--')\n",
    "plt.xlim([0, 1])\n",
    "plt.ylim([0, 1])\n",
    "plt.ylabel('True Positive Rate')\n",
    "plt.xlabel('False Positive Rate')\n",
    "plt.show()\n",
    "labels = [\"True Neg\",\"False Pos\",\"False Neg\",\"True Pos\"]\n",
    "labels = np.asarray(labels).reshape(2,2)\n",
    "sns.heatmap(confusion_matrix(y_test, gnb.predict(X_test_x)),annot = labels,fmt='',cmap = 'YlGnBu')"
   ]
  },
  {
   "cell_type": "markdown",
   "id": "3462f8d4",
   "metadata": {},
   "source": [
    "### Gradient Boosting Classifier"
   ]
  },
  {
   "cell_type": "code",
   "execution_count": 26,
   "id": "9d30e964",
   "metadata": {},
   "outputs": [
    {
     "name": "stdout",
     "output_type": "stream",
     "text": [
      "ROC_AUC score is : 0.8960406160556086\n",
      "Test Result:\n",
      "================================================\n",
      "Accuracy Score: 91.23%\n",
      "_______________________________________________\n",
      "CLASSIFICATION REPORT:\n",
      "                  0.0        1.0  accuracy   macro avg  weighted avg\n",
      "precision    0.933535   0.705882  0.912329    0.819709      0.904844\n",
      "recall       0.968652   0.521739  0.912329    0.745196      0.912329\n",
      "f1-score     0.950769   0.600000  0.912329    0.775385      0.906563\n",
      "support    319.000000  46.000000  0.912329  365.000000    365.000000\n",
      "_______________________________________________\n",
      "Confusion Matrix: \n",
      " [[309  10]\n",
      " [ 22  24]]\n",
      "\n"
     ]
    },
    {
     "data": {
      "image/png": "[encoded data removed]",
      "text/plain": [
       "<Figure size 432x288 with 1 Axes>"
      ]
     },
     "metadata": {
      "needs_background": "light"
     },
     "output_type": "display_data"
    },
    {
     "data": {
      "text/plain": [
       "<AxesSubplot:>"
      ]
     },
     "execution_count": 26,
     "metadata": {},
     "output_type": "execute_result"
    },
    {
     "data": {
      "image/png": "[encoded data removed]",
      "text/plain": [
       "<Figure size 432x288 with 2 Axes>"
      ]
     },
     "metadata": {
      "needs_background": "light"
     },
     "output_type": "display_data"
    }
   ],
   "source": [
    "from sklearn.model_selection import GridSearchCV\n",
    "from sklearn.ensemble import GradientBoostingClassifier\n",
    "# param_grid = {} \n",
    "\n",
    "# grid = GridSearchCV(GradientBoostingClassifier(), param_grid,cv=5)\n",
    "# grid.fit(X_train_x, y_train)\n",
    "\n",
    "# best_params = grid.best_params_\n",
    "# print(f\"Best params: {best_params}\")\n",
    "\n",
    "gb = GradientBoostingClassifier()\n",
    "gb.fit(X_train_x, y_train)\n",
    "y_preds = gb.predict_proba(X_test_x)\n",
    "print(\"ROC_AUC score is :\",end = ' ')\n",
    "print(roc_auc_score(y_test,y_preds[:,1]))\n",
    "print_score(gb, X_train_x, y_train, X_test_x, y_test,train = False)\n",
    "fpr, tpr, threshold = metrics.roc_curve(y_test, y_preds[:,1])\n",
    "roc_auc = metrics.auc(fpr, tpr)\n",
    "plt.title('Receiver Operating Characteristic')\n",
    "plt.plot(fpr, tpr, 'b', label = 'AUC = %0.2f' % roc_auc)\n",
    "plt.legend(loc = 'lower right')\n",
    "plt.plot([0, 1], [0, 1],'r--')\n",
    "plt.xlim([0, 1])\n",
    "plt.ylim([0, 1])\n",
    "plt.ylabel('True Positive Rate')\n",
    "plt.xlabel('False Positive Rate')\n",
    "plt.show()\n",
    "labels = [\"True Neg\",\"False Pos\",\"False Neg\",\"True Pos\"]\n",
    "labels = np.asarray(labels).reshape(2,2)\n",
    "sns.heatmap(confusion_matrix(y_test, dt.predict(X_test_x)),annot = labels,fmt='',cmap = 'YlGnBu')"
   ]
  },
  {
   "cell_type": "markdown",
   "id": "e9aecb2f",
   "metadata": {},
   "source": [
    "### Random Forest Classifier"
   ]
  },
  {
   "cell_type": "code",
   "execution_count": 27,
   "id": "9c252092",
   "metadata": {},
   "outputs": [
    {
     "name": "stdout",
     "output_type": "stream",
     "text": [
      "ROC_AUC score is : 0.8843192040343465\n",
      "Test Result:\n",
      "================================================\n",
      "Accuracy Score: 92.05%\n",
      "_______________________________________________\n",
      "CLASSIFICATION REPORT:\n",
      "                  0.0        1.0  accuracy   macro avg  weighted avg\n",
      "precision    0.928994   0.814815  0.920548    0.871904      0.914604\n",
      "recall       0.984326   0.478261  0.920548    0.731293      0.920548\n",
      "f1-score     0.955860   0.602740  0.920548    0.779300      0.911357\n",
      "support    319.000000  46.000000  0.920548  365.000000    365.000000\n",
      "_______________________________________________\n",
      "Confusion Matrix: \n",
      " [[314   5]\n",
      " [ 24  22]]\n",
      "\n"
     ]
    },
    {
     "data": {
      "image/png": "[encoded data removed]",
      "text/plain": [
       "<Figure size 432x288 with 1 Axes>"
      ]
     },
     "metadata": {
      "needs_background": "light"
     },
     "output_type": "display_data"
    },
    {
     "data": {
      "text/plain": [
       "<AxesSubplot:>"
      ]
     },
     "execution_count": 27,
     "metadata": {},
     "output_type": "execute_result"
    },
    {
     "data": {
      "image/png": "[encoded data removed]",
      "text/plain": [
       "<Figure size 432x288 with 2 Axes>"
      ]
     },
     "metadata": {
      "needs_background": "light"
     },
     "output_type": "display_data"
    }
   ],
   "source": [
    "from sklearn.model_selection import GridSearchCV\n",
    "from sklearn.ensemble import RandomForestClassifier\n",
    "# param_grid = {} \n",
    "\n",
    "# grid = GridSearchCV(DecisionTreeClassifier(), param_grid,cv=5)\n",
    "# grid.fit(X_train_x, y_train)\n",
    "\n",
    "# best_params = grid.best_params_\n",
    "# print(f\"Best params: {best_params}\")\n",
    "\n",
    "rf = RandomForestClassifier()\n",
    "rf.fit(X_train_x, y_train)\n",
    "y_preds = rf.predict_proba(X_test_x)\n",
    "print(\"ROC_AUC score is :\",end = ' ')\n",
    "print(roc_auc_score(y_test,y_preds[:,1]))\n",
    "print_score(rf, X_train_x, y_train, X_test_x, y_test,train = False)\n",
    "fpr, tpr, threshold = metrics.roc_curve(y_test, y_preds[:,1])\n",
    "roc_auc = metrics.auc(fpr, tpr)\n",
    "plt.title('Receiver Operating Characteristic')\n",
    "plt.plot(fpr, tpr, 'b', label = 'AUC = %0.2f' % roc_auc)\n",
    "plt.legend(loc = 'lower right')\n",
    "plt.plot([0, 1], [0, 1],'r--')\n",
    "plt.xlim([0, 1])\n",
    "plt.ylim([0, 1])\n",
    "plt.ylabel('True Positive Rate')\n",
    "plt.xlabel('False Positive Rate')\n",
    "plt.show()\n",
    "labels = [\"True Neg\",\"False Pos\",\"False Neg\",\"True Pos\"]\n",
    "labels = np.asarray(labels).reshape(2,2)\n",
    "sns.heatmap(confusion_matrix(y_test, dt.predict(X_test_x)),annot = labels,fmt='',cmap = 'YlGnBu')"
   ]
  },
  {
   "cell_type": "markdown",
   "id": "7dd0f079",
   "metadata": {},
   "source": [
    "### XGB Classifier"
   ]
  },
  {
   "cell_type": "code",
   "execution_count": 43,
   "id": "7d80e410",
   "metadata": {},
   "outputs": [
    {
     "name": "stdout",
     "output_type": "stream",
     "text": [
      "ROC_AUC score is : 0.8843192040343465\n",
      "Test Result:\n",
      "================================================\n",
      "Accuracy Score: 91.51%\n",
      "_______________________________________________\n",
      "CLASSIFICATION REPORT:\n",
      "                  0.0        1.0  accuracy   macro avg  weighted avg\n",
      "precision    0.939024   0.702703  0.915068    0.820864      0.909241\n",
      "recall       0.965517   0.565217  0.915068    0.765367      0.915068\n",
      "f1-score     0.952087   0.626506  0.915068    0.789296      0.911054\n",
      "support    319.000000  46.000000  0.915068  365.000000    365.000000\n",
      "_______________________________________________\n",
      "Confusion Matrix: \n",
      " [[308  11]\n",
      " [ 20  26]]\n",
      "\n"
     ]
    },
    {
     "data": {
      "image/png": "[encoded data removed]",
      "text/plain": [
       "<Figure size 432x288 with 1 Axes>"
      ]
     },
     "metadata": {
      "needs_background": "light"
     },
     "output_type": "display_data"
    },
    {
     "data": {
      "text/plain": [
       "<AxesSubplot:>"
      ]
     },
     "execution_count": 43,
     "metadata": {},
     "output_type": "execute_result"
    },
    {
     "data": {
      "image/png": "[encoded data removed]",
      "text/plain": [
       "<Figure size 432x288 with 2 Axes>"
      ]
     },
     "metadata": {
      "needs_background": "light"
     },
     "output_type": "display_data"
    }
   ],
   "source": [
    "from xgboost import XGBClassifier\n",
    "# param_grid = {} \n",
    "\n",
    "# grid = GridSearchCV(DecisionTreeClassifier(), param_grid,cv=5)\n",
    "# grid.fit(X_train_x, y_train)\n",
    "\n",
    "# best_params = grid.best_params_\n",
    "# print(f\"Best params: {best_params}\")\n",
    "\n",
    "xgb = XGBClassifier(use_label_encoder=False, eval_metric = 'error')\n",
    "xgb.fit(X_train_x, y_train)\n",
    "y_preds = rf.predict_proba(X_test_x)\n",
    "print(\"ROC_AUC score is :\",end = ' ')\n",
    "print(roc_auc_score(y_test,y_preds[:,1]))\n",
    "print_score(xgb, X_train_x, y_train, X_test_x, y_test,train = False)\n",
    "fpr, tpr, threshold = metrics.roc_curve(y_test, y_preds[:,1])\n",
    "roc_auc = metrics.auc(fpr, tpr)\n",
    "plt.title('Receiver Operating Characteristic')\n",
    "plt.plot(fpr, tpr, 'b', label = 'AUC = %0.2f' % roc_auc)\n",
    "plt.legend(loc = 'lower right')\n",
    "plt.plot([0, 1], [0, 1],'r--')\n",
    "plt.xlim([0, 1])\n",
    "plt.ylim([0, 1])\n",
    "plt.ylabel('True Positive Rate')\n",
    "plt.xlabel('False Positive Rate')\n",
    "plt.show()\n",
    "labels = [\"True Neg\",\"False Pos\",\"False Neg\",\"True Pos\"]\n",
    "labels = np.asarray(labels).reshape(2,2)\n",
    "sns.heatmap(confusion_matrix(y_test, dt.predict(X_test_x)),annot = labels,fmt='',cmap = 'YlGnBu')"
   ]
  },
  {
   "cell_type": "markdown",
   "id": "8c2080ea",
   "metadata": {},
   "source": [
    "### Cat Boost Classifier"
   ]
  },
  {
   "cell_type": "code",
   "execution_count": 32,
   "id": "0a4cd12b",
   "metadata": {},
   "outputs": [
    {
     "name": "stdout",
     "output_type": "stream",
     "text": [
      "ROC_AUC score is : 0.8843192040343465\n",
      "Test Result:\n",
      "================================================\n",
      "Accuracy Score: 92.05%\n",
      "_______________________________________________\n",
      "CLASSIFICATION REPORT:\n",
      "                  0.0        1.0  accuracy   macro avg  weighted avg\n",
      "precision    0.931548   0.793103  0.920548    0.862326      0.914100\n",
      "recall       0.981191   0.500000  0.920548    0.740596      0.920548\n",
      "f1-score     0.955725   0.613333  0.920548    0.784529      0.912574\n",
      "support    319.000000  46.000000  0.920548  365.000000    365.000000\n",
      "_______________________________________________\n",
      "Confusion Matrix: \n",
      " [[313   6]\n",
      " [ 23  23]]\n",
      "\n"
     ]
    },
    {
     "data": {
      "image/png": "[encoded data removed]",
      "text/plain": [
       "<Figure size 432x288 with 1 Axes>"
      ]
     },
     "metadata": {
      "needs_background": "light"
     },
     "output_type": "display_data"
    },
    {
     "data": {
      "text/plain": [
       "<AxesSubplot:>"
      ]
     },
     "execution_count": 32,
     "metadata": {},
     "output_type": "execute_result"
    },
    {
     "data": {
      "image/png": "[encoded data removed]",
      "text/plain": [
       "<Figure size 432x288 with 2 Axes>"
      ]
     },
     "metadata": {
      "needs_background": "light"
     },
     "output_type": "display_data"
    }
   ],
   "source": [
    "from catboost import CatBoostClassifier\n",
    "# param_grid = {} \n",
    "\n",
    "# grid = GridSearchCV(DecisionTreeClassifier(), param_grid,cv=5)\n",
    "# grid.fit(X_train_x, y_train)\n",
    "\n",
    "# best_params = grid.best_params_\n",
    "# print(f\"Best params: {best_params}\")\n",
    "\n",
    "cat = CatBoostClassifier(logging_level='Silent')\n",
    "cat.fit(X_train_x, y_train)\n",
    "y_preds = rf.predict_proba(X_test_x)\n",
    "print(\"ROC_AUC score is :\",end = ' ')\n",
    "print(roc_auc_score(y_test,y_preds[:,1]))\n",
    "print_score(cat, X_train_x, y_train, X_test_x, y_test,train = False)\n",
    "fpr, tpr, threshold = metrics.roc_curve(y_test, y_preds[:,1])\n",
    "roc_auc = metrics.auc(fpr, tpr)\n",
    "plt.title('Receiver Operating Characteristic')\n",
    "plt.plot(fpr, tpr, 'b', label = 'AUC = %0.2f' % roc_auc)\n",
    "plt.legend(loc = 'lower right')\n",
    "plt.plot([0, 1], [0, 1],'r--')\n",
    "plt.xlim([0, 1])\n",
    "plt.ylim([0, 1])\n",
    "plt.ylabel('True Positive Rate')\n",
    "plt.xlabel('False Positive Rate')\n",
    "plt.show()\n",
    "labels = [\"True Neg\",\"False Pos\",\"False Neg\",\"True Pos\"]\n",
    "labels = np.asarray(labels).reshape(2,2)\n",
    "sns.heatmap(confusion_matrix(y_test, dt.predict(X_test_x)),annot = labels,fmt='',cmap = 'YlGnBu')"
   ]
  },
  {
   "cell_type": "markdown",
   "id": "b194d960",
   "metadata": {},
   "source": [
    "## Model Comparision"
   ]
  },
  {
   "cell_type": "code",
   "execution_count": 41,
   "id": "6696ccde",
   "metadata": {},
   "outputs": [
    {
     "name": "stdout",
     "output_type": "stream",
     "text": [
      "Accuracy score\n",
      "LR: 0.932785 (0.016866)\n",
      "CART: 0.908791 (0.010656)\n",
      "NB: 0.888898 (0.008720)\n",
      "SVM: 0.936212 (0.014636)\n",
      "GBC: 0.939644 (0.011584)\n",
      "RF: 0.932792 (0.008503)\n",
      "XGB: 0.936217 (0.015098)\n",
      "CAT: 0.934840 (0.011059)\n",
      "\n",
      "ROC_AUC score\n",
      "LR: 0.947521 (0.018243)\n",
      "CART: 0.702259 (0.057713)\n",
      "NB: 0.901159 (0.037616)\n",
      "SVM: 0.942945 (0.016708)\n",
      "GBC: 0.932480 (0.026614)\n",
      "RF: 0.917333 (0.040015)\n",
      "XGB: 0.918869 (0.040573)\n",
      "CAT: 0.938573 (0.027492)\n",
      "\n"
     ]
    },
    {
     "data": {
      "image/png": "[encoded data removed]",
      "text/plain": [
       "<Figure size 432x288 with 1 Axes>"
      ]
     },
     "metadata": {
      "needs_background": "light"
     },
     "output_type": "display_data"
    },
    {
     "data": {
      "image/png": "[encoded data removed]",
      "text/plain": [
       "<Figure size 432x288 with 1 Axes>"
      ]
     },
     "metadata": {
      "needs_background": "light"
     },
     "output_type": "display_data"
    }
   ],
   "source": [
    "#Comparing models based on Accuracy score and ROC_AUC score using boxplots\n",
    "from sklearn import model_selection\n",
    "models = []\n",
    "models.append(('LR', lr))\n",
    "models.append(('CART', dt))\n",
    "models.append(('NB', gnb))\n",
    "models.append(('SVM', svm))\n",
    "models.append(('GBC', gb))\n",
    "models.append(('RF',rf))\n",
    "models.append(('XGB',xgb))\n",
    "models.append(('CAT',cat))\n",
    "results = []\n",
    "results2 = []\n",
    "names = []\n",
    "print(\"Accuracy score\")\n",
    "for name, model in models:\n",
    "    kfold = model_selection.KFold(n_splits=5)\n",
    "    cv_results = model_selection.cross_val_score(model, X_train_x, y_train, cv=kfold, scoring='accuracy')\n",
    "    results.append(cv_results)\n",
    "    names.append(name)\n",
    "    msg = \"%s: %f (%f)\" % (name, cv_results.mean(), cv_results.std())\n",
    "    print(msg)\n",
    "print('')\n",
    "print(\"ROC_AUC score\")\n",
    "for name, model in models:\n",
    "    kfold = model_selection.KFold(n_splits=5)\n",
    "    cv_results = model_selection.cross_val_score(model, X_train_x, y_train, cv=kfold, scoring='roc_auc')\n",
    "    results2.append(cv_results)\n",
    "    msg = \"%s: %f (%f)\" % (name, cv_results.mean(), cv_results.std())\n",
    "    print(msg)\n",
    "print('')\n",
    "fig = plt.figure()\n",
    "fig.suptitle('Accuracy')\n",
    "ax = fig.add_subplot(111)\n",
    "plt.boxplot(results)\n",
    "ax.set_xticklabels(names)\n",
    "plt.show()\n",
    "fig2 = plt.figure()\n",
    "fig2.suptitle('ROC_AUC score')\n",
    "ax2 = fig2.add_subplot(111)\n",
    "plt.boxplot(results2)\n",
    "ax2.set_xticklabels(names)\n",
    "plt.show()"
   ]
  }
 ],
 "metadata": {
  "kernelspec": {
   "display_name": "Python 3 (ipykernel)",
   "language": "python",
   "name": "python3"
  },
  "language_info": {
   "codemirror_mode": {
    "name": "ipython",
    "version": 3
   },
   "file_extension": ".py",
   "mimetype": "text/x-python",
   "name": "python",
   "nbconvert_exporter": "python",
   "pygments_lexer": "ipython3",
   "version": "3.9.7"
  }
 },
 "nbformat": 4,
 "nbformat_minor": 5
}
