{
 "cells": [
  {
   "cell_type": "markdown",
   "id": "bfb42006",
   "metadata": {},
   "source": [
    "## Importing Libraries"
   ]
  },
  {
   "cell_type": "code",
   "execution_count": 1,
   "id": "9b766b73",
   "metadata": {},
   "outputs": [],
   "source": [
    "import numpy as np\n",
    "import pandas as pd\n",
    "import seaborn as sns\n",
    "import matplotlib.pyplot as plt\n",
    "%matplotlib inline\n",
    "import warnings\n",
    "warnings.filterwarnings('ignore')"
   ]
  },
  {
   "cell_type": "markdown",
   "id": "2d5c1afc",
   "metadata": {},
   "source": [
    "## Loading Dataset"
   ]
  },
  {
   "cell_type": "code",
   "execution_count": 2,
   "id": "cc318aac",
   "metadata": {},
   "outputs": [
    {
     "data": {
      "text/html": [
       "<div>\n",
       "<style scoped>\n",
       "    .dataframe tbody tr th:only-of-type {\n",
       "        vertical-align: middle;\n",
       "    }\n",
       "\n",
       "    .dataframe tbody tr th {\n",
       "        vertical-align: top;\n",
       "    }\n",
       "\n",
       "    .dataframe thead th {\n",
       "        text-align: right;\n",
       "    }\n",
       "</style>\n",
       "<table border=\"1\" class=\"dataframe\">\n",
       "  <thead>\n",
       "    <tr style=\"text-align: right;\">\n",
       "      <th></th>\n",
       "      <th>STATION</th>\n",
       "      <th>NAME</th>\n",
       "      <th>DATE</th>\n",
       "      <th>AWND</th>\n",
       "      <th>PGTM</th>\n",
       "      <th>PRCP</th>\n",
       "      <th>TAVG</th>\n",
       "      <th>TMAX</th>\n",
       "      <th>TMIN</th>\n",
       "      <th>WDF2</th>\n",
       "      <th>WDF5</th>\n",
       "      <th>WSF2</th>\n",
       "      <th>WSF5</th>\n",
       "      <th>WT01</th>\n",
       "      <th>WT02</th>\n",
       "      <th>WT08</th>\n",
       "    </tr>\n",
       "  </thead>\n",
       "  <tbody>\n",
       "    <tr>\n",
       "      <th>0</th>\n",
       "      <td>USW00093134</td>\n",
       "      <td>LOS ANGELES DOWNTOWN USC, CA US</td>\n",
       "      <td>2016-01-01</td>\n",
       "      <td>2.46</td>\n",
       "      <td>NaN</td>\n",
       "      <td>0.00</td>\n",
       "      <td>NaN</td>\n",
       "      <td>64</td>\n",
       "      <td>43</td>\n",
       "      <td>10.0</td>\n",
       "      <td>30.0</td>\n",
       "      <td>8.1</td>\n",
       "      <td>11.0</td>\n",
       "      <td>NaN</td>\n",
       "      <td>NaN</td>\n",
       "      <td>1.0</td>\n",
       "    </tr>\n",
       "    <tr>\n",
       "      <th>1</th>\n",
       "      <td>USW00093134</td>\n",
       "      <td>LOS ANGELES DOWNTOWN USC, CA US</td>\n",
       "      <td>2016-01-02</td>\n",
       "      <td>2.01</td>\n",
       "      <td>NaN</td>\n",
       "      <td>0.00</td>\n",
       "      <td>NaN</td>\n",
       "      <td>65</td>\n",
       "      <td>47</td>\n",
       "      <td>270.0</td>\n",
       "      <td>30.0</td>\n",
       "      <td>6.0</td>\n",
       "      <td>8.9</td>\n",
       "      <td>NaN</td>\n",
       "      <td>NaN</td>\n",
       "      <td>NaN</td>\n",
       "    </tr>\n",
       "    <tr>\n",
       "      <th>2</th>\n",
       "      <td>USW00093134</td>\n",
       "      <td>LOS ANGELES DOWNTOWN USC, CA US</td>\n",
       "      <td>2016-01-03</td>\n",
       "      <td>0.67</td>\n",
       "      <td>NaN</td>\n",
       "      <td>0.00</td>\n",
       "      <td>NaN</td>\n",
       "      <td>62</td>\n",
       "      <td>44</td>\n",
       "      <td>150.0</td>\n",
       "      <td>150.0</td>\n",
       "      <td>10.1</td>\n",
       "      <td>14.1</td>\n",
       "      <td>NaN</td>\n",
       "      <td>NaN</td>\n",
       "      <td>NaN</td>\n",
       "    </tr>\n",
       "    <tr>\n",
       "      <th>3</th>\n",
       "      <td>USW00093134</td>\n",
       "      <td>LOS ANGELES DOWNTOWN USC, CA US</td>\n",
       "      <td>2016-01-04</td>\n",
       "      <td>1.34</td>\n",
       "      <td>NaN</td>\n",
       "      <td>0.01</td>\n",
       "      <td>NaN</td>\n",
       "      <td>69</td>\n",
       "      <td>55</td>\n",
       "      <td>270.0</td>\n",
       "      <td>280.0</td>\n",
       "      <td>8.1</td>\n",
       "      <td>14.1</td>\n",
       "      <td>NaN</td>\n",
       "      <td>NaN</td>\n",
       "      <td>NaN</td>\n",
       "    </tr>\n",
       "    <tr>\n",
       "      <th>4</th>\n",
       "      <td>USW00093134</td>\n",
       "      <td>LOS ANGELES DOWNTOWN USC, CA US</td>\n",
       "      <td>2016-01-05</td>\n",
       "      <td>2.46</td>\n",
       "      <td>NaN</td>\n",
       "      <td>1.61</td>\n",
       "      <td>NaN</td>\n",
       "      <td>59</td>\n",
       "      <td>49</td>\n",
       "      <td>140.0</td>\n",
       "      <td>140.0</td>\n",
       "      <td>10.1</td>\n",
       "      <td>16.1</td>\n",
       "      <td>1.0</td>\n",
       "      <td>1.0</td>\n",
       "      <td>NaN</td>\n",
       "    </tr>\n",
       "  </tbody>\n",
       "</table>\n",
       "</div>"
      ],
      "text/plain": [
       "       STATION                             NAME       DATE  AWND  PGTM  PRCP  \\\n",
       "0  USW00093134  LOS ANGELES DOWNTOWN USC, CA US 2016-01-01  2.46   NaN  0.00   \n",
       "1  USW00093134  LOS ANGELES DOWNTOWN USC, CA US 2016-01-02  2.01   NaN  0.00   \n",
       "2  USW00093134  LOS ANGELES DOWNTOWN USC, CA US 2016-01-03  0.67   NaN  0.00   \n",
       "3  USW00093134  LOS ANGELES DOWNTOWN USC, CA US 2016-01-04  1.34   NaN  0.01   \n",
       "4  USW00093134  LOS ANGELES DOWNTOWN USC, CA US 2016-01-05  2.46   NaN  1.61   \n",
       "\n",
       "   TAVG  TMAX  TMIN   WDF2   WDF5  WSF2  WSF5  WT01  WT02  WT08  \n",
       "0   NaN    64    43   10.0   30.0   8.1  11.0   NaN   NaN   1.0  \n",
       "1   NaN    65    47  270.0   30.0   6.0   8.9   NaN   NaN   NaN  \n",
       "2   NaN    62    44  150.0  150.0  10.1  14.1   NaN   NaN   NaN  \n",
       "3   NaN    69    55  270.0  280.0   8.1  14.1   NaN   NaN   NaN  \n",
       "4   NaN    59    49  140.0  140.0  10.1  16.1   1.0   1.0   NaN  "
      ]
     },
     "execution_count": 2,
     "metadata": {},
     "output_type": "execute_result"
    }
   ],
   "source": [
    "data = pd.read_csv(r'C:\\Users\\nagpa\\OneDrive\\Desktop\\dataset.csv', parse_dates = ['DATE'])\n",
    "data.head()\n",
    "#data.DATE.dtype"
   ]
  },
  {
   "cell_type": "markdown",
   "id": "35e79be6",
   "metadata": {},
   "source": [
    "### Working on PRCP column (Target Column)"
   ]
  },
  {
   "cell_type": "code",
   "execution_count": 3,
   "id": "5f4c5332",
   "metadata": {},
   "outputs": [],
   "source": [
    "data.loc[data['PRCP'] > 0, 'PRCP'] = 1"
   ]
  },
  {
   "cell_type": "markdown",
   "id": "0702c291",
   "metadata": {},
   "source": [
    "## Data Cleaning and Exploration"
   ]
  },
  {
   "cell_type": "code",
   "execution_count": 4,
   "id": "7c05b7ae",
   "metadata": {},
   "outputs": [
    {
     "name": "stdout",
     "output_type": "stream",
     "text": [
      "<class 'pandas.core.frame.DataFrame'>\n",
      "RangeIndex: 1827 entries, 0 to 1826\n",
      "Data columns (total 16 columns):\n",
      " #   Column   Non-Null Count  Dtype         \n",
      "---  ------   --------------  -----         \n",
      " 0   STATION  1827 non-null   object        \n",
      " 1   NAME     1827 non-null   object        \n",
      " 2   DATE     1827 non-null   datetime64[ns]\n",
      " 3   AWND     1823 non-null   float64       \n",
      " 4   PGTM     62 non-null     float64       \n",
      " 5   PRCP     1827 non-null   float64       \n",
      " 6   TAVG     0 non-null      float64       \n",
      " 7   TMAX     1827 non-null   int64         \n",
      " 8   TMIN     1827 non-null   int64         \n",
      " 9   WDF2     1822 non-null   float64       \n",
      " 10  WDF5     1809 non-null   float64       \n",
      " 11  WSF2     1823 non-null   float64       \n",
      " 12  WSF5     1809 non-null   float64       \n",
      " 13  WT01     551 non-null    float64       \n",
      " 14  WT02     39 non-null     float64       \n",
      " 15  WT08     861 non-null    float64       \n",
      "dtypes: datetime64[ns](1), float64(11), int64(2), object(2)\n",
      "memory usage: 228.5+ KB\n"
     ]
    }
   ],
   "source": [
    "data.info()"
   ]
  },
  {
   "cell_type": "code",
   "execution_count": 5,
   "id": "0d1d2718",
   "metadata": {},
   "outputs": [
    {
     "data": {
      "text/plain": [
       "(1827, 16)"
      ]
     },
     "execution_count": 5,
     "metadata": {},
     "output_type": "execute_result"
    }
   ],
   "source": [
    "data.shape"
   ]
  },
  {
   "cell_type": "code",
   "execution_count": 6,
   "id": "9e02f342",
   "metadata": {},
   "outputs": [
    {
     "data": {
      "text/html": [
       "<div>\n",
       "<style scoped>\n",
       "    .dataframe tbody tr th:only-of-type {\n",
       "        vertical-align: middle;\n",
       "    }\n",
       "\n",
       "    .dataframe tbody tr th {\n",
       "        vertical-align: top;\n",
       "    }\n",
       "\n",
       "    .dataframe thead th {\n",
       "        text-align: right;\n",
       "    }\n",
       "</style>\n",
       "<table border=\"1\" class=\"dataframe\">\n",
       "  <thead>\n",
       "    <tr style=\"text-align: right;\">\n",
       "      <th></th>\n",
       "      <th>AWND</th>\n",
       "      <th>PGTM</th>\n",
       "      <th>PRCP</th>\n",
       "      <th>TAVG</th>\n",
       "      <th>TMAX</th>\n",
       "      <th>TMIN</th>\n",
       "      <th>WDF2</th>\n",
       "      <th>WDF5</th>\n",
       "      <th>WSF2</th>\n",
       "      <th>WSF5</th>\n",
       "      <th>WT01</th>\n",
       "      <th>WT02</th>\n",
       "      <th>WT08</th>\n",
       "    </tr>\n",
       "  </thead>\n",
       "  <tbody>\n",
       "    <tr>\n",
       "      <th>count</th>\n",
       "      <td>1823.000000</td>\n",
       "      <td>62.000000</td>\n",
       "      <td>1827.000000</td>\n",
       "      <td>0.0</td>\n",
       "      <td>1827.000000</td>\n",
       "      <td>1827.000000</td>\n",
       "      <td>1822.000000</td>\n",
       "      <td>1809.000000</td>\n",
       "      <td>1823.000000</td>\n",
       "      <td>1809.000000</td>\n",
       "      <td>551.0</td>\n",
       "      <td>39.0</td>\n",
       "      <td>861.0</td>\n",
       "    </tr>\n",
       "    <tr>\n",
       "      <th>mean</th>\n",
       "      <td>1.675710</td>\n",
       "      <td>1404.854839</td>\n",
       "      <td>0.091407</td>\n",
       "      <td>NaN</td>\n",
       "      <td>76.498632</td>\n",
       "      <td>58.120416</td>\n",
       "      <td>254.143798</td>\n",
       "      <td>256.428966</td>\n",
       "      <td>9.062095</td>\n",
       "      <td>14.721669</td>\n",
       "      <td>1.0</td>\n",
       "      <td>1.0</td>\n",
       "      <td>1.0</td>\n",
       "    </tr>\n",
       "    <tr>\n",
       "      <th>std</th>\n",
       "      <td>0.909434</td>\n",
       "      <td>350.813754</td>\n",
       "      <td>0.288265</td>\n",
       "      <td>NaN</td>\n",
       "      <td>9.133929</td>\n",
       "      <td>7.223756</td>\n",
       "      <td>54.756284</td>\n",
       "      <td>55.571902</td>\n",
       "      <td>2.016827</td>\n",
       "      <td>3.622257</td>\n",
       "      <td>0.0</td>\n",
       "      <td>0.0</td>\n",
       "      <td>0.0</td>\n",
       "    </tr>\n",
       "    <tr>\n",
       "      <th>min</th>\n",
       "      <td>0.000000</td>\n",
       "      <td>103.000000</td>\n",
       "      <td>0.000000</td>\n",
       "      <td>NaN</td>\n",
       "      <td>52.000000</td>\n",
       "      <td>38.000000</td>\n",
       "      <td>10.000000</td>\n",
       "      <td>10.000000</td>\n",
       "      <td>2.900000</td>\n",
       "      <td>6.000000</td>\n",
       "      <td>1.0</td>\n",
       "      <td>1.0</td>\n",
       "      <td>1.0</td>\n",
       "    </tr>\n",
       "    <tr>\n",
       "      <th>25%</th>\n",
       "      <td>1.120000</td>\n",
       "      <td>1337.500000</td>\n",
       "      <td>0.000000</td>\n",
       "      <td>NaN</td>\n",
       "      <td>70.000000</td>\n",
       "      <td>53.000000</td>\n",
       "      <td>260.000000</td>\n",
       "      <td>270.000000</td>\n",
       "      <td>8.100000</td>\n",
       "      <td>12.100000</td>\n",
       "      <td>1.0</td>\n",
       "      <td>1.0</td>\n",
       "      <td>1.0</td>\n",
       "    </tr>\n",
       "    <tr>\n",
       "      <th>50%</th>\n",
       "      <td>1.570000</td>\n",
       "      <td>1442.500000</td>\n",
       "      <td>0.000000</td>\n",
       "      <td>NaN</td>\n",
       "      <td>76.000000</td>\n",
       "      <td>58.000000</td>\n",
       "      <td>270.000000</td>\n",
       "      <td>270.000000</td>\n",
       "      <td>8.900000</td>\n",
       "      <td>14.100000</td>\n",
       "      <td>1.0</td>\n",
       "      <td>1.0</td>\n",
       "      <td>1.0</td>\n",
       "    </tr>\n",
       "    <tr>\n",
       "      <th>75%</th>\n",
       "      <td>2.010000</td>\n",
       "      <td>1545.000000</td>\n",
       "      <td>0.000000</td>\n",
       "      <td>NaN</td>\n",
       "      <td>83.000000</td>\n",
       "      <td>64.000000</td>\n",
       "      <td>270.000000</td>\n",
       "      <td>280.000000</td>\n",
       "      <td>10.100000</td>\n",
       "      <td>16.100000</td>\n",
       "      <td>1.0</td>\n",
       "      <td>1.0</td>\n",
       "      <td>1.0</td>\n",
       "    </tr>\n",
       "    <tr>\n",
       "      <th>max</th>\n",
       "      <td>8.050000</td>\n",
       "      <td>2314.000000</td>\n",
       "      <td>1.000000</td>\n",
       "      <td>NaN</td>\n",
       "      <td>111.000000</td>\n",
       "      <td>79.000000</td>\n",
       "      <td>360.000000</td>\n",
       "      <td>360.000000</td>\n",
       "      <td>21.000000</td>\n",
       "      <td>34.000000</td>\n",
       "      <td>1.0</td>\n",
       "      <td>1.0</td>\n",
       "      <td>1.0</td>\n",
       "    </tr>\n",
       "  </tbody>\n",
       "</table>\n",
       "</div>"
      ],
      "text/plain": [
       "              AWND         PGTM         PRCP  TAVG         TMAX         TMIN  \\\n",
       "count  1823.000000    62.000000  1827.000000   0.0  1827.000000  1827.000000   \n",
       "mean      1.675710  1404.854839     0.091407   NaN    76.498632    58.120416   \n",
       "std       0.909434   350.813754     0.288265   NaN     9.133929     7.223756   \n",
       "min       0.000000   103.000000     0.000000   NaN    52.000000    38.000000   \n",
       "25%       1.120000  1337.500000     0.000000   NaN    70.000000    53.000000   \n",
       "50%       1.570000  1442.500000     0.000000   NaN    76.000000    58.000000   \n",
       "75%       2.010000  1545.000000     0.000000   NaN    83.000000    64.000000   \n",
       "max       8.050000  2314.000000     1.000000   NaN   111.000000    79.000000   \n",
       "\n",
       "              WDF2         WDF5         WSF2         WSF5   WT01  WT02   WT08  \n",
       "count  1822.000000  1809.000000  1823.000000  1809.000000  551.0  39.0  861.0  \n",
       "mean    254.143798   256.428966     9.062095    14.721669    1.0   1.0    1.0  \n",
       "std      54.756284    55.571902     2.016827     3.622257    0.0   0.0    0.0  \n",
       "min      10.000000    10.000000     2.900000     6.000000    1.0   1.0    1.0  \n",
       "25%     260.000000   270.000000     8.100000    12.100000    1.0   1.0    1.0  \n",
       "50%     270.000000   270.000000     8.900000    14.100000    1.0   1.0    1.0  \n",
       "75%     270.000000   280.000000    10.100000    16.100000    1.0   1.0    1.0  \n",
       "max     360.000000   360.000000    21.000000    34.000000    1.0   1.0    1.0  "
      ]
     },
     "execution_count": 6,
     "metadata": {},
     "output_type": "execute_result"
    }
   ],
   "source": [
    "data.describe()"
   ]
  },
  {
   "cell_type": "markdown",
   "id": "d16174ce",
   "metadata": {},
   "source": [
    "## Visualizing Class Imbalance"
   ]
  },
  {
   "cell_type": "code",
   "execution_count": 7,
   "id": "fdfd9e5d",
   "metadata": {},
   "outputs": [
    {
     "data": {
      "text/plain": [
       "<AxesSubplot:xlabel='PRCP', ylabel='count'>"
      ]
     },
     "execution_count": 7,
     "metadata": {},
     "output_type": "execute_result"
    },
    {
     "data": {
      "image/png": "[encoded data removed]",
      "text/plain": [
       "<Figure size 432x288 with 1 Axes>"
      ]
     },
     "metadata": {
      "needs_background": "light"
     },
     "output_type": "display_data"
    }
   ],
   "source": [
    "sns.countplot(x = 'PRCP',data = data)"
   ]
  },
  {
   "cell_type": "markdown",
   "id": "3e7484ca",
   "metadata": {},
   "source": [
    "#### Here we can clearly see the number of samples for the case when precipitation occurs is much less than for the case when precipitation does not occur. Hence, there is class imbalance"
   ]
  },
  {
   "cell_type": "markdown",
   "id": "ef61963e",
   "metadata": {},
   "source": [
    "### Checking for Null Values"
   ]
  },
  {
   "cell_type": "code",
   "execution_count": 8,
   "id": "14be4d26",
   "metadata": {},
   "outputs": [
    {
     "data": {
      "text/plain": [
       "<AxesSubplot:>"
      ]
     },
     "execution_count": 8,
     "metadata": {},
     "output_type": "execute_result"
    },
    {
     "data": {
      "image/png": "[encoded data removed]",
      "text/plain": [
       "<Figure size 432x288 with 2 Axes>"
      ]
     },
     "metadata": {
      "needs_background": "light"
     },
     "output_type": "display_data"
    }
   ],
   "source": [
    "sns.heatmap(data.isnull())"
   ]
  },
  {
   "cell_type": "markdown",
   "id": "f2b33aa6",
   "metadata": {},
   "source": [
    "#### Based on the heatmap, columns PGTM,TAVG,WT01,WT02,WT08 have too many null values and shall be dropped. The rest of the cells with null values will be imputed with the mode value "
   ]
  },
  {
   "cell_type": "code",
   "execution_count": 9,
   "id": "18fa80d0",
   "metadata": {},
   "outputs": [
    {
     "data": {
      "text/html": [
       "<div>\n",
       "<style scoped>\n",
       "    .dataframe tbody tr th:only-of-type {\n",
       "        vertical-align: middle;\n",
       "    }\n",
       "\n",
       "    .dataframe tbody tr th {\n",
       "        vertical-align: top;\n",
       "    }\n",
       "\n",
       "    .dataframe thead th {\n",
       "        text-align: right;\n",
       "    }\n",
       "</style>\n",
       "<table border=\"1\" class=\"dataframe\">\n",
       "  <thead>\n",
       "    <tr style=\"text-align: right;\">\n",
       "      <th></th>\n",
       "      <th>STATION</th>\n",
       "      <th>NAME</th>\n",
       "      <th>DATE</th>\n",
       "      <th>AWND</th>\n",
       "      <th>PRCP</th>\n",
       "      <th>TMAX</th>\n",
       "      <th>TMIN</th>\n",
       "      <th>WDF2</th>\n",
       "      <th>WDF5</th>\n",
       "      <th>WSF2</th>\n",
       "      <th>WSF5</th>\n",
       "    </tr>\n",
       "  </thead>\n",
       "  <tbody>\n",
       "    <tr>\n",
       "      <th>0</th>\n",
       "      <td>USW00093134</td>\n",
       "      <td>LOS ANGELES DOWNTOWN USC, CA US</td>\n",
       "      <td>2016-01-01</td>\n",
       "      <td>2.46</td>\n",
       "      <td>0.0</td>\n",
       "      <td>64</td>\n",
       "      <td>43</td>\n",
       "      <td>10.0</td>\n",
       "      <td>30.0</td>\n",
       "      <td>8.1</td>\n",
       "      <td>11.0</td>\n",
       "    </tr>\n",
       "    <tr>\n",
       "      <th>1</th>\n",
       "      <td>USW00093134</td>\n",
       "      <td>LOS ANGELES DOWNTOWN USC, CA US</td>\n",
       "      <td>2016-01-02</td>\n",
       "      <td>2.01</td>\n",
       "      <td>0.0</td>\n",
       "      <td>65</td>\n",
       "      <td>47</td>\n",
       "      <td>270.0</td>\n",
       "      <td>30.0</td>\n",
       "      <td>6.0</td>\n",
       "      <td>8.9</td>\n",
       "    </tr>\n",
       "    <tr>\n",
       "      <th>2</th>\n",
       "      <td>USW00093134</td>\n",
       "      <td>LOS ANGELES DOWNTOWN USC, CA US</td>\n",
       "      <td>2016-01-03</td>\n",
       "      <td>0.67</td>\n",
       "      <td>0.0</td>\n",
       "      <td>62</td>\n",
       "      <td>44</td>\n",
       "      <td>150.0</td>\n",
       "      <td>150.0</td>\n",
       "      <td>10.1</td>\n",
       "      <td>14.1</td>\n",
       "    </tr>\n",
       "    <tr>\n",
       "      <th>3</th>\n",
       "      <td>USW00093134</td>\n",
       "      <td>LOS ANGELES DOWNTOWN USC, CA US</td>\n",
       "      <td>2016-01-04</td>\n",
       "      <td>1.34</td>\n",
       "      <td>1.0</td>\n",
       "      <td>69</td>\n",
       "      <td>55</td>\n",
       "      <td>270.0</td>\n",
       "      <td>280.0</td>\n",
       "      <td>8.1</td>\n",
       "      <td>14.1</td>\n",
       "    </tr>\n",
       "    <tr>\n",
       "      <th>4</th>\n",
       "      <td>USW00093134</td>\n",
       "      <td>LOS ANGELES DOWNTOWN USC, CA US</td>\n",
       "      <td>2016-01-05</td>\n",
       "      <td>2.46</td>\n",
       "      <td>1.0</td>\n",
       "      <td>59</td>\n",
       "      <td>49</td>\n",
       "      <td>140.0</td>\n",
       "      <td>140.0</td>\n",
       "      <td>10.1</td>\n",
       "      <td>16.1</td>\n",
       "    </tr>\n",
       "  </tbody>\n",
       "</table>\n",
       "</div>"
      ],
      "text/plain": [
       "       STATION                             NAME       DATE  AWND  PRCP  TMAX  \\\n",
       "0  USW00093134  LOS ANGELES DOWNTOWN USC, CA US 2016-01-01  2.46   0.0    64   \n",
       "1  USW00093134  LOS ANGELES DOWNTOWN USC, CA US 2016-01-02  2.01   0.0    65   \n",
       "2  USW00093134  LOS ANGELES DOWNTOWN USC, CA US 2016-01-03  0.67   0.0    62   \n",
       "3  USW00093134  LOS ANGELES DOWNTOWN USC, CA US 2016-01-04  1.34   1.0    69   \n",
       "4  USW00093134  LOS ANGELES DOWNTOWN USC, CA US 2016-01-05  2.46   1.0    59   \n",
       "\n",
       "   TMIN   WDF2   WDF5  WSF2  WSF5  \n",
       "0    43   10.0   30.0   8.1  11.0  \n",
       "1    47  270.0   30.0   6.0   8.9  \n",
       "2    44  150.0  150.0  10.1  14.1  \n",
       "3    55  270.0  280.0   8.1  14.1  \n",
       "4    49  140.0  140.0  10.1  16.1  "
      ]
     },
     "execution_count": 9,
     "metadata": {},
     "output_type": "execute_result"
    }
   ],
   "source": [
    "data = data.drop(['PGTM','TAVG','WT01','WT02','WT08'],axis = 'columns')\n",
    "data.head()"
   ]
  },
  {
   "cell_type": "markdown",
   "id": "b71b4954",
   "metadata": {},
   "source": [
    "### Performing some Exploratory Data Analysis on text and datetime features"
   ]
  },
  {
   "cell_type": "code",
   "execution_count": 10,
   "id": "232d6614",
   "metadata": {},
   "outputs": [],
   "source": [
    "#data.STATION.value_counts()\n",
    "#Since all have same value, dropping this feature\n",
    "data = data.drop(['STATION'],axis='columns')"
   ]
  },
  {
   "cell_type": "code",
   "execution_count": 11,
   "id": "7158c725",
   "metadata": {},
   "outputs": [],
   "source": [
    "#data.NAME.value_counts()\n",
    "#Since all have same value, dropping this feature\n",
    "data = data.drop(['NAME'],axis='columns')"
   ]
  },
  {
   "cell_type": "code",
   "execution_count": 12,
   "id": "1fc2e6c3",
   "metadata": {},
   "outputs": [],
   "source": [
    "#data.DATE.nunique()\n",
    "#Since all values are different, dropping this row for now since this is the basic version of the model.\n",
    "#Later, in the advanced version, will try to categorize based on d,m,y etc.\n",
    "data = data.drop(['DATE'],axis = 'columns')"
   ]
  },
  {
   "cell_type": "code",
   "execution_count": 13,
   "id": "378e28b9",
   "metadata": {},
   "outputs": [],
   "source": [
    "#finding and dropping duplicates\n",
    "data.duplicated().sum()\n",
    "data.drop_duplicates(inplace = True)\n",
    "data.reset_index(drop=True, inplace=True)"
   ]
  },
  {
   "cell_type": "code",
   "execution_count": 14,
   "id": "949705c7",
   "metadata": {},
   "outputs": [
    {
     "data": {
      "text/plain": [
       "AWND     True\n",
       "PRCP    False\n",
       "TMAX    False\n",
       "TMIN    False\n",
       "WDF2     True\n",
       "WDF5     True\n",
       "WSF2     True\n",
       "WSF5     True\n",
       "dtype: bool"
      ]
     },
     "execution_count": 14,
     "metadata": {},
     "output_type": "execute_result"
    }
   ],
   "source": [
    "#checking for remaining null values before performing simple imputation\n",
    "data.isnull().any()"
   ]
  },
  {
   "cell_type": "code",
   "execution_count": 15,
   "id": "14c1c9f3",
   "metadata": {},
   "outputs": [],
   "source": [
    "#imputing the null values with mode\n",
    "for i in data.columns:\n",
    "    if data[i].isnull().any():\n",
    "        data[i].fillna(data[i].mode()[0], inplace=True)"
   ]
  },
  {
   "cell_type": "code",
   "execution_count": 16,
   "id": "aff87586",
   "metadata": {},
   "outputs": [
    {
     "data": {
      "text/plain": [
       "AWND    False\n",
       "PRCP    False\n",
       "TMAX    False\n",
       "TMIN    False\n",
       "WDF2    False\n",
       "WDF5    False\n",
       "WSF2    False\n",
       "WSF5    False\n",
       "dtype: bool"
      ]
     },
     "execution_count": 16,
     "metadata": {},
     "output_type": "execute_result"
    }
   ],
   "source": [
    "#finally checking to see if all null values have been dealt with\n",
    "data.isnull().any()"
   ]
  },
  {
   "cell_type": "code",
   "execution_count": 31,
   "id": "c855e02c",
   "metadata": {},
   "outputs": [
    {
     "data": {
      "text/plain": [
       "<AxesSubplot:>"
      ]
     },
     "execution_count": 31,
     "metadata": {},
     "output_type": "execute_result"
    },
    {
     "data": {
      "image/png": "[encoded data removed]",
      "text/plain": [
       "<Figure size 432x288 with 2 Axes>"
      ]
     },
     "metadata": {
      "needs_background": "light"
     },
     "output_type": "display_data"
    }
   ],
   "source": [
    "#Showing that all null values have been dealt with\n",
    "sns.heatmap(data.isnull())"
   ]
  },
  {
   "cell_type": "markdown",
   "id": "f40d2655",
   "metadata": {},
   "source": [
    "## Feature Selection (Selecting features based on statistical analysis)"
   ]
  },
  {
   "cell_type": "markdown",
   "id": "f5e3c930",
   "metadata": {},
   "source": [
    "### Chi Square Test"
   ]
  },
  {
   "cell_type": "code",
   "execution_count": 17,
   "id": "6bbe1965",
   "metadata": {},
   "outputs": [
    {
     "data": {
      "text/plain": [
       "(array([  78.99217899,  318.97057904,   53.99434374, 2307.72024401,\n",
       "        1826.18067938,   32.22783028,   83.7298769 ]),\n",
       " array([6.23563041e-19, 2.42735069e-71, 2.01067594e-13, 0.00000000e+00,\n",
       "        0.00000000e+00, 1.37112662e-08, 5.67214961e-20]))"
      ]
     },
     "execution_count": 17,
     "metadata": {},
     "output_type": "execute_result"
    }
   ],
   "source": [
    "from sklearn.feature_selection import chi2\n",
    "X = data.drop(['PRCP'],axis='columns')\n",
    "y = data.PRCP\n",
    "chi_scores = chi2(X,y)\n",
    "chi_scores"
   ]
  },
  {
   "cell_type": "code",
   "execution_count": 18,
   "id": "a7b9442c",
   "metadata": {},
   "outputs": [
    {
     "data": {
      "text/plain": [
       "<AxesSubplot:>"
      ]
     },
     "execution_count": 18,
     "metadata": {},
     "output_type": "execute_result"
    },
    {
     "data": {
      "image/png": "[encoded data removed]",
      "text/plain": [
       "<Figure size 432x288 with 1 Axes>"
      ]
     },
     "metadata": {
      "needs_background": "light"
     },
     "output_type": "display_data"
    }
   ],
   "source": [
    "p_values = pd.Series(chi_scores[1],index = X.columns)\n",
    "p_values.sort_values(ascending = False , inplace = True)\n",
    "p_values.plot.bar()"
   ]
  },
  {
   "cell_type": "markdown",
   "id": "cf805b49",
   "metadata": {},
   "source": [
    "### Since WSF2 has high p-value, it says that this variables is independent of the repsone and can not be considered for model training"
   ]
  },
  {
   "cell_type": "code",
   "execution_count": 19,
   "id": "e8e31c70",
   "metadata": {},
   "outputs": [
    {
     "data": {
      "text/html": [
       "<div>\n",
       "<style scoped>\n",
       "    .dataframe tbody tr th:only-of-type {\n",
       "        vertical-align: middle;\n",
       "    }\n",
       "\n",
       "    .dataframe tbody tr th {\n",
       "        vertical-align: top;\n",
       "    }\n",
       "\n",
       "    .dataframe thead th {\n",
       "        text-align: right;\n",
       "    }\n",
       "</style>\n",
       "<table border=\"1\" class=\"dataframe\">\n",
       "  <thead>\n",
       "    <tr style=\"text-align: right;\">\n",
       "      <th></th>\n",
       "      <th>AWND</th>\n",
       "      <th>TMAX</th>\n",
       "      <th>TMIN</th>\n",
       "      <th>WDF2</th>\n",
       "      <th>WDF5</th>\n",
       "      <th>WSF5</th>\n",
       "    </tr>\n",
       "  </thead>\n",
       "  <tbody>\n",
       "    <tr>\n",
       "      <th>0</th>\n",
       "      <td>2.46</td>\n",
       "      <td>64</td>\n",
       "      <td>43</td>\n",
       "      <td>10.0</td>\n",
       "      <td>30.0</td>\n",
       "      <td>11.0</td>\n",
       "    </tr>\n",
       "    <tr>\n",
       "      <th>1</th>\n",
       "      <td>2.01</td>\n",
       "      <td>65</td>\n",
       "      <td>47</td>\n",
       "      <td>270.0</td>\n",
       "      <td>30.0</td>\n",
       "      <td>8.9</td>\n",
       "    </tr>\n",
       "    <tr>\n",
       "      <th>2</th>\n",
       "      <td>0.67</td>\n",
       "      <td>62</td>\n",
       "      <td>44</td>\n",
       "      <td>150.0</td>\n",
       "      <td>150.0</td>\n",
       "      <td>14.1</td>\n",
       "    </tr>\n",
       "    <tr>\n",
       "      <th>3</th>\n",
       "      <td>1.34</td>\n",
       "      <td>69</td>\n",
       "      <td>55</td>\n",
       "      <td>270.0</td>\n",
       "      <td>280.0</td>\n",
       "      <td>14.1</td>\n",
       "    </tr>\n",
       "    <tr>\n",
       "      <th>4</th>\n",
       "      <td>2.46</td>\n",
       "      <td>59</td>\n",
       "      <td>49</td>\n",
       "      <td>140.0</td>\n",
       "      <td>140.0</td>\n",
       "      <td>16.1</td>\n",
       "    </tr>\n",
       "  </tbody>\n",
       "</table>\n",
       "</div>"
      ],
      "text/plain": [
       "   AWND  TMAX  TMIN   WDF2   WDF5  WSF5\n",
       "0  2.46    64    43   10.0   30.0  11.0\n",
       "1  2.01    65    47  270.0   30.0   8.9\n",
       "2  0.67    62    44  150.0  150.0  14.1\n",
       "3  1.34    69    55  270.0  280.0  14.1\n",
       "4  2.46    59    49  140.0  140.0  16.1"
      ]
     },
     "execution_count": 19,
     "metadata": {},
     "output_type": "execute_result"
    }
   ],
   "source": [
    "data = X.drop(['WSF2'],axis = 'columns')\n",
    "data.head()"
   ]
  },
  {
   "cell_type": "markdown",
   "id": "f3060a36",
   "metadata": {},
   "source": [
    "## Normalization (Setting a scale for all the features in the dataset)"
   ]
  },
  {
   "cell_type": "code",
   "execution_count": 20,
   "id": "8750a16a",
   "metadata": {},
   "outputs": [],
   "source": [
    "from sklearn.preprocessing import MinMaxScaler\n",
    "from sklearn.model_selection import train_test_split\n",
    "from sklearn import metrics\n",
    "from sklearn.metrics import accuracy_score,f1_score,roc_auc_score,precision_score,recall_score,confusion_matrix,classification_report\n",
    "X_train,X_test,y_train,y_test = train_test_split(data,y,train_size = 0.8)\n",
    "scaler = MinMaxScaler()\n",
    "X_w_train = scaler.fit_transform(X_train)\n",
    "X_train_x = pd.DataFrame(X_w_train,columns = X_train.columns)\n",
    "X_w_test = scaler.transform(X_test)\n",
    "X_test_x = pd.DataFrame(X_w_test,columns = X_test.columns)"
   ]
  },
  {
   "cell_type": "code",
   "execution_count": 21,
   "id": "d8c51253",
   "metadata": {},
   "outputs": [],
   "source": [
    "# defining a function to evaluate my models based on certain metrics(all proposed ones except roc_auc which has been done separately)\n",
    "def print_score(clf, X_train, y_train, X_test, y_test, train=True):\n",
    "    if train:\n",
    "        pred = clf.predict(X_train)\n",
    "        clf_report = pd.DataFrame(classification_report(y_train, pred, output_dict=True))\n",
    "        print(\"Train Result:\\n================================================\")\n",
    "        print(f\"Accuracy Score: {accuracy_score(y_train, pred) * 100:.2f}%\")\n",
    "        print(\"_______________________________________________\")\n",
    "        print(f\"CLASSIFICATION REPORT:\\n{clf_report}\")\n",
    "        print(\"_______________________________________________\")\n",
    "        print(f\"Confusion Matrix: \\n {confusion_matrix(y_train, pred)}\\n\")        \n",
    "    elif train==False:\n",
    "        pred = clf.predict(X_test)\n",
    "        clf_report = pd.DataFrame(classification_report(y_test, pred, output_dict=True))\n",
    "        print(\"Test Result:\\n================================================\")        \n",
    "        print(f\"Accuracy Score: {accuracy_score(y_test, pred) * 100:.2f}%\")\n",
    "        print(\"_______________________________________________\")\n",
    "        print(f\"CLASSIFICATION REPORT:\\n{clf_report}\")\n",
    "        print(\"_______________________________________________\")\n",
    "        print(f\"Confusion Matrix: \\n {confusion_matrix(y_test, pred)}\\n\")"
   ]
  },
  {
   "cell_type": "markdown",
   "id": "4a55814c",
   "metadata": {},
   "source": [
    "## Implementing Different Models"
   ]
  },
  {
   "cell_type": "markdown",
   "id": "1d624807",
   "metadata": {},
   "source": [
    "### Logistic Regression"
   ]
  },
  {
   "cell_type": "code",
   "execution_count": 22,
   "id": "1cba79e5",
   "metadata": {},
   "outputs": [
    {
     "name": "stdout",
     "output_type": "stream",
     "text": [
      "Best params: {'C': 16.768329368110066, 'penalty': 'l2'}\n",
      "ROC_AUC score is : 0.9339288588443586\n",
      "Test Result:\n",
      "================================================\n",
      "Accuracy Score: 91.23%\n",
      "_______________________________________________\n",
      "CLASSIFICATION REPORT:\n",
      "                  0.0        1.0  accuracy   macro avg  weighted avg\n",
      "precision    0.930029   0.636364  0.912329    0.783196      0.899456\n",
      "recall       0.975535   0.368421  0.912329    0.671978      0.912329\n",
      "f1-score     0.952239   0.466667  0.912329    0.709453      0.901686\n",
      "support    327.000000  38.000000  0.912329  365.000000    365.000000\n",
      "_______________________________________________\n",
      "Confusion Matrix: \n",
      " [[319   8]\n",
      " [ 24  14]]\n",
      "\n"
     ]
    },
    {
     "data": {
      "image/png": "[encoded data removed]",
      "text/plain": [
       "<Figure size 432x288 with 1 Axes>"
      ]
     },
     "metadata": {
      "needs_background": "light"
     },
     "output_type": "display_data"
    },
    {
     "data": {
      "text/plain": [
       "<AxesSubplot:>"
      ]
     },
     "execution_count": 22,
     "metadata": {},
     "output_type": "execute_result"
    },
    {
     "data": {
      "image/png": "[encoded data removed]",
      "text/plain": [
       "<Figure size 432x288 with 2 Axes>"
      ]
     },
     "metadata": {
      "needs_background": "light"
     },
     "output_type": "display_data"
    }
   ],
   "source": [
    "from sklearn.linear_model import LogisticRegression\n",
    "from sklearn.model_selection import GridSearchCV\n",
    "param_grid = {'C' : np.logspace(-4, 4, 50),'penalty' :['l2']} \n",
    "\n",
    "grid = GridSearchCV(LogisticRegression(), param_grid, cv=5,scoring = 'roc_auc')\n",
    "grid.fit(X_train_x, y_train)\n",
    "\n",
    "best_params = grid.best_params_\n",
    "print(f\"Best params: {best_params}\")\n",
    "\n",
    "lr = LogisticRegression(**best_params)\n",
    "lr.fit(X_train_x,y_train)\n",
    "y_preds = lr.predict_proba(X_test_x)\n",
    "print(\"ROC_AUC score is :\",end = ' ')\n",
    "print(roc_auc_score(y_test,y_preds[:,1]))\n",
    "print_score(lr, X_train_x, y_train, X_test_x, y_test,train = False)\n",
    "fpr, tpr, threshold = metrics.roc_curve(y_test, y_preds[:,1])\n",
    "roc_auc = metrics.auc(fpr, tpr)\n",
    "plt.title('Receiver Operating Characteristic')\n",
    "plt.plot(fpr, tpr, 'b', label = 'AUC = %0.2f' % roc_auc)\n",
    "plt.legend(loc = 'lower right')\n",
    "plt.plot([0, 1], [0, 1],'r--')\n",
    "plt.xlim([0, 1])\n",
    "plt.ylim([0, 1])\n",
    "plt.ylabel('True Positive Rate')\n",
    "plt.xlabel('False Positive Rate')\n",
    "plt.show()\n",
    "labels = [\"True Neg\",\"False Pos\",\"False Neg\",\"True Pos\"]\n",
    "labels = np.asarray(labels).reshape(2,2)\n",
    "sns.heatmap(confusion_matrix(y_test, lr.predict(X_test_x)),annot = labels,fmt='',cmap = \"YlGnBu\")"
   ]
  },
  {
   "cell_type": "markdown",
   "id": "e3ffbdd5",
   "metadata": {},
   "source": [
    "### Support Vector Classifier"
   ]
  },
  {
   "cell_type": "code",
   "execution_count": 23,
   "id": "af1f9070",
   "metadata": {},
   "outputs": [
    {
     "name": "stdout",
     "output_type": "stream",
     "text": [
      "Best params: {'C': 100, 'gamma': 0.1, 'kernel': 'rbf'}\n",
      "ROC_AUC score is : 0.939562208272976\n",
      "Test Result:\n",
      "================================================\n",
      "Accuracy Score: 91.51%\n",
      "_______________________________________________\n",
      "CLASSIFICATION REPORT:\n",
      "                  0.0        1.0  accuracy   macro avg  weighted avg\n",
      "precision    0.925287   0.705882  0.915068    0.815585      0.902445\n",
      "recall       0.984709   0.315789  0.915068    0.650249      0.915068\n",
      "f1-score     0.954074   0.436364  0.915068    0.695219      0.900175\n",
      "support    327.000000  38.000000  0.915068  365.000000    365.000000\n",
      "_______________________________________________\n",
      "Confusion Matrix: \n",
      " [[322   5]\n",
      " [ 26  12]]\n",
      "\n"
     ]
    },
    {
     "data": {
      "image/png": "[encoded data removed]",
      "text/plain": [
       "<Figure size 432x288 with 1 Axes>"
      ]
     },
     "metadata": {
      "needs_background": "light"
     },
     "output_type": "display_data"
    },
    {
     "data": {
      "text/plain": [
       "<AxesSubplot:>"
      ]
     },
     "execution_count": 23,
     "metadata": {},
     "output_type": "execute_result"
    },
    {
     "data": {
      "image/png": "[encoded data removed]",
      "text/plain": [
       "<Figure size 432x288 with 2 Axes>"
      ]
     },
     "metadata": {
      "needs_background": "light"
     },
     "output_type": "display_data"
    }
   ],
   "source": [
    "from sklearn.model_selection import GridSearchCV\n",
    "from sklearn.svm import SVC\n",
    "param_grid = {'C': [0.01, 0.1, 0.5, 1, 10, 100], \n",
    "              'gamma': [1, 0.75, 0.5, 0.25, 0.1, 0.01, 0.001], \n",
    "              'kernel': ['rbf', 'poly', 'linear']} \n",
    "\n",
    "grid = GridSearchCV(SVC(), param_grid,cv=5)\n",
    "grid.fit(X_train_x, y_train)\n",
    "\n",
    "best_params = grid.best_params_\n",
    "print(f\"Best params: {best_params}\")\n",
    "\n",
    "svm = SVC(**best_params,probability = True)\n",
    "svm.fit(X_train_x, y_train)\n",
    "y_preds = svm.predict_proba(X_test_x)\n",
    "print(\"ROC_AUC score is :\",end = ' ')\n",
    "print(roc_auc_score(y_test,y_preds[:,1]))\n",
    "print_score(svm, X_train_x, y_train, X_test_x, y_test,train = False)\n",
    "fpr, tpr, threshold = metrics.roc_curve(y_test, y_preds[:,1])\n",
    "roc_auc = metrics.auc(fpr, tpr)\n",
    "plt.title('Receiver Operating Characteristic')\n",
    "plt.plot(fpr, tpr, 'b', label = 'AUC = %0.2f' % roc_auc)\n",
    "plt.legend(loc = 'lower right')\n",
    "plt.plot([0, 1], [0, 1],'r--')\n",
    "plt.xlim([0, 1])\n",
    "plt.ylim([0, 1])\n",
    "plt.ylabel('True Positive Rate')\n",
    "plt.xlabel('False Positive Rate')\n",
    "plt.show()\n",
    "labels = [\"True Neg\",\"False Pos\",\"False Neg\",\"True Pos\"]\n",
    "labels = np.asarray(labels).reshape(2,2)\n",
    "sns.heatmap(confusion_matrix(y_test, svm.predict(X_test_x)),annot = labels,fmt='',cmap = 'YlGnBu')"
   ]
  },
  {
   "cell_type": "markdown",
   "id": "9df039f9",
   "metadata": {},
   "source": [
    "### Decision Tree Classifier"
   ]
  },
  {
   "cell_type": "code",
   "execution_count": 24,
   "id": "48eb510a",
   "metadata": {},
   "outputs": [
    {
     "name": "stdout",
     "output_type": "stream",
     "text": [
      "ROC_AUC score is : 0.7478673748591662\n",
      "Test Result:\n",
      "================================================\n",
      "Accuracy Score: 92.33%\n",
      "_______________________________________________\n",
      "CLASSIFICATION REPORT:\n",
      "                  0.0        1.0  accuracy   macro avg  weighted avg\n",
      "precision    0.946269   0.666667  0.923288    0.806468      0.917159\n",
      "recall       0.969419   0.526316  0.923288    0.747867      0.923288\n",
      "f1-score     0.957704   0.588235  0.923288    0.772970      0.919239\n",
      "support    327.000000  38.000000  0.923288  365.000000    365.000000\n",
      "_______________________________________________\n",
      "Confusion Matrix: \n",
      " [[317  10]\n",
      " [ 18  20]]\n",
      "\n"
     ]
    },
    {
     "data": {
      "image/png": "[encoded data removed]",
      "text/plain": [
       "<Figure size 432x288 with 1 Axes>"
      ]
     },
     "metadata": {
      "needs_background": "light"
     },
     "output_type": "display_data"
    },
    {
     "data": {
      "text/plain": [
       "<AxesSubplot:>"
      ]
     },
     "execution_count": 24,
     "metadata": {},
     "output_type": "execute_result"
    },
    {
     "data": {
      "image/png": "[encoded data removed]",
      "text/plain": [
       "<Figure size 432x288 with 2 Axes>"
      ]
     },
     "metadata": {
      "needs_background": "light"
     },
     "output_type": "display_data"
    }
   ],
   "source": [
    "from sklearn.model_selection import GridSearchCV\n",
    "from sklearn.tree import DecisionTreeClassifier\n",
    "# param_grid = {} \n",
    "\n",
    "# grid = GridSearchCV(DecisionTreeClassifier(), param_grid,cv=5)\n",
    "# grid.fit(X_train_x, y_train)\n",
    "\n",
    "# best_params = grid.best_params_\n",
    "# print(f\"Best params: {best_params}\")\n",
    "\n",
    "dt = DecisionTreeClassifier()\n",
    "dt.fit(X_train_x, y_train)\n",
    "y_preds = dt.predict_proba(X_test_x)\n",
    "print(\"ROC_AUC score is :\",end = ' ')\n",
    "print(roc_auc_score(y_test,y_preds[:,1]))\n",
    "print_score(dt, X_train_x, y_train, X_test_x, y_test,train = False)\n",
    "fpr, tpr, threshold = metrics.roc_curve(y_test, y_preds[:,1])\n",
    "roc_auc = metrics.auc(fpr, tpr)\n",
    "plt.title('Receiver Operating Characteristic')\n",
    "plt.plot(fpr, tpr, 'b', label = 'AUC = %0.2f' % roc_auc)\n",
    "plt.legend(loc = 'lower right')\n",
    "plt.plot([0, 1], [0, 1],'r--')\n",
    "plt.xlim([0, 1])\n",
    "plt.ylim([0, 1])\n",
    "plt.ylabel('True Positive Rate')\n",
    "plt.xlabel('False Positive Rate')\n",
    "plt.show()\n",
    "labels = [\"True Neg\",\"False Pos\",\"False Neg\",\"True Pos\"]\n",
    "labels = np.asarray(labels).reshape(2,2)\n",
    "sns.heatmap(confusion_matrix(y_test, dt.predict(X_test_x)),annot = labels,fmt='',cmap = 'YlGnBu')"
   ]
  },
  {
   "cell_type": "markdown",
   "id": "be43c236",
   "metadata": {},
   "source": [
    "### Gaussian Naive Bayes"
   ]
  },
  {
   "cell_type": "code",
   "execution_count": 25,
   "id": "3db56b75",
   "metadata": {},
   "outputs": [
    {
     "name": "stdout",
     "output_type": "stream",
     "text": [
      "ROC_AUC score is : 0.9043135361339127\n",
      "Test Result:\n",
      "================================================\n",
      "Accuracy Score: 88.22%\n",
      "_______________________________________________\n",
      "CLASSIFICATION REPORT:\n",
      "                  0.0        1.0  accuracy   macro avg  weighted avg\n",
      "precision    0.952229   0.450980  0.882192    0.701605      0.900044\n",
      "recall       0.914373   0.605263  0.882192    0.759818      0.882192\n",
      "f1-score     0.932917   0.516854  0.882192    0.724886      0.889601\n",
      "support    327.000000  38.000000  0.882192  365.000000    365.000000\n",
      "_______________________________________________\n",
      "Confusion Matrix: \n",
      " [[299  28]\n",
      " [ 15  23]]\n",
      "\n"
     ]
    },
    {
     "data": {
      "image/png": "[encoded data removed]",
      "text/plain": [
       "<Figure size 432x288 with 1 Axes>"
      ]
     },
     "metadata": {
      "needs_background": "light"
     },
     "output_type": "display_data"
    },
    {
     "data": {
      "text/plain": [
       "<AxesSubplot:>"
      ]
     },
     "execution_count": 25,
     "metadata": {},
     "output_type": "execute_result"
    },
    {
     "data": {
      "image/png": "[encoded data removed]",
      "text/plain": [
       "<Figure size 432x288 with 2 Axes>"
      ]
     },
     "metadata": {
      "needs_background": "light"
     },
     "output_type": "display_data"
    }
   ],
   "source": [
    "from sklearn.model_selection import GridSearchCV\n",
    "from sklearn.naive_bayes import GaussianNB\n",
    "# param_grid = {} \n",
    "\n",
    "# grid = GridSearchCV(GaussianNB(), param_grid,cv=5)\n",
    "# grid.fit(X_train_x, y_train)\n",
    "\n",
    "# best_params = grid.best_params_\n",
    "# print(f\"Best params: {best_params}\")\n",
    "\n",
    "gnb = GaussianNB()\n",
    "gnb.fit(X_train_x, y_train)\n",
    "y_preds = gnb.predict_proba(X_test_x)\n",
    "print(\"ROC_AUC score is :\",end = ' ')\n",
    "print(roc_auc_score(y_test,y_preds[:,1]))\n",
    "print_score(gnb, X_train_x, y_train, X_test_x, y_test,train = False)\n",
    "fpr, tpr, threshold = metrics.roc_curve(y_test, y_preds[:,1])\n",
    "roc_auc = metrics.auc(fpr, tpr)\n",
    "plt.title('Receiver Operating Characteristic')\n",
    "plt.plot(fpr, tpr, 'b', label = 'AUC = %0.2f' % roc_auc)\n",
    "plt.legend(loc = 'lower right')\n",
    "plt.plot([0, 1], [0, 1],'r--')\n",
    "plt.xlim([0, 1])\n",
    "plt.ylim([0, 1])\n",
    "plt.ylabel('True Positive Rate')\n",
    "plt.xlabel('False Positive Rate')\n",
    "plt.show()\n",
    "labels = [\"True Neg\",\"False Pos\",\"False Neg\",\"True Pos\"]\n",
    "labels = np.asarray(labels).reshape(2,2)\n",
    "sns.heatmap(confusion_matrix(y_test, gnb.predict(X_test_x)),annot = labels,fmt='',cmap = 'YlGnBu')"
   ]
  },
  {
   "cell_type": "markdown",
   "id": "71afccdc",
   "metadata": {},
   "source": [
    "### Gradient Boosting Classifier"
   ]
  },
  {
   "cell_type": "code",
   "execution_count": 26,
   "id": "d3ee311c",
   "metadata": {},
   "outputs": [
    {
     "name": "stdout",
     "output_type": "stream",
     "text": [
      "ROC_AUC score is : 0.9342105263157895\n",
      "Test Result:\n",
      "================================================\n",
      "Accuracy Score: 92.60%\n",
      "_______________________________________________\n",
      "CLASSIFICATION REPORT:\n",
      "                  0.0        1.0  accuracy   macro avg  weighted avg\n",
      "precision    0.943787   0.703704  0.926027    0.823745      0.918792\n",
      "recall       0.975535   0.500000  0.926027    0.737768      0.926027\n",
      "f1-score     0.959398   0.584615  0.926027    0.772007      0.920380\n",
      "support    327.000000  38.000000  0.926027  365.000000    365.000000\n",
      "_______________________________________________\n",
      "Confusion Matrix: \n",
      " [[319   8]\n",
      " [ 19  19]]\n",
      "\n"
     ]
    },
    {
     "data": {
      "image/png": "[encoded data removed]",
      "text/plain": [
       "<Figure size 432x288 with 1 Axes>"
      ]
     },
     "metadata": {
      "needs_background": "light"
     },
     "output_type": "display_data"
    },
    {
     "data": {
      "text/plain": [
       "<AxesSubplot:>"
      ]
     },
     "execution_count": 26,
     "metadata": {},
     "output_type": "execute_result"
    },
    {
     "data": {
      "image/png": "[encoded data removed]",
      "text/plain": [
       "<Figure size 432x288 with 2 Axes>"
      ]
     },
     "metadata": {
      "needs_background": "light"
     },
     "output_type": "display_data"
    }
   ],
   "source": [
    "from sklearn.model_selection import GridSearchCV\n",
    "from sklearn.ensemble import GradientBoostingClassifier\n",
    "# param_grid = {} \n",
    "\n",
    "# grid = GridSearchCV(GradientBoostingClassifier(), param_grid,cv=5)\n",
    "# grid.fit(X_train_x, y_train)\n",
    "\n",
    "# best_params = grid.best_params_\n",
    "# print(f\"Best params: {best_params}\")\n",
    "\n",
    "gb = GradientBoostingClassifier()\n",
    "gb.fit(X_train_x, y_train)\n",
    "y_preds = gb.predict_proba(X_test_x)\n",
    "print(\"ROC_AUC score is :\",end = ' ')\n",
    "print(roc_auc_score(y_test,y_preds[:,1]))\n",
    "print_score(gb, X_train_x, y_train, X_test_x, y_test,train = False)\n",
    "fpr, tpr, threshold = metrics.roc_curve(y_test, y_preds[:,1])\n",
    "roc_auc = metrics.auc(fpr, tpr)\n",
    "plt.title('Receiver Operating Characteristic')\n",
    "plt.plot(fpr, tpr, 'b', label = 'AUC = %0.2f' % roc_auc)\n",
    "plt.legend(loc = 'lower right')\n",
    "plt.plot([0, 1], [0, 1],'r--')\n",
    "plt.xlim([0, 1])\n",
    "plt.ylim([0, 1])\n",
    "plt.ylabel('True Positive Rate')\n",
    "plt.xlabel('False Positive Rate')\n",
    "plt.show()\n",
    "labels = [\"True Neg\",\"False Pos\",\"False Neg\",\"True Pos\"]\n",
    "labels = np.asarray(labels).reshape(2,2)\n",
    "sns.heatmap(confusion_matrix(y_test, dt.predict(X_test_x)),annot = labels,fmt='',cmap = 'YlGnBu')"
   ]
  },
  {
   "cell_type": "markdown",
   "id": "6cf5dd2c",
   "metadata": {},
   "source": [
    "### Random Forest Classifier"
   ]
  },
  {
   "cell_type": "code",
   "execution_count": 27,
   "id": "707d6240",
   "metadata": {},
   "outputs": [
    {
     "name": "stdout",
     "output_type": "stream",
     "text": [
      "ROC_AUC score is : 0.9191211974891357\n",
      "Test Result:\n",
      "================================================\n",
      "Accuracy Score: 92.33%\n",
      "_______________________________________________\n",
      "CLASSIFICATION REPORT:\n",
      "                  0.0        1.0  accuracy   macro avg  weighted avg\n",
      "precision    0.935860   0.727273  0.923288    0.831566      0.914144\n",
      "recall       0.981651   0.421053  0.923288    0.701352      0.923288\n",
      "f1-score     0.958209   0.533333  0.923288    0.745771      0.913975\n",
      "support    327.000000  38.000000  0.923288  365.000000    365.000000\n",
      "_______________________________________________\n",
      "Confusion Matrix: \n",
      " [[321   6]\n",
      " [ 22  16]]\n",
      "\n"
     ]
    },
    {
     "data": {
      "image/png": "[encoded data removed]",
      "text/plain": [
       "<Figure size 432x288 with 1 Axes>"
      ]
     },
     "metadata": {
      "needs_background": "light"
     },
     "output_type": "display_data"
    },
    {
     "data": {
      "text/plain": [
       "<AxesSubplot:>"
      ]
     },
     "execution_count": 27,
     "metadata": {},
     "output_type": "execute_result"
    },
    {
     "data": {
      "image/png": "[encoded data removed]",
      "text/plain": [
       "<Figure size 432x288 with 2 Axes>"
      ]
     },
     "metadata": {
      "needs_background": "light"
     },
     "output_type": "display_data"
    }
   ],
   "source": [
    "from sklearn.model_selection import GridSearchCV\n",
    "from sklearn.ensemble import RandomForestClassifier\n",
    "# param_grid = {} \n",
    "\n",
    "# grid = GridSearchCV(DecisionTreeClassifier(), param_grid,cv=5)\n",
    "# grid.fit(X_train_x, y_train)\n",
    "\n",
    "# best_params = grid.best_params_\n",
    "# print(f\"Best params: {best_params}\")\n",
    "\n",
    "rf = RandomForestClassifier()\n",
    "rf.fit(X_train_x, y_train)\n",
    "y_preds = rf.predict_proba(X_test_x)\n",
    "print(\"ROC_AUC score is :\",end = ' ')\n",
    "print(roc_auc_score(y_test,y_preds[:,1]))\n",
    "print_score(rf, X_train_x, y_train, X_test_x, y_test,train = False)\n",
    "fpr, tpr, threshold = metrics.roc_curve(y_test, y_preds[:,1])\n",
    "roc_auc = metrics.auc(fpr, tpr)\n",
    "plt.title('Receiver Operating Characteristic')\n",
    "plt.plot(fpr, tpr, 'b', label = 'AUC = %0.2f' % roc_auc)\n",
    "plt.legend(loc = 'lower right')\n",
    "plt.plot([0, 1], [0, 1],'r--')\n",
    "plt.xlim([0, 1])\n",
    "plt.ylim([0, 1])\n",
    "plt.ylabel('True Positive Rate')\n",
    "plt.xlabel('False Positive Rate')\n",
    "plt.show()\n",
    "labels = [\"True Neg\",\"False Pos\",\"False Neg\",\"True Pos\"]\n",
    "labels = np.asarray(labels).reshape(2,2)\n",
    "sns.heatmap(confusion_matrix(y_test, dt.predict(X_test_x)),annot = labels,fmt='',cmap = 'YlGnBu')"
   ]
  },
  {
   "cell_type": "markdown",
   "id": "33c0e25c",
   "metadata": {},
   "source": [
    "### XGB Classifier"
   ]
  },
  {
   "cell_type": "code",
   "execution_count": 28,
   "id": "ea355558",
   "metadata": {},
   "outputs": [
    {
     "name": "stdout",
     "output_type": "stream",
     "text": [
      "ROC_AUC score is : 0.9191211974891357\n",
      "Test Result:\n",
      "================================================\n",
      "Accuracy Score: 93.42%\n",
      "_______________________________________________\n",
      "CLASSIFICATION REPORT:\n",
      "                  0.0        1.0  accuracy   macro avg  weighted avg\n",
      "precision    0.949555   0.750000  0.934247    0.849777      0.928779\n",
      "recall       0.978593   0.552632  0.934247    0.765612      0.934247\n",
      "f1-score     0.963855   0.636364  0.934247    0.800110      0.929760\n",
      "support    327.000000  38.000000  0.934247  365.000000    365.000000\n",
      "_______________________________________________\n",
      "Confusion Matrix: \n",
      " [[320   7]\n",
      " [ 17  21]]\n",
      "\n"
     ]
    },
    {
     "data": {
      "image/png": "[encoded data removed]",
      "text/plain": [
       "<Figure size 432x288 with 1 Axes>"
      ]
     },
     "metadata": {
      "needs_background": "light"
     },
     "output_type": "display_data"
    },
    {
     "data": {
      "text/plain": [
       "<AxesSubplot:>"
      ]
     },
     "execution_count": 28,
     "metadata": {},
     "output_type": "execute_result"
    },
    {
     "data": {
      "image/png": "[encoded data removed]",
      "text/plain": [
       "<Figure size 432x288 with 2 Axes>"
      ]
     },
     "metadata": {
      "needs_background": "light"
     },
     "output_type": "display_data"
    }
   ],
   "source": [
    "from xgboost import XGBClassifier\n",
    "# param_grid = {} \n",
    "\n",
    "# grid = GridSearchCV(DecisionTreeClassifier(), param_grid,cv=5)\n",
    "# grid.fit(X_train_x, y_train)\n",
    "\n",
    "# best_params = grid.best_params_\n",
    "# print(f\"Best params: {best_params}\")\n",
    "\n",
    "xgb = XGBClassifier(use_label_encoder=False, eval_metric = 'error')\n",
    "xgb.fit(X_train_x, y_train)\n",
    "y_preds = rf.predict_proba(X_test_x)\n",
    "print(\"ROC_AUC score is :\",end = ' ')\n",
    "print(roc_auc_score(y_test,y_preds[:,1]))\n",
    "print_score(xgb, X_train_x, y_train, X_test_x, y_test,train = False)\n",
    "fpr, tpr, threshold = metrics.roc_curve(y_test, y_preds[:,1])\n",
    "roc_auc = metrics.auc(fpr, tpr)\n",
    "plt.title('Receiver Operating Characteristic')\n",
    "plt.plot(fpr, tpr, 'b', label = 'AUC = %0.2f' % roc_auc)\n",
    "plt.legend(loc = 'lower right')\n",
    "plt.plot([0, 1], [0, 1],'r--')\n",
    "plt.xlim([0, 1])\n",
    "plt.ylim([0, 1])\n",
    "plt.ylabel('True Positive Rate')\n",
    "plt.xlabel('False Positive Rate')\n",
    "plt.show()\n",
    "labels = [\"True Neg\",\"False Pos\",\"False Neg\",\"True Pos\"]\n",
    "labels = np.asarray(labels).reshape(2,2)\n",
    "sns.heatmap(confusion_matrix(y_test, dt.predict(X_test_x)),annot = labels,fmt='',cmap = 'YlGnBu')"
   ]
  },
  {
   "cell_type": "markdown",
   "id": "eb63f353",
   "metadata": {},
   "source": [
    "### Cat Boost Classifier"
   ]
  },
  {
   "cell_type": "code",
   "execution_count": 29,
   "id": "5d275b93",
   "metadata": {},
   "outputs": [
    {
     "name": "stdout",
     "output_type": "stream",
     "text": [
      "ROC_AUC score is : 0.9191211974891357\n",
      "Test Result:\n",
      "================================================\n",
      "Accuracy Score: 92.33%\n",
      "_______________________________________________\n",
      "CLASSIFICATION REPORT:\n",
      "                  0.0        1.0  accuracy   macro avg  weighted avg\n",
      "precision    0.941003   0.692308  0.923288    0.816655      0.915111\n",
      "recall       0.975535   0.473684  0.923288    0.724610      0.923288\n",
      "f1-score     0.957958   0.562500  0.923288    0.760229      0.916787\n",
      "support    327.000000  38.000000  0.923288  365.000000    365.000000\n",
      "_______________________________________________\n",
      "Confusion Matrix: \n",
      " [[319   8]\n",
      " [ 20  18]]\n",
      "\n"
     ]
    },
    {
     "data": {
      "image/png": "[encoded data removed]",
      "text/plain": [
       "<Figure size 432x288 with 1 Axes>"
      ]
     },
     "metadata": {
      "needs_background": "light"
     },
     "output_type": "display_data"
    },
    {
     "data": {
      "text/plain": [
       "<AxesSubplot:>"
      ]
     },
     "execution_count": 29,
     "metadata": {},
     "output_type": "execute_result"
    },
    {
     "data": {
      "image/png": "[encoded data removed]",
      "text/plain": [
       "<Figure size 432x288 with 2 Axes>"
      ]
     },
     "metadata": {
      "needs_background": "light"
     },
     "output_type": "display_data"
    }
   ],
   "source": [
    "from catboost import CatBoostClassifier\n",
    "# param_grid = {} \n",
    "\n",
    "# grid = GridSearchCV(DecisionTreeClassifier(), param_grid,cv=5)\n",
    "# grid.fit(X_train_x, y_train)\n",
    "\n",
    "# best_params = grid.best_params_\n",
    "# print(f\"Best params: {best_params}\")\n",
    "\n",
    "cat = CatBoostClassifier(logging_level='Silent')\n",
    "cat.fit(X_train_x, y_train)\n",
    "y_preds = rf.predict_proba(X_test_x)\n",
    "print(\"ROC_AUC score is :\",end = ' ')\n",
    "print(roc_auc_score(y_test,y_preds[:,1]))\n",
    "print_score(cat, X_train_x, y_train, X_test_x, y_test,train = False)\n",
    "fpr, tpr, threshold = metrics.roc_curve(y_test, y_preds[:,1])\n",
    "roc_auc = metrics.auc(fpr, tpr)\n",
    "plt.title('Receiver Operating Characteristic')\n",
    "plt.plot(fpr, tpr, 'b', label = 'AUC = %0.2f' % roc_auc)\n",
    "plt.legend(loc = 'lower right')\n",
    "plt.plot([0, 1], [0, 1],'r--')\n",
    "plt.xlim([0, 1])\n",
    "plt.ylim([0, 1])\n",
    "plt.ylabel('True Positive Rate')\n",
    "plt.xlabel('False Positive Rate')\n",
    "plt.show()\n",
    "labels = [\"True Neg\",\"False Pos\",\"False Neg\",\"True Pos\"]\n",
    "labels = np.asarray(labels).reshape(2,2)\n",
    "sns.heatmap(confusion_matrix(y_test, dt.predict(X_test_x)),annot = labels,fmt='',cmap = 'YlGnBu')"
   ]
  },
  {
   "cell_type": "markdown",
   "id": "aa7fe19a",
   "metadata": {},
   "source": [
    "#### Applied Hyperparameter training for all models but it did not result in any significant improvement in most cases."
   ]
  },
  {
   "cell_type": "markdown",
   "id": "336c6dde",
   "metadata": {},
   "source": [
    "## Model Comparision"
   ]
  },
  {
   "cell_type": "code",
   "execution_count": 30,
   "id": "1903c63b",
   "metadata": {},
   "outputs": [
    {
     "name": "stdout",
     "output_type": "stream",
     "text": [
      "Accuracy score\n",
      "LR: 0.932780 (0.019266)\n",
      "CART: 0.899840 (0.020838)\n",
      "NB: 0.886840 (0.016727)\n",
      "SVM: 0.934837 (0.019443)\n",
      "GBC: 0.934134 (0.024460)\n",
      "RF: 0.932773 (0.018659)\n",
      "XGB: 0.927976 (0.021169)\n",
      "CAT: 0.936193 (0.022357)\n",
      "\n",
      "ROC_AUC score\n",
      "LR: 0.936245 (0.028607)\n",
      "CART: 0.735001 (0.054927)\n",
      "NB: 0.889510 (0.024465)\n",
      "SVM: 0.936124 (0.027038)\n",
      "GBC: 0.917697 (0.037065)\n",
      "RF: 0.907821 (0.038175)\n",
      "XGB: 0.916630 (0.032658)\n",
      "CAT: 0.928849 (0.030465)\n",
      "\n"
     ]
    },
    {
     "data": {
      "image/png": "[encoded data removed]",
      "text/plain": [
       "<Figure size 432x288 with 1 Axes>"
      ]
     },
     "metadata": {
      "needs_background": "light"
     },
     "output_type": "display_data"
    },
    {
     "data": {
      "image/png": "[encoded data removed]",
      "text/plain": [
       "<Figure size 432x288 with 1 Axes>"
      ]
     },
     "metadata": {
      "needs_background": "light"
     },
     "output_type": "display_data"
    }
   ],
   "source": [
    "#Comparing models based on Accuracy score and ROC_AUC score using boxplots\n",
    "from sklearn import model_selection\n",
    "models = []\n",
    "models.append(('LR', lr))\n",
    "models.append(('CART', dt))\n",
    "models.append(('NB', gnb))\n",
    "models.append(('SVM', svm))\n",
    "models.append(('GBC', gb))\n",
    "models.append(('RF',rf))\n",
    "models.append(('XGB',xgb))\n",
    "models.append(('CAT',cat))\n",
    "results = []\n",
    "results2 = []\n",
    "names = []\n",
    "print(\"Accuracy score\")\n",
    "for name, model in models:\n",
    "    kfold = model_selection.KFold(n_splits=5)\n",
    "    cv_results = model_selection.cross_val_score(model, X_train_x, y_train, cv=kfold, scoring='accuracy')\n",
    "    results.append(cv_results)\n",
    "    names.append(name)\n",
    "    msg = \"%s: %f (%f)\" % (name, cv_results.mean(), cv_results.std())\n",
    "    print(msg)\n",
    "print('')\n",
    "print(\"ROC_AUC score\")\n",
    "for name, model in models:\n",
    "    kfold = model_selection.KFold(n_splits=5)\n",
    "    cv_results = model_selection.cross_val_score(model, X_train_x, y_train, cv=kfold, scoring='roc_auc')\n",
    "    results2.append(cv_results)\n",
    "    msg = \"%s: %f (%f)\" % (name, cv_results.mean(), cv_results.std())\n",
    "    print(msg)\n",
    "print('')\n",
    "fig = plt.figure()\n",
    "fig.suptitle('Accuracy')\n",
    "ax = fig.add_subplot(111)\n",
    "plt.boxplot(results)\n",
    "ax.set_xticklabels(names)\n",
    "plt.show()\n",
    "fig2 = plt.figure()\n",
    "fig2.suptitle('ROC_AUC score')\n",
    "ax2 = fig2.add_subplot(111)\n",
    "plt.boxplot(results2)\n",
    "ax2.set_xticklabels(names)\n",
    "plt.show()"
   ]
  },
  {
   "cell_type": "code",
   "execution_count": null,
   "id": "fdaab1ef",
   "metadata": {},
   "outputs": [],
   "source": []
  }
 ],
 "metadata": {
  "kernelspec": {
   "display_name": "Python 3 (ipykernel)",
   "language": "python",
   "name": "python3"
  },
  "language_info": {
   "codemirror_mode": {
    "name": "ipython",
    "version": 3
   },
   "file_extension": ".py",
   "mimetype": "text/x-python",
   "name": "python",
   "nbconvert_exporter": "python",
   "pygments_lexer": "ipython3",
   "version": "3.9.7"
  }
 },
 "nbformat": 4,
 "nbformat_minor": 5
}
